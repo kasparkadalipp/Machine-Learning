{
 "cells": [
  {
   "cell_type": "markdown",
   "metadata": {
    "id": "qmpZeRhwGmqX"
   },
   "source": [
    "# Homework #1\n",
    "## Introduction to supervised learning \n",
    "\n",
    "This colaboratory contains Homework #1 of the Machine Learning course, which is due **September 18, Sunday, midnight (23:59 EET time)**. To complete the homework, extract **(File -> Download .ipynb)** and submit to the course webpage.\n",
    "\n",
    "**NB! Links to your colaboratory will not be accepted as a solution!**\n",
    "\n",
    "## Submission's rules:\n",
    "\n",
    "1. Please, submit only .ipynb that you extract from the Colaboratory.\n",
    "2. Run your homework exercises before submitting (output should be present, preferably restart the kernel and press run all the cells).\n",
    "3. Do not change the description of tasks in red (even if there is a typo|mistake|etc).\n",
    "4. Please, make sure to avoid unnecessary long printouts.\n",
    "5. Each task should be solved right under the question of the task and not elsewhere.\n",
    "6. Solutions to both regular and bonus exercises should be submitted in one IPYNB file.\n",
    "\n",
    "Please, steer clear of copying someone else's work. If you discuss assignments with anyone in the course, please, mention their names here:\n",
    "1. Pooh"
   ]
  },
  {
   "cell_type": "markdown",
   "metadata": {
    "id": "HAatB_cDv6-X"
   },
   "source": [
    "##List of Homework's exercises:\n",
    "1. [EX1](#scrollTo=tz9XASPxeqDC) - 4 points\n",
    "2. [EX2](#scrollTo=BGVGqZGpxmzQ&uniqifier=1#) - 2 points\n",
    "4. [EX3](#scrollTo=7p4GMeGK-QGL&uniqifier=1) - 1 points\n",
    "5. [EX4](#scrollTo=nqV2c5sDc_f2&uniqifier=1) - 3 points\n",
    "6. [Bonus 1](#scrollTo=_2T9ydozzcb-&uniqifier=1) - 2 points\n",
    "7. [Bonus 2](#scrollTo=UkOtofaRjH8P&uniqifier=1) - up to 5 points"
   ]
  },
  {
   "cell_type": "markdown",
   "metadata": {
    "id": "NJIhqUhr40Ks"
   },
   "source": [
    "### Homework setup: \n",
    "Here we will load necessary libraries (NumPy and Pandas) and MNIST dataset "
   ]
  },
  {
   "cell_type": "code",
   "execution_count": 1,
   "metadata": {
    "colab": {
     "base_uri": "https://localhost:8080/"
    },
    "id": "bqp9Kj1g4yFb",
    "outputId": "f03f9080-d432-422a-ee1b-b8dd63e21ae7"
   },
   "outputs": [
    {
     "name": "stdout",
     "output_type": "stream",
     "text": [
      "images are of shape: (60000, 28, 28) and labels: (60000,)\n"
     ]
    }
   ],
   "source": [
    "import numpy as np # for matrix stuff\n",
    "import pandas as pd # to work with datasets\n",
    "import matplotlib.pyplot as plt # subjectively ugly plotting here\n",
    "from seaborn import countplot # a bit less ugly plotting\n",
    "\n",
    "# Getting MNIST one more time\n",
    "from tensorflow.keras.datasets import mnist\n",
    "(images, labels),(_, _) = mnist.load_data()\n",
    "images = images / 255 # normalising images\n",
    "\n",
    "print(f\"images are of shape: {images.shape} and labels: {labels.shape}\")\n",
    "\n",
    "# Subsample the images\n",
    "train_images = images[:2000]\n",
    "train_labels = labels[:2000]\n",
    "\n",
    "test_images = images[2000:3000]\n",
    "test_labels = labels[2000:3000]"
   ]
  },
  {
   "cell_type": "markdown",
   "metadata": {
    "id": "tz9XASPxeqDC"
   },
   "source": [
    "## Homework exercise 1 (4 points): KNN\n",
    "One very popular variation of Nearest Neighbour is K-nearest neighbour. In this algorithm a label for a new instance is chosen by majority vote by **`k`** of its nearest neighbors. \n",
    "\n",
    "The actual algorithm is not very different from vanila nearest neighbour:\n",
    "\n",
    "1. Compute distances to all points in the dataset\n",
    "2. Find the **`k`** closest points (you may consider using `np.argsort` function)\n",
    "3. Report the most popular label from these **`k`**. (maybe `np.bincount` can help)"
   ]
  },
  {
   "cell_type": "markdown",
   "metadata": {
    "id": "rtuWU_bTw8bf"
   },
   "source": [
    "<font color='red'>**(Homework exercise 1- a)** Implement the aformentioned algorithm in the cell below (2.0 points)</font>"
   ]
  },
  {
   "cell_type": "code",
   "execution_count": 2,
   "metadata": {
    "id": "J91vFM8yeqDC"
   },
   "outputs": [],
   "source": [
    "def dist(img1, img2):\n",
    "  ##### YOUR CODE STARTS #####\n",
    "  return np.sqrt(np.sum((img1 - img2)**2))\n",
    "  ##### YOUR CODE ENDS ##### \n",
    "\n",
    "def classify_knn(image, k):\n",
    "  ##### YOUR CODE STARTS #####\n",
    "  all_distances = [dist(image, train_image) for train_image in train_images]\n",
    "  closest_k = [train_labels[label_index] for label_index in np.argsort(all_distances)[:k]]\n",
    "  #print(closest_k) # (ex 1 - b) labels of K nearest labels.\n",
    "  prediction =  max(closest_k, key=closest_k.count)\n",
    "  ##### YOUR CODE ENDS ##### \n",
    "  return prediction"
   ]
  },
  {
   "cell_type": "markdown",
   "metadata": {
    "id": "lpP9LIhWeqDE"
   },
   "source": [
    "Test the function on an unseen `test_image`:"
   ]
  },
  {
   "cell_type": "code",
   "execution_count": 3,
   "metadata": {
    "colab": {
     "base_uri": "https://localhost:8080/"
    },
    "id": "a1ZjNWxzeqDF",
    "outputId": "eff459a8-57c9-478f-ed11-8210ed0b56da"
   },
   "outputs": [
    {
     "name": "stdout",
     "output_type": "stream",
     "text": [
      "Predicted class for the first image is 6 and the true label is 5\n"
     ]
    }
   ],
   "source": [
    "# Get the test image\n",
    "test_image = test_images[0] # in the class we used test_images[1]\n",
    "test_label = test_labels[0]\n",
    "print(f\"Predicted class for the first image is {classify_knn(test_image, 10)} and the true label is {test_label}\")"
   ]
  },
  {
   "cell_type": "markdown",
   "metadata": {
    "id": "RkIbSADBjCpB"
   },
   "source": [
    "<font color='red'>**(Homework exercise 1- b)** Modify the function `classify_knn` adding a print statement that outputs labels of K nearest neighbours. Report 10 labels of the nearest neighbours for the `test_image`. Why do you think these digits were among the closest neighbours? (1.0 point) </font>"
   ]
  },
  {
   "cell_type": "markdown",
   "metadata": {
    "id": "TzlSQ4zPqj-J"
   },
   "source": [
    "Answer to (b): <font color='blue'>Nearest neighbours for the test_image are 6, 6, 5, 9, 6, 6, 9, 5, 9, 6. It's not obvious at a glance that these images are actually the 10 closest neighbours of the test_image. I would have guessed that it could be wrongly classified as 9. But I suppose the distances of pixel values must be rather similar since it was near such a group.</font>"
   ]
  },
  {
   "cell_type": "markdown",
   "metadata": {
    "id": "Zwbtses-xJ5q"
   },
   "source": [
    "<font color='red'>**(Homework exercise 1- c)** Classify all test images and store them into a separate variable `test_predicted`, choose `k` = 5. Compute accuracy of your KNN model. **NB, don't forget to comment out all print statements inside the function!** (1.0 point) </font>"
   ]
  },
  {
   "cell_type": "code",
   "execution_count": 4,
   "metadata": {
    "colab": {
     "base_uri": "https://localhost:8080/"
    },
    "id": "jqLUqqBIxJkp",
    "outputId": "377cd9ee-36d0-4583-9045-a2e560e65267"
   },
   "outputs": [
    {
     "name": "stdout",
     "output_type": "stream",
     "text": [
      "Final accuracy of our nearest neighbor classifier is 91.7%. Not bad!\n"
     ]
    }
   ],
   "source": [
    "##### YOUR CODE STARTS #####\n",
    "test_predicted = np.array([classify_knn(img, 5) for img in test_images])\n",
    "n_correct = np.sum(test_predicted == test_labels)\n",
    "knn_accuracy = f\"{n_correct / 10}%\"\n",
    "##### YOUR CODE ENDS ##### \n",
    "print(f\"Final accuracy of our nearest neighbor classifier is {knn_accuracy}. Not bad!\")"
   ]
  },
  {
   "cell_type": "markdown",
   "metadata": {
    "id": "BGVGqZGpxmzQ"
   },
   "source": [
    "## Homework exercise 2 (2 points): exploring misclassified examples\n",
    "<font color='red'>**(Homework exercise 2- a)** Modify the visualisation code that we used during the practice session to visualise a grid of example images from different classes. Now, instead of random examples from each class, visualise misclassified examples from each class. For example, in the first column visualise images that had true label `0` but were classified as something else, in the second column, show examples of images that had label `1` but were misclassified into another class and so on. Add a title to each small image, in the following format `true_label, predicted_label` e.g. \"0, 6\" - image of class 0 was classified as 6. (1.5 points)\n",
    "\n",
    "**NB! you need a variable `test_predicted` to exist from the previous exercise to complete this exericse.** </font>"
   ]
  },
  {
   "cell_type": "code",
   "execution_count": 5,
   "metadata": {
    "colab": {
     "base_uri": "https://localhost:8080/",
     "height": 482
    },
    "id": "sXAKr_qY5dzh",
    "outputId": "496fa5eb-630b-4baa-992d-244604f427cd"
   },
   "outputs": [
    {
     "data": {
      "image/png": "[encoded data removed]",
      "text/plain": [
       "<Figure size 720x576 with 70 Axes>"
      ]
     },
     "metadata": {},
     "output_type": "display_data"
    }
   ],
   "source": [
    "num_classes = 10\n",
    "samples_per_class = 7 # Number of images from each class we want to see\n",
    "fig, axs = plt.subplots(samples_per_class, num_classes, figsize=(10.0, 8.0))\n",
    "for i in range(num_classes):\n",
    "    ##### YOUR CODE STARTS #####\n",
    "    # select ids of images that correspond to given class\n",
    "    idxs = np.flatnonzero((test_predicted == i) & (test_predicted != test_labels))\n",
    "    #print(f\"class {i} has {len(idxs)} misclassified values\")\n",
    "    # visualise\n",
    "    for j, index in enumerate(idxs[:samples_per_class]):\n",
    "        axs[j, i].imshow(test_images[index], cmap='gray')\n",
    "        axs[j, i].set_title(f\"{test_labels[index]}, {test_predicted[index]}\")\n",
    "        axs[j, i].axis('off')\n",
    "    ##### YOUR CODE ENDS ##### \n",
    "plt.setp(axs,xticks=[],yticks=[]) # set all axes off\n",
    "plt.show()"
   ]
  },
  {
   "cell_type": "markdown",
   "metadata": {
    "id": "73G5hFzrxrVc"
   },
   "source": [
    "<font color='red'>**(Homework exercise 2- b)** Take a careful look at the resulting figure. Are all classes equally missclassified? Why? Are there any classes that KNN confuses more often, why? (0.5 points) </font>"
   ]
  },
  {
   "cell_type": "markdown",
   "metadata": {
    "id": "rmNqSRNiysh-"
   },
   "source": [
    "Answer to (b): <font color='blue'>Classes certainly aren't equally misclassified. Numbers 0, 2, 3, 4, 8 seems to be misclassified fewer times and numbers 1, 5, 6, 7, 9 seem to be misclassified more often. This inequality is caused by some representations of numbers being rather similar. Similar looking numbers will be misclassified more often than those with a unique look.</font>\n",
    "\n",
    "<font color='blue'>For example, number 1 gets misclassified because it's represented as just a straight line in most cases and so it overlaps with many pixel values of other numbers, therefore possibly ending up in a wrong group.</font>"
   ]
  },
  {
   "cell_type": "markdown",
   "metadata": {
    "id": "yiyv1wdqImo-"
   },
   "source": [
    "## Preparation for homework exercises 3 and 4\n",
    "Next we will work with real-world dataset collected from taxis operating in New York City"
   ]
  },
  {
   "cell_type": "code",
   "execution_count": 6,
   "metadata": {
    "id": "vVU6bxgsNzEh"
   },
   "outputs": [],
   "source": [
    "# Code to read csv file into Colaboratory:\n",
    "!pip install -U -q PyDrive\n",
    "from pydrive.auth import GoogleAuth\n",
    "from pydrive.drive import GoogleDrive\n",
    "from google.colab import auth\n",
    "from oauth2client.client import GoogleCredentials\n",
    "\n",
    "# Authenticate and create the PyDrive client.\n",
    "auth.authenticate_user()\n",
    "gauth = GoogleAuth()\n",
    "gauth.credentials = GoogleCredentials.get_application_default()\n",
    "drive = GoogleDrive(gauth)\n",
    "\n",
    "link = 'https://drive.google.com/file/d/1XKhfq4WFHlTrvag48cD3VDJGfykYUJ-s' # The shareable link"
   ]
  },
  {
   "cell_type": "code",
   "execution_count": 7,
   "metadata": {
    "colab": {
     "base_uri": "https://localhost:8080/"
    },
    "id": "RmMEiS7ICgRB",
    "outputId": "817b2d0e-b199-4f08-d36a-11044d1958aa"
   },
   "outputs": [
    {
     "name": "stdout",
     "output_type": "stream",
     "text": [
      "Archive:  nyc_data_2.zip\n",
      "replace train_2M.csv? [y]es, [n]o, [A]ll, [N]one, [r]ename: N\n"
     ]
    }
   ],
   "source": [
    "downloaded = drive.CreateFile({'id':'1XKhfq4WFHlTrvag48cD3VDJGfykYUJ-s'}) \n",
    "downloaded.GetContentFile('nyc_data_2.zip')\n",
    "\n",
    "# After archive has been downloaded\n",
    "# unzip it\n",
    "!unzip nyc_data_2.zip"
   ]
  },
  {
   "cell_type": "markdown",
   "metadata": {
    "id": "GkSYWHwZEG9j"
   },
   "source": [
    "* `train_2M.csv` contains 2 million observations from NYC dataset (6 independent variables and fare_amount that we need to predict).\n",
    "* `test.csv` contains new observations, for which we have to estimate `fare_amount` based on train data.\n",
    "* `sample_submission.csv` - a sample submission file in the correct format (columns `key` and `fare_amount`). Every row in this file matches every row in `test.csv`.\n",
    "* `model.pickle` - file that contains trained model saved as a pickle (we are going to deal with it later)"
   ]
  },
  {
   "cell_type": "markdown",
   "metadata": {
    "id": "7p4GMeGK-QGL"
   },
   "source": [
    "## Homework exercise 3 (1 point): read and explore `model.pickle`"
   ]
  },
  {
   "cell_type": "markdown",
   "metadata": {
    "id": "Rsa9ojOlgmmk"
   },
   "source": [
    "<font color='red'> **(Homework exercise 3- a)** read in `model.pickle` file that you have downloaded from `nyc_data_2.zip` using `pickle.load()` function. (0.5 points)"
   ]
  },
  {
   "cell_type": "code",
   "execution_count": 8,
   "metadata": {
    "colab": {
     "base_uri": "https://localhost:8080/"
    },
    "id": "iezeRiy9gl_-",
    "outputId": "489c4d5f-f7f4-4427-e89a-3dca3c6183b6"
   },
   "outputs": [
    {
     "name": "stdout",
     "output_type": "stream",
     "text": [
      "Model: LinearRegression()\n",
      "Coefficents: 146.11142713372152 89.25911080575094 0.0523209145402177\n",
      "Features: abs_diff_longitude abs_diff_latitude passenger_count\n"
     ]
    }
   ],
   "source": [
    "import pickle\n",
    "import os\n",
    "\n",
    "##### YOUR CODE STARTS #####\n",
    "filename = \"model.pickle\"\n",
    "with open(filename, 'rb') as file:\n",
    "  lr = pickle.load(file)\n",
    "\n",
    "print(\"Model:\", lr)\n",
    "print(\"Coefficents:\",*[f\"{x:_}\" for x in lr.coef_[0] ])\n",
    "print(\"Features:\",*lr.feature_names_in_)\n",
    "##### YOUR CODE ENDS ##### "
   ]
  },
  {
   "cell_type": "markdown",
   "metadata": {
    "id": "mJQbGVDs-1vS"
   },
   "source": [
    "<font color='red'> **(Homework exercise 3- b)** next, explore the object using function `dir` and answer the following questions:\n",
    "* <font color='red'> Which model was saved into this object?  \n",
    "* <font color='red'> How many coefficients it has and what are their values?\n",
    "* <font color='red'>Can you find out which features have been used for training?\n",
    "\n",
    "<font color='red'>(0.5 points)\n"
   ]
  },
  {
   "cell_type": "markdown",
   "metadata": {
    "id": "-PoebBH_ii4H"
   },
   "source": [
    "Answers to (b): \n",
    "\n",
    "<font color='blue'>1) LinearRegression model was saved into this object. </font>\n",
    "\n",
    "<font color='blue'>2) It has 3 coefficients with values: 146.11142713372152, 89.25911080575094 and 0.0523209145402177. </font>\n",
    "\n",
    "<font color='blue'>3) Features used for training were: abs_diff_longitude, abs_diff_latitude and passenger_count.</font>\n",
    "\n"
   ]
  },
  {
   "cell_type": "markdown",
   "metadata": {
    "id": "d9MiatCvf_Qz"
   },
   "source": [
    "### Setting up Kaggle"
   ]
  },
  {
   "cell_type": "markdown",
   "metadata": {
    "id": "pFA64n-4T6YX"
   },
   "source": [
    "You need to have an account on Kaggle.com, before you proceed to the last exercise. When in your account, you need to download your API Token from kaggle. It's very easy:\n",
    "1. Click on your profile icon\n",
    "2. Go to **Account**\n",
    "3. In **API** you press **Create new API token**\n",
    "\n",
    "Now we load the file **kaggle.json** that you have downloaded, into this notebook:"
   ]
  },
  {
   "cell_type": "code",
   "execution_count": 9,
   "metadata": {
    "colab": {
     "base_uri": "https://localhost:8080/",
     "height": 74
    },
    "id": "28-oD6TfUlcZ",
    "outputId": "e2bf0257-d944-4037-d920-73c6554faa47"
   },
   "outputs": [
    {
     "data": {
      "text/html": [
       "\n",
       "     <input type=\"file\" id=\"files-311661a7-f21b-4692-b052-c2e6be12ab40\" name=\"files[]\" multiple disabled\n",
       "        style=\"border:none\" />\n",
       "     <output id=\"result-311661a7-f21b-4692-b052-c2e6be12ab40\">\n",
       "      Upload widget is only available when the cell has been executed in the\n",
       "      current browser session. Please rerun this cell to enable.\n",
       "      </output>\n",
       "      <script>// Copyright 2017 Google LLC\n",
       "//\n",
       "// Licensed under the Apache License, Version 2.0 (the \"License\");\n",
       "// you may not use this file except in compliance with the License.\n",
       "// You may obtain a copy of the License at\n",
       "//\n",
       "//      http://www.apache.org/licenses/LICENSE-2.0\n",
       "//\n",
       "// Unless required by applicable law or agreed to in writing, software\n",
       "// distributed under the License is distributed on an \"AS IS\" BASIS,\n",
       "// WITHOUT WARRANTIES OR CONDITIONS OF ANY KIND, either express or implied.\n",
       "// See the License for the specific language governing permissions and\n",
       "// limitations under the License.\n",
       "\n",
       "/**\n",
       " * @fileoverview Helpers for google.colab Python module.\n",
       " */\n",
       "(function(scope) {\n",
       "function span(text, styleAttributes = {}) {\n",
       "  const element = document.createElement('span');\n",
       "  element.textContent = text;\n",
       "  for (const key of Object.keys(styleAttributes)) {\n",
       "    element.style[key] = styleAttributes[key];\n",
       "  }\n",
       "  return element;\n",
       "}\n",
       "\n",
       "// Max number of bytes which will be uploaded at a time.\n",
       "const MAX_PAYLOAD_SIZE = 100 * 1024;\n",
       "\n",
       "function _uploadFiles(inputId, outputId) {\n",
       "  const steps = uploadFilesStep(inputId, outputId);\n",
       "  const outputElement = document.getElementById(outputId);\n",
       "  // Cache steps on the outputElement to make it available for the next call\n",
       "  // to uploadFilesContinue from Python.\n",
       "  outputElement.steps = steps;\n",
       "\n",
       "  return _uploadFilesContinue(outputId);\n",
       "}\n",
       "\n",
       "// This is roughly an async generator (not supported in the browser yet),\n",
       "// where there are multiple asynchronous steps and the Python side is going\n",
       "// to poll for completion of each step.\n",
       "// This uses a Promise to block the python side on completion of each step,\n",
       "// then passes the result of the previous step as the input to the next step.\n",
       "function _uploadFilesContinue(outputId) {\n",
       "  const outputElement = document.getElementById(outputId);\n",
       "  const steps = outputElement.steps;\n",
       "\n",
       "  const next = steps.next(outputElement.lastPromiseValue);\n",
       "  return Promise.resolve(next.value.promise).then((value) => {\n",
       "    // Cache the last promise value to make it available to the next\n",
       "    // step of the generator.\n",
       "    outputElement.lastPromiseValue = value;\n",
       "    return next.value.response;\n",
       "  });\n",
       "}\n",
       "\n",
       "/**\n",
       " * Generator function which is called between each async step of the upload\n",
       " * process.\n",
       " * @param {string} inputId Element ID of the input file picker element.\n",
       " * @param {string} outputId Element ID of the output display.\n",
       " * @return {!Iterable<!Object>} Iterable of next steps.\n",
       " */\n",
       "function* uploadFilesStep(inputId, outputId) {\n",
       "  const inputElement = document.getElementById(inputId);\n",
       "  inputElement.disabled = false;\n",
       "\n",
       "  const outputElement = document.getElementById(outputId);\n",
       "  outputElement.innerHTML = '';\n",
       "\n",
       "  const pickedPromise = new Promise((resolve) => {\n",
       "    inputElement.addEventListener('change', (e) => {\n",
       "      resolve(e.target.files);\n",
       "    });\n",
       "  });\n",
       "\n",
       "  const cancel = document.createElement('button');\n",
       "  inputElement.parentElement.appendChild(cancel);\n",
       "  cancel.textContent = 'Cancel upload';\n",
       "  const cancelPromise = new Promise((resolve) => {\n",
       "    cancel.onclick = () => {\n",
       "      resolve(null);\n",
       "    };\n",
       "  });\n",
       "\n",
       "  // Wait for the user to pick the files.\n",
       "  const files = yield {\n",
       "    promise: Promise.race([pickedPromise, cancelPromise]),\n",
       "    response: {\n",
       "      action: 'starting',\n",
       "    }\n",
       "  };\n",
       "\n",
       "  cancel.remove();\n",
       "\n",
       "  // Disable the input element since further picks are not allowed.\n",
       "  inputElement.disabled = true;\n",
       "\n",
       "  if (!files) {\n",
       "    return {\n",
       "      response: {\n",
       "        action: 'complete',\n",
       "      }\n",
       "    };\n",
       "  }\n",
       "\n",
       "  for (const file of files) {\n",
       "    const li = document.createElement('li');\n",
       "    li.append(span(file.name, {fontWeight: 'bold'}));\n",
       "    li.append(span(\n",
       "        `(${file.type || 'n/a'}) - ${file.size} bytes, ` +\n",
       "        `last modified: ${\n",
       "            file.lastModifiedDate ? file.lastModifiedDate.toLocaleDateString() :\n",
       "                                    'n/a'} - `));\n",
       "    const percent = span('0% done');\n",
       "    li.appendChild(percent);\n",
       "\n",
       "    outputElement.appendChild(li);\n",
       "\n",
       "    const fileDataPromise = new Promise((resolve) => {\n",
       "      const reader = new FileReader();\n",
       "      reader.onload = (e) => {\n",
       "        resolve(e.target.result);\n",
       "      };\n",
       "      reader.readAsArrayBuffer(file);\n",
       "    });\n",
       "    // Wait for the data to be ready.\n",
       "    let fileData = yield {\n",
       "      promise: fileDataPromise,\n",
       "      response: {\n",
       "        action: 'continue',\n",
       "      }\n",
       "    };\n",
       "\n",
       "    // Use a chunked sending to avoid message size limits. See b/62115660.\n",
       "    let position = 0;\n",
       "    do {\n",
       "      const length = Math.min(fileData.byteLength - position, MAX_PAYLOAD_SIZE);\n",
       "      const chunk = new Uint8Array(fileData, position, length);\n",
       "      position += length;\n",
       "\n",
       "      const base64 = btoa(String.fromCharCode.apply(null, chunk));\n",
       "      yield {\n",
       "        response: {\n",
       "          action: 'append',\n",
       "          file: file.name,\n",
       "          data: base64,\n",
       "        },\n",
       "      };\n",
       "\n",
       "      let percentDone = fileData.byteLength === 0 ?\n",
       "          100 :\n",
       "          Math.round((position / fileData.byteLength) * 100);\n",
       "      percent.textContent = `${percentDone}% done`;\n",
       "\n",
       "    } while (position < fileData.byteLength);\n",
       "  }\n",
       "\n",
       "  // All done.\n",
       "  yield {\n",
       "    response: {\n",
       "      action: 'complete',\n",
       "    }\n",
       "  };\n",
       "}\n",
       "\n",
       "scope.google = scope.google || {};\n",
       "scope.google.colab = scope.google.colab || {};\n",
       "scope.google.colab._files = {\n",
       "  _uploadFiles,\n",
       "  _uploadFilesContinue,\n",
       "};\n",
       "})(self);\n",
       "</script> "
      ],
      "text/plain": [
       "<IPython.core.display.HTML object>"
      ]
     },
     "metadata": {},
     "output_type": "display_data"
    },
    {
     "name": "stdout",
     "output_type": "stream",
     "text": [
      "Saving kaggle.json to kaggle.json\n"
     ]
    }
   ],
   "source": [
    "from google.colab import files\n",
    "\n",
    "files.upload(); #kaggle.json"
   ]
  },
  {
   "cell_type": "markdown",
   "metadata": {
    "id": "O9dH5I_4Uxyt"
   },
   "source": [
    "The next cell moves the file into a separate folder, sets secure access for it and configures your Kaggle profile for this notebook."
   ]
  },
  {
   "cell_type": "code",
   "execution_count": 10,
   "metadata": {
    "colab": {
     "base_uri": "https://localhost:8080/"
    },
    "id": "MbT49tJjVU8g",
    "outputId": "76a4e4a7-4a0b-4cd7-890e-94e4fbbf3019"
   },
   "outputs": [
    {
     "name": "stdout",
     "output_type": "stream",
     "text": [
      "mkdir: cannot create directory ‘/root/.kaggle/’: File exists\n",
      "- path is now set to: {/content}\n"
     ]
    }
   ],
   "source": [
    "import json\n",
    "\n",
    "!mkdir /root/.kaggle/\n",
    "!mv kaggle.json /root/.kaggle/kaggle.json\n",
    "!chmod 600 ~/.kaggle/kaggle.json\n",
    "!kaggle config set -n path -v{/content}"
   ]
  },
  {
   "cell_type": "markdown",
   "metadata": {
    "id": "2fDy-ghRhlvv"
   },
   "source": [
    "In order to sign up for a NYC Taxi competition you need to accept the rules by cliking on \"Late submission\" button in the upper right corner: https://www.kaggle.com/c/new-york-city-taxi-fare-prediction"
   ]
  },
  {
   "cell_type": "markdown",
   "metadata": {
    "id": "h2FromHiSLB4"
   },
   "source": [
    "Make a test submission to ensure that the submission mechanism works"
   ]
  },
  {
   "cell_type": "code",
   "execution_count": 11,
   "metadata": {
    "colab": {
     "base_uri": "https://localhost:8080/"
    },
    "id": "ULF0BN3LCtSE",
    "outputId": "c62a8203-6c7e-44a3-8610-5163739bef87"
   },
   "outputs": [
    {
     "name": "stdout",
     "output_type": "stream",
     "text": [
      "100% 335k/335k [00:02<00:00, 123kB/s]\n",
      "Successfully submitted to New York City Taxi Fare Prediction"
     ]
    }
   ],
   "source": [
    "!kaggle competitions submit -c new-york-city-taxi-fare-prediction -f sample_submission.csv -m \"Sample submission test\""
   ]
  },
  {
   "cell_type": "markdown",
   "metadata": {
    "id": "d4HijXgyspzs"
   },
   "source": [
    "Now you can check `My submissions` tab on the website: https://www.kaggle.com/c/new-york-city-taxi-fare-prediction/submissions"
   ]
  },
  {
   "cell_type": "markdown",
   "metadata": {
    "id": "rXvcLJyNSRzH"
   },
   "source": [
    "## Read in the NYC data and perform basic preprocessing"
   ]
  },
  {
   "cell_type": "code",
   "execution_count": 12,
   "metadata": {
    "colab": {
     "base_uri": "https://localhost:8080/"
    },
    "id": "JQXdJrPvDMrZ",
    "outputId": "8fb7595a-bc43-44b3-e879-ed36abe65887"
   },
   "outputs": [
    {
     "name": "stdout",
     "output_type": "stream",
     "text": [
      "CPU times: user 1.62 s, sys: 107 ms, total: 1.72 s\n",
      "Wall time: 1.9 s\n"
     ]
    }
   ],
   "source": [
    "%%time \n",
    "\n",
    "# note that we use only 1M out of 2M records\n",
    "train =  pd.read_csv('train_2M.csv', parse_dates=[\"pickup_datetime\"], nrows = 1_000_000) # the first row will automatically be interpreted as a header\n",
    "\n",
    "# functions that add two new features abs_diff_longitude and abs_diff_latitude\n",
    "def add_travel_vector_features(df):\n",
    "    df['abs_diff_longitude'] = (df.dropoff_longitude - df.pickup_longitude).abs()\n",
    "    df['abs_diff_latitude'] = (df.dropoff_latitude - df.pickup_latitude).abs()\n",
    "\n",
    "# adding two new features to train\n",
    "add_travel_vector_features(train)\n",
    "\n",
    "# reading in test and adding two new features to test\n",
    "test = pd.read_csv('test.csv')\n",
    "add_travel_vector_features(test)\n",
    "\n",
    "# removing not available values and outliers\n",
    "train = train.dropna(how = 'any', axis = 'rows')\n",
    "train = train[(train.abs_diff_longitude < 5.0) & (train.abs_diff_latitude < 5.0)]"
   ]
  },
  {
   "cell_type": "markdown",
   "metadata": {
    "id": "nqV2c5sDc_f2"
   },
   "source": [
    "## Homework exercise 4 (3 points): K-fold cross-validation algorithm\n",
    "<font color='red'> In the classroom we were cheating on our validation data when we hand-picked the number of decision trees in the previous example (as we used validation data multiple times). The honest and better way of finding a good hyperparameter (depth of the tree) is a **K-fold cross-validation algorithm**.\n"
   ]
  },
  {
   "cell_type": "markdown",
   "metadata": {
    "id": "rSbeesjBy89b"
   },
   "source": [
    "<font color='red'> **(Homework exercise 4- a)** Implement the K-fold cross-validation algorithm using lecture slides and hints in comments. (2.5 points) </font>"
   ]
  },
  {
   "cell_type": "code",
   "execution_count": 13,
   "metadata": {
    "colab": {
     "base_uri": "https://localhost:8080/"
    },
    "id": "G96lG0IbfG87",
    "outputId": "59101c1b-72ea-4be9-f9f6-8cef51611272"
   },
   "outputs": [
    {
     "name": "stdout",
     "output_type": "stream",
     "text": [
      "Calculating RMSE for tree with a depth 1...\n",
      "Average validation RMSE for 1 of trees is 51.63998238767708\n",
      "Calculating RMSE for tree with a depth 2...\n",
      "Average validation RMSE for 2 of trees is 36.37003053147969\n",
      "Calculating RMSE for tree with a depth 5...\n",
      "Average validation RMSE for 5 of trees is 27.64261042719646\n",
      "Calculating RMSE for tree with a depth 8...\n",
      "Average validation RMSE for 8 of trees is 25.274421821348803\n",
      "Calculating RMSE for tree with a depth 9...\n",
      "Average validation RMSE for 9 of trees is 25.643013492749137\n",
      "Calculating RMSE for tree with a depth 10...\n",
      "Average validation RMSE for 10 of trees is 26.6504537041467\n",
      "Calculating RMSE for tree with a depth 11...\n",
      "Average validation RMSE for 11 of trees is 26.124762374068602\n",
      "Calculating RMSE for tree with a depth 12...\n",
      "Average validation RMSE for 12 of trees is 26.409751312250208\n",
      "Calculating RMSE for tree with a depth 13...\n",
      "Average validation RMSE for 13 of trees is 26.96580984293726\n",
      "Calculating RMSE for tree with a depth 15...\n",
      "Average validation RMSE for 15 of trees is 29.16441167933569\n",
      "Calculating RMSE for tree with a depth 20...\n",
      "Average validation RMSE for 20 of trees is 33.794804078424924\n"
     ]
    }
   ],
   "source": [
    "from sklearn.tree import DecisionTreeRegressor\n",
    "from sklearn.metrics import mean_squared_error\n",
    "\n",
    "max_depths = [1, 2, 5, 8, 9, 10, 11, 12, 13, 15, 20]\n",
    "\n",
    "# 4-fold cross validation\n",
    "for param in max_depths:\n",
    "  print(f'Calculating RMSE for tree with a depth {param}...')\n",
    "  ##### YOUR CODE STARTS #####\n",
    "  # number of folds\n",
    "  n_folds = 4\n",
    "\n",
    "  # create a vector of fold indices \n",
    "  # with length of this vector equal to number of rows in training data\n",
    "  # you can use np.concatenate and np.repeat functions\n",
    "  folds_indx = np.concatenate([np.repeat(i, len(train) // n_folds + (1 if len(train) % n_folds > i else 0)) for i in range(n_folds)])\n",
    "  # for dataset with 8 entries you should get:\n",
    "  # the following vector[0, 0, 1, 1, 2, 2, 3, 3]\n",
    "  # chunks can be unequal if the number of rows is not divisible by 4\n",
    "\n",
    "  # randomly shuffle the obtained indices\n",
    "  np.random.shuffle(folds_indx)\n",
    "\n",
    "  # initialise variable that will hold RMSEs for each fold\n",
    "  fold_RMSEs = np.zeros(n_folds)\n",
    "  for fold_indx in np.arange(n_folds):\n",
    "    \n",
    "    # split data into train_X, train_y and val_X, val_y depending on the fold\n",
    "    # use previously generated folds_indx to fetch the right rows\n",
    "    train_X = train.iloc[[i for i, x in enumerate(folds_indx) if x != fold_indx], :] [['abs_diff_longitude', 'abs_diff_latitude', 'passenger_count']]\n",
    "    train_y = train.iloc[[i for i, x in enumerate(folds_indx) if x != fold_indx], :] [['fare_amount']]\n",
    "    val_X = train.iloc[[i for i, x in enumerate(folds_indx) if x == fold_indx], :] [['abs_diff_longitude', 'abs_diff_latitude', 'passenger_count']]\n",
    "    val_y = train.iloc[[i for i, x in enumerate(folds_indx) if x == fold_indx], :] [['fare_amount']]\n",
    "\n",
    "    # train the decision tree with max_depth = param\n",
    "    dtr = DecisionTreeRegressor(max_depth = param)\n",
    "\n",
    "    # fit the decision tree on training data\n",
    "    dtr.fit(train_X, train_y)\n",
    "    # predict validation data\n",
    "    val_predictions = dtr.predict(val_X)\n",
    "    \n",
    "    # calculate RMSE for this fold\n",
    "    fold_RMSEs[fold_indx] = mean_squared_error(val_y, val_predictions, squared=False)\n",
    "    ##### YOUR CODE ENDS ##### \n",
    "\n",
    "  print(f'Average validation RMSE for {param} of trees is {np.mean(fold_RMSEs)}')\n"
   ]
  },
  {
   "cell_type": "markdown",
   "metadata": {
    "id": "urDuREWxK_ro"
   },
   "source": [
    "<font color='red'> **(Homework exercise 4- b)** Based on above results train the `DecisionTreeRegressor` on the entire training data with new, more optimal number of trees. Predict the test set and submit the results to Kaggle. Check your results online and print out your new leaderboard score, which should be smaller than 4.02083. (0.5 points) </font>"
   ]
  },
  {
   "cell_type": "code",
   "execution_count": 14,
   "metadata": {
    "colab": {
     "base_uri": "https://localhost:8080/"
    },
    "id": "3OfvpyJKIN_j",
    "outputId": "67e46687-2fec-46c2-e19b-c7cdc1c2cf48"
   },
   "outputs": [
    {
     "name": "stdout",
     "output_type": "stream",
     "text": [
      "100% 453k/453k [00:02<00:00, 179kB/s]\n",
      "Successfully submitted to New York City Taxi Fare PredictionMy new score is 4.00167\n"
     ]
    }
   ],
   "source": [
    "##### YOUR CODE STARTS #####\n",
    "dtr = DecisionTreeRegressor(max_depth = 9)\n",
    "dtr.fit(train[['abs_diff_longitude', 'abs_diff_latitude']], train[['fare_amount']])\n",
    "test_y_predictions = dtr.predict(test[['abs_diff_longitude', 'abs_diff_latitude']])\n",
    "\n",
    "submission = pd.DataFrame(\n",
    "    {'key': test.key, 'fare_amount': test_y_predictions},\n",
    "    columns = ['key', 'fare_amount'])\n",
    "submission.to_csv('submission_dt.csv', index = False)\n",
    "\n",
    "!kaggle competitions submit -c new-york-city-taxi-fare-prediction -f submission_dt.csv -m \"Decision Tree Regressor using 1M records and max_depth = 9\"\n",
    "\n",
    "# just copy paste your new score below:\n",
    "print(f\"My new score is {4.00167}\")\n",
    "##### YOUR CODE ENDS ##### "
   ]
  },
  {
   "cell_type": "markdown",
   "metadata": {
    "id": "sMmhuxN4iw2L"
   },
   "source": [
    "# Bonus exercises\n",
    "**NB, these are optional exercises! These will be graded more strictly, hence you really need to impress with high quality of the solution to earn points.** "
   ]
  },
  {
   "cell_type": "markdown",
   "metadata": {
    "id": "_2T9ydozzcb-"
   },
   "source": [
    "## Bonus exercise 1 (2 bonus points):\n",
    "\n",
    "<font color='red'> Visualising misclassified examples can help to debug the classification algorithm. But misclassified examples may have different probabilities. In this bonus exercise (optional) try modifying code we have written for the homework exercise 2 so that title now would include probability of a true class and of a wrong class. You would probably need to change the code of `classify_knn` function. Describe the results. </font> "
   ]
  },
  {
   "cell_type": "markdown",
   "metadata": {
    "id": "UkOtofaRjH8P"
   },
   "source": [
    "## Bonus exercise 2 (up to 5 points): the grand challenge\n",
    "<font color='red'> Try to get into top 300 places on public leaderboard (RMSE < 3.04) using different ML algorithms with different parameters, more features, more data, better preprocessing. Here are some ideas for improvement:\n",
    "* Use more data (we only took 1M out of 2M, there are 53M more on the website)\n",
    "* Do more preprocessing (remember negative prices or unrealistic numbers of passengers?)\n",
    "* Use more/better features (e.g. euclidean distance, or google what is haversine distance)\n",
    "* Use some other regression algorithm (e.g. look into RandomForestRegressor from sklearn.ensemble)\n",
    "* Tune parameters of these algorithms\n",
    "* Try something else!\n",
    "</font> \n",
    "\n",
    "<font color='red'>You should make a small post here with code and elaborate explanations of what you have tried (do it even you did not manage to break into top 300). **Report your final leaderboard rank**. Number of points would depend on quality of your explanations and the resulting rank.</font> \n"
   ]
  },
  {
   "cell_type": "code",
   "execution_count": 15,
   "metadata": {
    "id": "d2T2eINijEhg"
   },
   "outputs": [],
   "source": [
    "# Hint:\n",
    "R = 6378\n",
    "\n",
    "def haversine_distance(lon1, lon2, lat1, lat2):\n",
    "    \"\"\"\n",
    "    Calculate the great circle distance between two points\n",
    "    on the earth (specified in decimal degrees)\n",
    "\n",
    "    All args must be of equal length.    \n",
    "    \n",
    "    source: https://stackoverflow.com/a/29546836\n",
    "\n",
    "    \"\"\"\n",
    "    # Convert latitude and longitude to radians\n",
    "    lon1, lat1, lon2, lat2 = map(np.radians, [lon1, lat1, lon2, lat2])\n",
    "\n",
    "    # Find the differences\n",
    "    dlon = lon2 - lon1\n",
    "    dlat = lat2 - lat1\n",
    "\n",
    "    # Apply the formula \n",
    "    a = np.sin(dlat/2.0)**2 + np.cos(lat1) * np.cos(lat2) * np.sin(dlon/2.0)**2\n",
    "    # Calculate the angle (in radians)\n",
    "    c = 2 * np.arcsin(np.sqrt(a))\n",
    "    # Convert to kilometers\n",
    "    km = R * c\n",
    "    \n",
    "    return km"
   ]
  },
  {
   "cell_type": "markdown",
   "metadata": {
    "id": "6JZfcKFAs82h"
   },
   "source": [
    "# Comments (optional feedback to the course instructors)\n",
    "Here, please, leave your comments regarding the homework, possibly answering the following questions: \n",
    "* how much time did you spend on this homework?\n",
    "* was it too hard/easy for you?\n",
    "* what would you suggest to add or remove?\n",
    "* anything else you would like to tell us"
   ]
  },
  {
   "cell_type": "markdown",
   "metadata": {
    "id": "22VPt-05s-Yg"
   },
   "source": [
    "Your comments:"
   ]
  },
  {
   "cell_type": "markdown",
   "metadata": {
    "id": "_57iGEWYZ4_H"
   },
   "source": [
    "# <font color='red'>  End of the homework. Please don't delete this cell.</font>"
   ]
  }
 ],
 "metadata": {
  "colab": {
   "collapsed_sections": [],
   "provenance": []
  },
  "kernelspec": {
   "display_name": "Python 3 (ipykernel)",
   "language": "python",
   "name": "python3"
  },
  "language_info": {
   "codemirror_mode": {
    "name": "ipython",
    "version": 3
   },
   "file_extension": ".py",
   "mimetype": "text/x-python",
   "name": "python",
   "nbconvert_exporter": "python",
   "pygments_lexer": "ipython3",
   "version": "3.10.6"
  }
 },
 "nbformat": 4,
 "nbformat_minor": 1
}
