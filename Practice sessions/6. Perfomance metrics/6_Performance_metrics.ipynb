{
  "nbformat": 4,
  "nbformat_minor": 0,
  "metadata": {
    "colab": {
      "provenance": [],
      "collapsed_sections": [
        "t6k25j69fm_K",
        "zczatiWez6cA"
      ]
    },
    "kernelspec": {
      "name": "python3",
      "display_name": "Python 3"
    }
  },
  "cells": [
    {
      "cell_type": "markdown",
      "metadata": {
        "id": "P0tnOpaLBcqT"
      },
      "source": [
        "# Performance measures\n",
        "\n",
        "Please, make a copy of this colaboratory in order to be able to make changes **(File -> Save a copy in Drive)**.\n"
      ]
    },
    {
      "cell_type": "code",
      "metadata": {
        "id": "wptpa5-JBUbu"
      },
      "source": [
        "import pandas as pd\n",
        "import numpy as np\n",
        "\n",
        "import warnings\n",
        "warnings.filterwarnings('ignore')\n",
        "\n",
        "# For plotting like a pro (actually, no)\n",
        "!pip install -q plotnine\n",
        "from plotnine import *"
      ],
      "execution_count": null,
      "outputs": []
    },
    {
      "cell_type": "code",
      "metadata": {
        "id": "hD8h11N7V9bu"
      },
      "source": [
        "def draw_points_ggplot2(point_set):\n",
        "  fig = (\n",
        "    ggplot(data = point_set,\n",
        "          mapping = aes(x = 'x1', y = 'x2')) +\n",
        "    geom_point(aes(colour = 'class', \n",
        "                   shape = 'class',\n",
        "                   fill = 'class'), \n",
        "               size = 5.0,\n",
        "               stroke = 2.5) +\n",
        "    labs(\n",
        "        title ='',\n",
        "        x = 'x1',\n",
        "        y = 'x2',\n",
        "    ) +\n",
        "    theme_bw() + \n",
        "    xlim(0, 6) +\n",
        "    ylim(0, 6) +\n",
        "    scale_color_manual(['#EC5D57', '#51A7F9']) + \n",
        "    scale_fill_manual(['#C82506', '#0365C0']) + \n",
        "    scale_shape_manual(['o', 's']) + \n",
        "    theme(figure_size = (5, 5),\n",
        "          axis_line = element_line(size = 0.5, colour = \"black\"),\n",
        "          panel_grid_major = element_line(size = 0.05, colour = \"black\"),\n",
        "          panel_grid_minor = element_line(size = 0.05, colour = \"black\"),\n",
        "          axis_text = element_text(colour ='black'))\n",
        "  )\n",
        "  return(fig)"
      ],
      "execution_count": null,
      "outputs": []
    },
    {
      "cell_type": "markdown",
      "metadata": {
        "id": "YaR93weJBIy_"
      },
      "source": [
        "## Example data"
      ]
    },
    {
      "cell_type": "code",
      "metadata": {
        "id": "ACfDV132C9by",
        "colab": {
          "base_uri": "https://localhost:8080/",
          "height": 480
        },
        "outputId": "63373c99-82bb-4d1f-a0ca-2e758578e3ea"
      },
      "source": [
        "example_data = pd.DataFrame({'x1':[1,2,3,4,5], 'x2':[2,4,5,4,5], 'class':[1,0,1,1,0]})\n",
        "example_data['class'] = example_data['class'].astype('category') # note that we turn class into categories\n",
        "draw_points_ggplot2(example_data)"
      ],
      "execution_count": null,
      "outputs": [
        {
          "output_type": "display_data",
          "data": {
            "text/plain": [
              "<Figure size 500x500 with 1 Axes>"
            ],
            "image/png": "[encoded data removed]"
          },
          "metadata": {}
        },
        {
          "output_type": "execute_result",
          "data": {
            "text/plain": [
              "<ggplot: (8742449653861)>"
            ]
          },
          "metadata": {},
          "execution_count": 7
        }
      ]
    },
    {
      "cell_type": "markdown",
      "metadata": {
        "id": "KjqojFDiC6Ib"
      },
      "source": [
        "# Accuracy\n",
        "What is the accuracy of the random classifier (baseline) for the `example_data`? Is it 50% or more/less? To emulate the random choise we will use a bernoulli trial tossing a fair coin (50% probability of heads/tails) 5 times."
      ]
    },
    {
      "cell_type": "code",
      "metadata": {
        "id": "y87KfrBZWGd4",
        "colab": {
          "base_uri": "https://localhost:8080/"
        },
        "outputId": "a5ad4f35-9bbc-4289-f1fd-c46bdc9828e5"
      },
      "source": [
        "np.random.seed(1111)\n",
        "\n",
        "##### YOUR CODE STARTS #####\n",
        "random_pred = np.random.binomial(1, 0.5, 5)\n",
        "##### YOUR CODE ENDS #####\n",
        "\n",
        "acc = np.mean(example_data['class'] == random_pred)*100\n",
        "print(f'accuracy is {acc}%')"
      ],
      "execution_count": null,
      "outputs": [
        {
          "output_type": "stream",
          "name": "stdout",
          "text": [
            "accuracy is 20.0%\n"
          ]
        }
      ]
    },
    {
      "cell_type": "markdown",
      "metadata": {
        "id": "BKwaEdDKXT29"
      },
      "source": [
        "Seems very pessimistic, what if we repeat this many times, e.g. 1000?"
      ]
    },
    {
      "cell_type": "code",
      "metadata": {
        "id": "gV6DpeTGXSrK",
        "colab": {
          "base_uri": "https://localhost:8080/"
        },
        "outputId": "8f9995ca-6227-4343-be1f-b554fb7c2c26"
      },
      "source": [
        "np.random.seed(1111)\n",
        "random_preds = np.zeros(1000)\n",
        "for i in range(1000):\n",
        "  random_preds[i] = np.mean(example_data['class'] == np.random.binomial(1, 0.5, 5))*100\n",
        "\n",
        "print(f'accuracy is {np.mean(random_preds)}%')"
      ],
      "execution_count": null,
      "outputs": [
        {
          "output_type": "stream",
          "name": "stdout",
          "text": [
            "accuracy is 50.16%\n"
          ]
        }
      ]
    },
    {
      "cell_type": "markdown",
      "metadata": {
        "id": "_5xsiJcj-ZWz"
      },
      "source": [
        "Here is an unbalanced case:"
      ]
    },
    {
      "cell_type": "code",
      "metadata": {
        "id": "KpRqTRis-ZWz",
        "colab": {
          "base_uri": "https://localhost:8080/",
          "height": 480
        },
        "outputId": "03df5f0a-83eb-47e7-b5f2-f54ec3ca7c4d"
      },
      "source": [
        "unbalanced_data = pd.DataFrame({'x1':[1,2,3,4,5,1,4,3,4.5,3.5], 'x2':[2,4,5,4,5,3.5,4.2,1.3,0.5,3], 'class':[1,0,1,1,1,1,1,1,1,1]})\n",
        "unbalanced_data['class'] = unbalanced_data['class'].astype('category') # note that we turn class into categories\n",
        "draw_points_ggplot2(unbalanced_data)"
      ],
      "execution_count": null,
      "outputs": [
        {
          "output_type": "display_data",
          "data": {
            "text/plain": [
              "<Figure size 500x500 with 1 Axes>"
            ],
            "image/png": "[encoded data removed]"
          },
          "metadata": {}
        },
        {
          "output_type": "execute_result",
          "data": {
            "text/plain": [
              "<ggplot: (8742449557957)>"
            ]
          },
          "metadata": {},
          "execution_count": 10
        }
      ]
    },
    {
      "cell_type": "markdown",
      "metadata": {
        "id": "Oomg5O2z-Qhb"
      },
      "source": [
        "Since we increased the number of instances of the blue class, would the accuracy of the random classifier change?"
      ]
    },
    {
      "cell_type": "code",
      "metadata": {
        "id": "ZhTLuuF5JTHC",
        "colab": {
          "base_uri": "https://localhost:8080/"
        },
        "outputId": "fc600d3b-7fe1-45ba-9afc-7c6407a4f58c"
      },
      "source": [
        "np.random.seed(1111)\n",
        "random_preds = np.zeros(1000)\n",
        "for i in range(1000):\n",
        "  random_preds[i] = np.mean(unbalanced_data['class'] == np.random.binomial(1, 0.5, 10))*100\n",
        "\n",
        "print(f'accuracy is {np.mean(random_preds)}%')"
      ],
      "execution_count": null,
      "outputs": [
        {
          "output_type": "stream",
          "name": "stdout",
          "text": [
            "accuracy is 50.15%\n"
          ]
        }
      ]
    },
    {
      "cell_type": "markdown",
      "metadata": {
        "id": "u1ETc9eFJX_u"
      },
      "source": [
        "Instead of binomial trials we can use `DummyClassifier` from `sklearn` to do the same thing."
      ]
    },
    {
      "cell_type": "code",
      "metadata": {
        "id": "Fm5wlN_MIZB4"
      },
      "source": [
        "from sklearn.dummy import DummyClassifier\n",
        "random_model = DummyClassifier(strategy='uniform')"
      ],
      "execution_count": null,
      "outputs": []
    },
    {
      "cell_type": "code",
      "metadata": {
        "id": "1sN8J85VdTuC",
        "colab": {
          "base_uri": "https://localhost:8080/"
        },
        "outputId": "a9eacc4a-497b-4653-9f17-82532f2c45c3"
      },
      "source": [
        "np.random.seed(1111)\n",
        "random_preds = np.zeros(1000)\n",
        "for i in range(1000):\n",
        "  ##### YOUR CODE STARTS #####\n",
        "  random_model.fit(unbalanced_data[[\"x1\" , \"x2\"]], unbalanced_data[[\"class\"]])\n",
        "  random_preds[i] = random_model.score(unbalanced_data[[\"x1\" , \"x2\"]], unbalanced_data[[\"class\"]])*100\n",
        "  ##### YOUR CODE ENDS #####\n",
        "\n",
        "print(f'accuracy is {np.mean(random_preds)}%')"
      ],
      "execution_count": null,
      "outputs": [
        {
          "output_type": "stream",
          "name": "stdout",
          "text": [
            "accuracy is 49.96%\n"
          ]
        }
      ]
    },
    {
      "cell_type": "markdown",
      "metadata": {
        "id": "S34DX0ejcyCY"
      },
      "source": [
        "But random classifier is not always a good baseline to compare with. As very often it is the majority class predictor who is taking over ML models."
      ]
    },
    {
      "cell_type": "code",
      "metadata": {
        "id": "nAEk__wqcxWK",
        "colab": {
          "base_uri": "https://localhost:8080/"
        },
        "outputId": "6b70c5b3-4f8a-4dfd-bb60-326e5ca9a4a7"
      },
      "source": [
        "majority_class_model = DummyClassifier(strategy='most_frequent')\n",
        "majority_class_model.fit(unbalanced_data[[\"x1\" , \"x2\"]], unbalanced_data[[\"class\"]])\n",
        "print(f'{majority_class_model.score(unbalanced_data[[\"x1\" , \"x2\"]], unbalanced_data[[\"class\"]])*100}%')"
      ],
      "execution_count": null,
      "outputs": [
        {
          "output_type": "stream",
          "name": "stdout",
          "text": [
            "90.0%\n"
          ]
        }
      ]
    },
    {
      "cell_type": "markdown",
      "metadata": {
        "id": "icQurSuBRVZV"
      },
      "source": [
        "# Calculate recall and precision for this problem. \n",
        "Remind yourself that **recall** is `tp/(tp + fn)` and **precision** is `tp/(tp + fp)`. Where `tp` is true positives, `fn` is false negatives and `fp` is a false positives. What are the positives and negatives? In binary classification, **positives** and **negatives** are arbitrary entities. One of the classes could be called **positive** if it indicates **presence** of some desired (or undesired) outcome (it could be a purchase, disease, etc.). While **negatives** usually indicate absense of this outcome. In our case, since we have `1`-s and `0`-s, we will call `1`-s **positive**, while `0`-s **negatives**. Therefore, a `tp` (true positive) number would reflect the number of `1`-s we predicted as `1`-s etc. Now we are all setup to estimate **precision** and **recall**."
      ]
    },
    {
      "cell_type": "code",
      "metadata": {
        "id": "prLG4C5WRU19",
        "colab": {
          "base_uri": "https://localhost:8080/"
        },
        "outputId": "641ac628-c08b-4f4b-bd41-988eaec9b707"
      },
      "source": [
        "print(f'True classes for all points: {np.array(unbalanced_data[\"class\"])}')\n",
        "\n",
        "predictions = majority_class_model.predict(unbalanced_data[[\"x1\" , \"x2\"]])\n",
        "print(f'Predicted classes for all points: {np.array(predictions)}')\n",
        "\n",
        "##### YOUR CODE STARTS #####\n",
        "# what are the actual classes of points predicted as positive?\n",
        "pred_positive = np.array(unbalanced_data['class'])[predictions == 1]\n",
        "print(f'Actual classes of points predicted positive: {pred_positive}')\n",
        "\n",
        "# what are the actual classes of points predicted as negative?\n",
        "pred_negative = np.array(unbalanced_data['class'])[predictions == 0]\n",
        "print(f'Actual classes of points predicted negative: {pred_negative}')\n",
        "##### YOUR CODE ENDS #####\n",
        "\n",
        "##### YOUR CODE STARTS #####\n",
        "tp = np.sum(pred_positive == 1)\n",
        "fn = np.sum(pred_negative == 1)\n",
        "fp = np.sum(pred_positive == 0)\n",
        "tn = np.sum(pred_negative == 0)\n",
        "##### YOUR CODE ENDS #####\n",
        "\n",
        "print(f'TP = {tp}, TN = {tn}, FN = {fn}, FP = {fp}')"
      ],
      "execution_count": null,
      "outputs": [
        {
          "output_type": "stream",
          "name": "stdout",
          "text": [
            "True classes for all points: [1 0 1 1 1 1 1 1 1 1]\n",
            "Predicted classes for all points: [1 1 1 1 1 1 1 1 1 1]\n",
            "Actual classes of points predicted positive: [1 0 1 1 1 1 1 1 1 1]\n",
            "Actual classes of points predicted negative: []\n",
            "TP = 9, TN = 0, FN = 0, FP = 1\n"
          ]
        }
      ]
    },
    {
      "cell_type": "code",
      "metadata": {
        "id": "Ztb8tzVSfGEs",
        "colab": {
          "base_uri": "https://localhost:8080/"
        },
        "outputId": "c76ed1c9-6001-4255-a7fb-8163f1a5315b"
      },
      "source": [
        "precision = tp/(tp + fp)\n",
        "recall = tp/(tp + fn)\n",
        "\n",
        "print(f'Recall = {recall}, Precision = {precision}')"
      ],
      "execution_count": null,
      "outputs": [
        {
          "output_type": "stream",
          "name": "stdout",
          "text": [
            "Recall = 1.0, Precision = 0.9\n"
          ]
        }
      ]
    },
    {
      "cell_type": "markdown",
      "metadata": {
        "id": "Ad7Fd5bOWmd1"
      },
      "source": [
        "**Recall** is how many positives we have prediced as positives out of all positives that were in the data. **Precision** is how many true positives there were among all instances predicted as positive. If you feel that it is confusing, check out formulas again :)"
      ]
    },
    {
      "cell_type": "markdown",
      "metadata": {
        "id": "t6k25j69fm_K"
      },
      "source": [
        "## F1-score\n",
        "It would be great to have just one number that combines both **precision** and **recall** to look at. Often people use **f1 score** to summarise both precision and recall. \n",
        "\n",
        "<center><font size = 6> $ F1 = 2\\cdot\\frac{(recall\\cdot precision)}{(recall + precision)} $"
      ]
    },
    {
      "cell_type": "code",
      "metadata": {
        "id": "O4PXZKgAfaks",
        "colab": {
          "base_uri": "https://localhost:8080/"
        },
        "outputId": "61246e9a-d69e-4a73-bef8-4a8afed402ec"
      },
      "source": [
        "f1 = 2*(recall*precision)/(recall + precision)\n",
        "print(f'F1 score = {np.round(f1, 3)}')"
      ],
      "execution_count": null,
      "outputs": [
        {
          "output_type": "stream",
          "name": "stdout",
          "text": [
            "F1 score = 0.947\n"
          ]
        }
      ]
    },
    {
      "cell_type": "markdown",
      "metadata": {
        "id": "n0AT-HD_KwTV"
      },
      "source": [
        "F1-score is also known as Dice-coefficient."
      ]
    },
    {
      "cell_type": "code",
      "metadata": {
        "id": "P4fwspzpjw6h",
        "colab": {
          "base_uri": "https://localhost:8080/"
        },
        "outputId": "f9351137-8fca-4cb4-84bd-6e1fb6b61140"
      },
      "source": [
        "# Dice coefficient/score\n",
        "dice = 2*tp/(2*tp + fp + fn)\n",
        "print(f'Dice score = {np.round(dice, 3)}')"
      ],
      "execution_count": null,
      "outputs": [
        {
          "output_type": "stream",
          "name": "stdout",
          "text": [
            "Dice score = 0.947\n"
          ]
        }
      ]
    },
    {
      "cell_type": "markdown",
      "metadata": {
        "id": "ftEloVHAzUBN"
      },
      "source": [
        "F1-score calculated using *sklearn*"
      ]
    },
    {
      "cell_type": "code",
      "metadata": {
        "id": "rZjIG8gqzSa6",
        "colab": {
          "base_uri": "https://localhost:8080/"
        },
        "outputId": "1ff5892e-ff14-4ee2-aa4e-db7dec54b5c7"
      },
      "source": [
        "from sklearn.metrics import f1_score\n",
        "f1_score(predictions, unbalanced_data['class'])"
      ],
      "execution_count": null,
      "outputs": [
        {
          "output_type": "execute_result",
          "data": {
            "text/plain": [
              "0.9473684210526316"
            ]
          },
          "metadata": {},
          "execution_count": 21
        }
      ]
    },
    {
      "cell_type": "markdown",
      "metadata": {
        "id": "MWR6wxbNfZ92"
      },
      "source": [
        "**Exercise**: Switch the definitions of **positive** and **negative** and recalculate the precision, recall, f1-score and dice coefficient as if class 0 was considered **positive**. (no need to reverse the `class` variable). Are F1-score and Dice are stil the same?"
      ]
    },
    {
      "cell_type": "code",
      "metadata": {
        "id": "id-c3WRwOuRI",
        "colab": {
          "base_uri": "https://localhost:8080/"
        },
        "outputId": "bfcb5647-d272-4db9-cb6a-ffd5aa8a7fa6"
      },
      "source": [
        "predictions # 1 is associated with a negative class now"
      ],
      "execution_count": null,
      "outputs": [
        {
          "output_type": "execute_result",
          "data": {
            "text/plain": [
              "array([1, 1, 1, 1, 1, 1, 1, 1, 1, 1])"
            ]
          },
          "metadata": {},
          "execution_count": 22
        }
      ]
    },
    {
      "cell_type": "code",
      "metadata": {
        "id": "O2m9XoqxecBx",
        "colab": {
          "base_uri": "https://localhost:8080/"
        },
        "outputId": "e5bd9522-285d-4cb3-9667-4314b8f53a3c"
      },
      "source": [
        "##### YOUR CODE STARTS #####\n",
        "pred_positive = np.array(unbalanced_data['class'])[predictions == 0]\n",
        "print(f'Actual classes of points predicted positive: {pred_positive}')\n",
        "\n",
        "pred_negative = np.array(unbalanced_data['class'])[predictions == 1]\n",
        "print(f'Actual classes of points predicted negative: {pred_negative}')\n",
        "##### YOUR CODE ENDS #####\n",
        "\n",
        "##### YOUR CODE STARTS #####\n",
        "tp = np.sum(pred_positive == 0)\n",
        "fn = np.sum(pred_negative == 0)\n",
        "fp = np.sum(pred_positive == 1)\n",
        "tn = np.sum(pred_negative == 1)\n",
        "##### YOUR CODE ENDS #####\n",
        "\n",
        "print(f'TP = {tp}, TN = {tn}, FN = {fn}, FP = {fp}')"
      ],
      "execution_count": null,
      "outputs": [
        {
          "output_type": "stream",
          "name": "stdout",
          "text": [
            "Actual classes of points predicted positive: []\n",
            "Actual classes of points predicted negative: [1 0 1 1 1 1 1 1 1 1]\n",
            "TP = 0, TN = 9, FN = 1, FP = 0\n"
          ]
        }
      ]
    },
    {
      "cell_type": "code",
      "metadata": {
        "id": "W-VISECnWWZ4",
        "colab": {
          "base_uri": "https://localhost:8080/"
        },
        "outputId": "ea89fdfc-a51a-4e75-9920-bf1341d0295b"
      },
      "source": [
        "precision = tp/(tp + fp)\n",
        "recall = tp/(tp + fn)\n",
        "\n",
        "print(f'Recall = {recall}, Precision = {precision}')"
      ],
      "execution_count": null,
      "outputs": [
        {
          "output_type": "stream",
          "name": "stdout",
          "text": [
            "Recall = 0.0, Precision = nan\n"
          ]
        }
      ]
    },
    {
      "cell_type": "code",
      "metadata": {
        "id": "DWqpCISxjesB",
        "colab": {
          "base_uri": "https://localhost:8080/"
        },
        "outputId": "3572e0bc-7dc1-486c-85cc-a539b384421d"
      },
      "source": [
        "f1 = 2*recall*precision/(precision + recall)\n",
        "print(f'F1 score = {f1}')"
      ],
      "execution_count": null,
      "outputs": [
        {
          "output_type": "stream",
          "name": "stdout",
          "text": [
            "F1 score = nan\n"
          ]
        }
      ]
    },
    {
      "cell_type": "code",
      "metadata": {
        "id": "mqozbKQhrEYa",
        "colab": {
          "base_uri": "https://localhost:8080/"
        },
        "outputId": "cf452cca-7f02-4bc8-dde6-2f7005a917a4"
      },
      "source": [
        "# Dice coefficient/score\n",
        "dice = 2*tp/(2*tp + fp + fn)\n",
        "print(f'Dice score = {dice}')"
      ],
      "execution_count": null,
      "outputs": [
        {
          "output_type": "stream",
          "name": "stdout",
          "text": [
            "Dice score = 0.0\n"
          ]
        }
      ]
    },
    {
      "cell_type": "markdown",
      "metadata": {
        "id": "zczatiWez6cA"
      },
      "source": [
        "### All you need is ~~love~~ a `classification_report` function from sklearn"
      ]
    },
    {
      "cell_type": "code",
      "metadata": {
        "id": "Oy_ZsRfLy6HU",
        "colab": {
          "base_uri": "https://localhost:8080/"
        },
        "outputId": "0ed9e829-4abf-4bd7-bbce-813917868ee0"
      },
      "source": [
        "from sklearn.metrics import classification_report\n",
        "print(classification_report(unbalanced_data['class'], predictions))"
      ],
      "execution_count": null,
      "outputs": [
        {
          "output_type": "stream",
          "name": "stdout",
          "text": [
            "              precision    recall  f1-score   support\n",
            "\n",
            "           0       0.00      0.00      0.00         1\n",
            "           1       0.90      1.00      0.95         9\n",
            "\n",
            "    accuracy                           0.90        10\n",
            "   macro avg       0.45      0.50      0.47        10\n",
            "weighted avg       0.81      0.90      0.85        10\n",
            "\n"
          ]
        }
      ]
    },
    {
      "cell_type": "markdown",
      "metadata": {
        "id": "qlE-lIc3A37C"
      },
      "source": [
        "# Confusion matrix\n",
        "All the values we have calculated so far can be representated as a matrix. We have already seen a confusion matrix before when using **fast.ai** library."
      ]
    },
    {
      "cell_type": "code",
      "metadata": {
        "id": "sJF5yYaJe-nj"
      },
      "source": [
        "# let's recalculate our majority class classifier\n",
        "majority_class_model = DummyClassifier(strategy='most_frequent')\n",
        "majority_class_model.fit(unbalanced_data[[\"x1\" , \"x2\"]], unbalanced_data[[\"class\"]])\n",
        "predictions = majority_class_model.predict(unbalanced_data[[\"x1\" , \"x2\"]])"
      ],
      "execution_count": null,
      "outputs": []
    },
    {
      "cell_type": "markdown",
      "metadata": {
        "id": "aGm6OYNtRiy1"
      },
      "source": [
        "As usual, *sklearn* has our backs :)"
      ]
    },
    {
      "cell_type": "code",
      "metadata": {
        "id": "kKrXwFqkL2rG",
        "colab": {
          "base_uri": "https://localhost:8080/"
        },
        "outputId": "f2366948-4f01-47b8-d2ea-0bbd744f16fd"
      },
      "source": [
        "from sklearn import metrics\n",
        "metrics.confusion_matrix(unbalanced_data['class'], predictions)"
      ],
      "execution_count": null,
      "outputs": [
        {
          "output_type": "execute_result",
          "data": {
            "text/plain": [
              "array([[0, 1],\n",
              "       [0, 9]])"
            ]
          },
          "metadata": {},
          "execution_count": 29
        }
      ]
    },
    {
      "cell_type": "code",
      "metadata": {
        "id": "fLXXl57ZLw2q",
        "colab": {
          "base_uri": "https://localhost:8080/",
          "height": 301
        },
        "outputId": "53a1559c-9832-48ed-e828-1c64836c56a8"
      },
      "source": [
        "import matplotlib as plt\n",
        "metrics.plot_confusion_matrix(majority_class_model, unbalanced_data[['x1', 'x2']], unbalanced_data['class'])"
      ],
      "execution_count": null,
      "outputs": [
        {
          "output_type": "execute_result",
          "data": {
            "text/plain": [
              "<sklearn.metrics._plot.confusion_matrix.ConfusionMatrixDisplay at 0x7f382982aad0>"
            ]
          },
          "metadata": {},
          "execution_count": 30
        },
        {
          "output_type": "display_data",
          "data": {
            "text/plain": [
              "<Figure size 432x288 with 2 Axes>"
            ],
            "image/png": "[encoded data removed]"
          },
          "metadata": {
            "needs_background": "light"
          }
        }
      ]
    },
    {
      "cell_type": "markdown",
      "metadata": {
        "id": "ibjccJ_pAz0R"
      },
      "source": [
        "## ROC/AUC\n",
        "Receiver Operating Characteristic (ROC) and Area Under the Curve (AUC) are some of the most popular performance metrics in machine learning. Here we will practice calculating and visualising ROC/AUC for toy classifier."
      ]
    },
    {
      "cell_type": "code",
      "metadata": {
        "id": "-z4xWPA5WVz9"
      },
      "source": [
        "# let's create our data again\n",
        "example_data = pd.DataFrame({'x1':[1,2,3,4,5], 'x2':[2,4,5,4,5], 'class':[1,0,1,1,0]})\n",
        "example_data['class'] = example_data['class'].astype('category') # note that we turn class into categories"
      ],
      "execution_count": null,
      "outputs": []
    },
    {
      "cell_type": "markdown",
      "metadata": {
        "id": "2S5zqBHJWbdI"
      },
      "source": [
        "Train a logistic regression model from *sklearn* on our data"
      ]
    },
    {
      "cell_type": "code",
      "metadata": {
        "id": "6IRydGbsWa-l",
        "colab": {
          "base_uri": "https://localhost:8080/"
        },
        "outputId": "3730a512-72c2-4569-b94d-dc112320e6ac"
      },
      "source": [
        "from sklearn.linear_model import LogisticRegression \n",
        "logit = LogisticRegression()\n",
        "logit.fit(example_data[['x1', 'x2']], example_data[['class']])"
      ],
      "execution_count": null,
      "outputs": [
        {
          "output_type": "execute_result",
          "data": {
            "text/plain": [
              "LogisticRegression()"
            ]
          },
          "metadata": {},
          "execution_count": 32
        }
      ]
    },
    {
      "cell_type": "markdown",
      "metadata": {
        "id": "nLa4DL4Mxmxu"
      },
      "source": [
        "Here we will use function `predict_proba` which returns probability scores for each class."
      ]
    },
    {
      "cell_type": "code",
      "metadata": {
        "id": "CLuXHcLkS08-",
        "colab": {
          "base_uri": "https://localhost:8080/"
        },
        "outputId": "74fe977c-81a6-4020-b5f3-65ac03868ccc"
      },
      "source": [
        "predictions = logit.predict(example_data[['x1', 'x2']])\n",
        "print(predictions)\n",
        "\n",
        "predictions_proba = logit.predict_proba(example_data[['x1', 'x2']])\n",
        "print(predictions_proba)"
      ],
      "execution_count": null,
      "outputs": [
        {
          "output_type": "stream",
          "name": "stdout",
          "text": [
            "[1 1 1 1 0]\n",
            "[[0.18637182 0.81362818]\n",
            " [0.34969782 0.65030218]\n",
            " [0.47317578 0.52682422]\n",
            " [0.43161108 0.56838892]\n",
            " [0.5591435  0.4408565 ]]\n"
          ]
        }
      ]
    },
    {
      "cell_type": "code",
      "metadata": {
        "id": "y9j_8aUsWpGv",
        "colab": {
          "base_uri": "https://localhost:8080/"
        },
        "outputId": "aa54ff29-2ef2-4dfb-bb5f-1e94877e5662"
      },
      "source": [
        "print(predictions_proba[:,1]) # probabilities of positive class"
      ],
      "execution_count": null,
      "outputs": [
        {
          "output_type": "stream",
          "name": "stdout",
          "text": [
            "[0.81362818 0.65030218 0.52682422 0.56838892 0.4408565 ]\n"
          ]
        }
      ]
    },
    {
      "cell_type": "markdown",
      "metadata": {
        "id": "GcAY5iwOx5d1"
      },
      "source": [
        "Let's visualise these probability scores."
      ]
    },
    {
      "cell_type": "code",
      "metadata": {
        "id": "ceKE2FwdXMep"
      },
      "source": [
        " def generate_grid(start, stop, ppu):\n",
        "  \"\"\"\n",
        "  Function that creates data for the \n",
        "  decision boundary visualisation. \n",
        "  \"\"\"\n",
        "  num_points = (stop - start)*ppu\n",
        "  x = np.linspace(start, stop, num_points)\n",
        "  y = np.linspace(start, stop, num_points)\n",
        "  xx, yy = np.meshgrid(x, y)\n",
        "  x1, x2 = xx.flatten(), yy.flatten()\n",
        "  return(pd.DataFrame({'x1':  x1, 'x2': x2}))"
      ],
      "execution_count": null,
      "outputs": []
    },
    {
      "cell_type": "code",
      "metadata": {
        "id": "gWlBb3b7XQkM",
        "colab": {
          "base_uri": "https://localhost:8080/"
        },
        "outputId": "0d4b26a8-c082-4d35-c779-3985ff921530"
      },
      "source": [
        "start = 0 \n",
        "stop = 6\n",
        "ppu = 30 # points per unit\n",
        "\n",
        "grid_data = generate_grid(start, stop, ppu)\n",
        "grid_data['logit'] = logit.predict(grid_data[['x1', 'x2']]) # DEL\n",
        "\n",
        "print(grid_data.shape)"
      ],
      "execution_count": null,
      "outputs": [
        {
          "output_type": "stream",
          "name": "stdout",
          "text": [
            "(32400, 3)\n"
          ]
        }
      ]
    },
    {
      "cell_type": "code",
      "metadata": {
        "id": "eB0DeqZWWuou",
        "colab": {
          "base_uri": "https://localhost:8080/",
          "height": 480
        },
        "outputId": "8425fc19-e5b1-4b61-cda2-adf1e72daf38"
      },
      "source": [
        "example_data['scores'] = np.round(predictions_proba[:,1], 2)\n",
        "draw_points_ggplot2(example_data) + geom_point(data = grid_data, mapping = aes(x = 'x1', y = 'x2', colour = 'factor(logit)'),  size = .5, alpha = 0.2) + geom_text(aes(label = example_data['scores']), nudge_y = 0.2)"
      ],
      "execution_count": null,
      "outputs": [
        {
          "output_type": "display_data",
          "data": {
            "text/plain": [
              "<Figure size 500x500 with 1 Axes>"
            ],
            "image/png": "[encoded data removed]"
          },
          "metadata": {}
        },
        {
          "output_type": "execute_result",
          "data": {
            "text/plain": [
              "<ggplot: (8742449432369)>"
            ]
          },
          "metadata": {},
          "execution_count": 37
        }
      ]
    },
    {
      "cell_type": "code",
      "metadata": {
        "id": "v12v-MuFScpI",
        "colab": {
          "base_uri": "https://localhost:8080/",
          "height": 206
        },
        "outputId": "303065a2-c944-4797-f8b8-e091abf94ed0"
      },
      "source": [
        "example_data"
      ],
      "execution_count": null,
      "outputs": [
        {
          "output_type": "execute_result",
          "data": {
            "text/plain": [
              "   x1  x2 class  scores\n",
              "0   1   2     1    0.81\n",
              "1   2   4     0    0.65\n",
              "2   3   5     1    0.53\n",
              "3   4   4     1    0.57\n",
              "4   5   5     0    0.44"
            ],
            "text/html": [
              "\n",
              "  <div id=\"df-34d87ab0-6fe9-4681-80c1-d37447ccf7f8\">\n",
              "    <div class=\"colab-df-container\">\n",
              "      <div>\n",
              "<style scoped>\n",
              "    .dataframe tbody tr th:only-of-type {\n",
              "        vertical-align: middle;\n",
              "    }\n",
              "\n",
              "    .dataframe tbody tr th {\n",
              "        vertical-align: top;\n",
              "    }\n",
              "\n",
              "    .dataframe thead th {\n",
              "        text-align: right;\n",
              "    }\n",
              "</style>\n",
              "<table border=\"1\" class=\"dataframe\">\n",
              "  <thead>\n",
              "    <tr style=\"text-align: right;\">\n",
              "      <th></th>\n",
              "      <th>x1</th>\n",
              "      <th>x2</th>\n",
              "      <th>class</th>\n",
              "      <th>scores</th>\n",
              "    </tr>\n",
              "  </thead>\n",
              "  <tbody>\n",
              "    <tr>\n",
              "      <th>0</th>\n",
              "      <td>1</td>\n",
              "      <td>2</td>\n",
              "      <td>1</td>\n",
              "      <td>0.81</td>\n",
              "    </tr>\n",
              "    <tr>\n",
              "      <th>1</th>\n",
              "      <td>2</td>\n",
              "      <td>4</td>\n",
              "      <td>0</td>\n",
              "      <td>0.65</td>\n",
              "    </tr>\n",
              "    <tr>\n",
              "      <th>2</th>\n",
              "      <td>3</td>\n",
              "      <td>5</td>\n",
              "      <td>1</td>\n",
              "      <td>0.53</td>\n",
              "    </tr>\n",
              "    <tr>\n",
              "      <th>3</th>\n",
              "      <td>4</td>\n",
              "      <td>4</td>\n",
              "      <td>1</td>\n",
              "      <td>0.57</td>\n",
              "    </tr>\n",
              "    <tr>\n",
              "      <th>4</th>\n",
              "      <td>5</td>\n",
              "      <td>5</td>\n",
              "      <td>0</td>\n",
              "      <td>0.44</td>\n",
              "    </tr>\n",
              "  </tbody>\n",
              "</table>\n",
              "</div>\n",
              "      <button class=\"colab-df-convert\" onclick=\"convertToInteractive('df-34d87ab0-6fe9-4681-80c1-d37447ccf7f8')\"\n",
              "              title=\"Convert this dataframe to an interactive table.\"\n",
              "              style=\"display:none;\">\n",
              "        \n",
              "  <svg xmlns=\"http://www.w3.org/2000/svg\" height=\"24px\"viewBox=\"0 0 24 24\"\n",
              "       width=\"24px\">\n",
              "    <path d=\"M0 0h24v24H0V0z\" fill=\"none\"/>\n",
              "    <path d=\"M18.56 5.44l.94 2.06.94-2.06 2.06-.94-2.06-.94-.94-2.06-.94 2.06-2.06.94zm-11 1L8.5 8.5l.94-2.06 2.06-.94-2.06-.94L8.5 2.5l-.94 2.06-2.06.94zm10 10l.94 2.06.94-2.06 2.06-.94-2.06-.94-.94-2.06-.94 2.06-2.06.94z\"/><path d=\"M17.41 7.96l-1.37-1.37c-.4-.4-.92-.59-1.43-.59-.52 0-1.04.2-1.43.59L10.3 9.45l-7.72 7.72c-.78.78-.78 2.05 0 2.83L4 21.41c.39.39.9.59 1.41.59.51 0 1.02-.2 1.41-.59l7.78-7.78 2.81-2.81c.8-.78.8-2.07 0-2.86zM5.41 20L4 18.59l7.72-7.72 1.47 1.35L5.41 20z\"/>\n",
              "  </svg>\n",
              "      </button>\n",
              "      \n",
              "  <style>\n",
              "    .colab-df-container {\n",
              "      display:flex;\n",
              "      flex-wrap:wrap;\n",
              "      gap: 12px;\n",
              "    }\n",
              "\n",
              "    .colab-df-convert {\n",
              "      background-color: #E8F0FE;\n",
              "      border: none;\n",
              "      border-radius: 50%;\n",
              "      cursor: pointer;\n",
              "      display: none;\n",
              "      fill: #1967D2;\n",
              "      height: 32px;\n",
              "      padding: 0 0 0 0;\n",
              "      width: 32px;\n",
              "    }\n",
              "\n",
              "    .colab-df-convert:hover {\n",
              "      background-color: #E2EBFA;\n",
              "      box-shadow: 0px 1px 2px rgba(60, 64, 67, 0.3), 0px 1px 3px 1px rgba(60, 64, 67, 0.15);\n",
              "      fill: #174EA6;\n",
              "    }\n",
              "\n",
              "    [theme=dark] .colab-df-convert {\n",
              "      background-color: #3B4455;\n",
              "      fill: #D2E3FC;\n",
              "    }\n",
              "\n",
              "    [theme=dark] .colab-df-convert:hover {\n",
              "      background-color: #434B5C;\n",
              "      box-shadow: 0px 1px 3px 1px rgba(0, 0, 0, 0.15);\n",
              "      filter: drop-shadow(0px 1px 2px rgba(0, 0, 0, 0.3));\n",
              "      fill: #FFFFFF;\n",
              "    }\n",
              "  </style>\n",
              "\n",
              "      <script>\n",
              "        const buttonEl =\n",
              "          document.querySelector('#df-34d87ab0-6fe9-4681-80c1-d37447ccf7f8 button.colab-df-convert');\n",
              "        buttonEl.style.display =\n",
              "          google.colab.kernel.accessAllowed ? 'block' : 'none';\n",
              "\n",
              "        async function convertToInteractive(key) {\n",
              "          const element = document.querySelector('#df-34d87ab0-6fe9-4681-80c1-d37447ccf7f8');\n",
              "          const dataTable =\n",
              "            await google.colab.kernel.invokeFunction('convertToInteractive',\n",
              "                                                     [key], {});\n",
              "          if (!dataTable) return;\n",
              "\n",
              "          const docLinkHtml = 'Like what you see? Visit the ' +\n",
              "            '<a target=\"_blank\" href=https://colab.research.google.com/notebooks/data_table.ipynb>data table notebook</a>'\n",
              "            + ' to learn more about interactive tables.';\n",
              "          element.innerHTML = '';\n",
              "          dataTable['output_type'] = 'display_data';\n",
              "          await google.colab.output.renderOutput(dataTable, element);\n",
              "          const docLink = document.createElement('div');\n",
              "          docLink.innerHTML = docLinkHtml;\n",
              "          element.appendChild(docLink);\n",
              "        }\n",
              "      </script>\n",
              "    </div>\n",
              "  </div>\n",
              "  "
            ]
          },
          "metadata": {},
          "execution_count": 38
        }
      ]
    },
    {
      "cell_type": "markdown",
      "metadata": {
        "id": "ClJMOUMhSkHC"
      },
      "source": [
        "Sort the dataframe in descending order based on class scores"
      ]
    },
    {
      "cell_type": "code",
      "metadata": {
        "id": "LxEwQ56uSjop",
        "colab": {
          "base_uri": "https://localhost:8080/",
          "height": 206
        },
        "outputId": "3b72ce16-f034-464c-ef13-9f77651ca9aa"
      },
      "source": [
        "example_data = example_data.sort_values('scores',  ascending=False)\n",
        "example_data"
      ],
      "execution_count": null,
      "outputs": [
        {
          "output_type": "execute_result",
          "data": {
            "text/plain": [
              "   x1  x2 class  scores\n",
              "0   1   2     1    0.81\n",
              "1   2   4     0    0.65\n",
              "3   4   4     1    0.57\n",
              "2   3   5     1    0.53\n",
              "4   5   5     0    0.44"
            ],
            "text/html": [
              "\n",
              "  <div id=\"df-43c62c22-eb6a-4282-b5b5-4f03d59ada5f\">\n",
              "    <div class=\"colab-df-container\">\n",
              "      <div>\n",
              "<style scoped>\n",
              "    .dataframe tbody tr th:only-of-type {\n",
              "        vertical-align: middle;\n",
              "    }\n",
              "\n",
              "    .dataframe tbody tr th {\n",
              "        vertical-align: top;\n",
              "    }\n",
              "\n",
              "    .dataframe thead th {\n",
              "        text-align: right;\n",
              "    }\n",
              "</style>\n",
              "<table border=\"1\" class=\"dataframe\">\n",
              "  <thead>\n",
              "    <tr style=\"text-align: right;\">\n",
              "      <th></th>\n",
              "      <th>x1</th>\n",
              "      <th>x2</th>\n",
              "      <th>class</th>\n",
              "      <th>scores</th>\n",
              "    </tr>\n",
              "  </thead>\n",
              "  <tbody>\n",
              "    <tr>\n",
              "      <th>0</th>\n",
              "      <td>1</td>\n",
              "      <td>2</td>\n",
              "      <td>1</td>\n",
              "      <td>0.81</td>\n",
              "    </tr>\n",
              "    <tr>\n",
              "      <th>1</th>\n",
              "      <td>2</td>\n",
              "      <td>4</td>\n",
              "      <td>0</td>\n",
              "      <td>0.65</td>\n",
              "    </tr>\n",
              "    <tr>\n",
              "      <th>3</th>\n",
              "      <td>4</td>\n",
              "      <td>4</td>\n",
              "      <td>1</td>\n",
              "      <td>0.57</td>\n",
              "    </tr>\n",
              "    <tr>\n",
              "      <th>2</th>\n",
              "      <td>3</td>\n",
              "      <td>5</td>\n",
              "      <td>1</td>\n",
              "      <td>0.53</td>\n",
              "    </tr>\n",
              "    <tr>\n",
              "      <th>4</th>\n",
              "      <td>5</td>\n",
              "      <td>5</td>\n",
              "      <td>0</td>\n",
              "      <td>0.44</td>\n",
              "    </tr>\n",
              "  </tbody>\n",
              "</table>\n",
              "</div>\n",
              "      <button class=\"colab-df-convert\" onclick=\"convertToInteractive('df-43c62c22-eb6a-4282-b5b5-4f03d59ada5f')\"\n",
              "              title=\"Convert this dataframe to an interactive table.\"\n",
              "              style=\"display:none;\">\n",
              "        \n",
              "  <svg xmlns=\"http://www.w3.org/2000/svg\" height=\"24px\"viewBox=\"0 0 24 24\"\n",
              "       width=\"24px\">\n",
              "    <path d=\"M0 0h24v24H0V0z\" fill=\"none\"/>\n",
              "    <path d=\"M18.56 5.44l.94 2.06.94-2.06 2.06-.94-2.06-.94-.94-2.06-.94 2.06-2.06.94zm-11 1L8.5 8.5l.94-2.06 2.06-.94-2.06-.94L8.5 2.5l-.94 2.06-2.06.94zm10 10l.94 2.06.94-2.06 2.06-.94-2.06-.94-.94-2.06-.94 2.06-2.06.94z\"/><path d=\"M17.41 7.96l-1.37-1.37c-.4-.4-.92-.59-1.43-.59-.52 0-1.04.2-1.43.59L10.3 9.45l-7.72 7.72c-.78.78-.78 2.05 0 2.83L4 21.41c.39.39.9.59 1.41.59.51 0 1.02-.2 1.41-.59l7.78-7.78 2.81-2.81c.8-.78.8-2.07 0-2.86zM5.41 20L4 18.59l7.72-7.72 1.47 1.35L5.41 20z\"/>\n",
              "  </svg>\n",
              "      </button>\n",
              "      \n",
              "  <style>\n",
              "    .colab-df-container {\n",
              "      display:flex;\n",
              "      flex-wrap:wrap;\n",
              "      gap: 12px;\n",
              "    }\n",
              "\n",
              "    .colab-df-convert {\n",
              "      background-color: #E8F0FE;\n",
              "      border: none;\n",
              "      border-radius: 50%;\n",
              "      cursor: pointer;\n",
              "      display: none;\n",
              "      fill: #1967D2;\n",
              "      height: 32px;\n",
              "      padding: 0 0 0 0;\n",
              "      width: 32px;\n",
              "    }\n",
              "\n",
              "    .colab-df-convert:hover {\n",
              "      background-color: #E2EBFA;\n",
              "      box-shadow: 0px 1px 2px rgba(60, 64, 67, 0.3), 0px 1px 3px 1px rgba(60, 64, 67, 0.15);\n",
              "      fill: #174EA6;\n",
              "    }\n",
              "\n",
              "    [theme=dark] .colab-df-convert {\n",
              "      background-color: #3B4455;\n",
              "      fill: #D2E3FC;\n",
              "    }\n",
              "\n",
              "    [theme=dark] .colab-df-convert:hover {\n",
              "      background-color: #434B5C;\n",
              "      box-shadow: 0px 1px 3px 1px rgba(0, 0, 0, 0.15);\n",
              "      filter: drop-shadow(0px 1px 2px rgba(0, 0, 0, 0.3));\n",
              "      fill: #FFFFFF;\n",
              "    }\n",
              "  </style>\n",
              "\n",
              "      <script>\n",
              "        const buttonEl =\n",
              "          document.querySelector('#df-43c62c22-eb6a-4282-b5b5-4f03d59ada5f button.colab-df-convert');\n",
              "        buttonEl.style.display =\n",
              "          google.colab.kernel.accessAllowed ? 'block' : 'none';\n",
              "\n",
              "        async function convertToInteractive(key) {\n",
              "          const element = document.querySelector('#df-43c62c22-eb6a-4282-b5b5-4f03d59ada5f');\n",
              "          const dataTable =\n",
              "            await google.colab.kernel.invokeFunction('convertToInteractive',\n",
              "                                                     [key], {});\n",
              "          if (!dataTable) return;\n",
              "\n",
              "          const docLinkHtml = 'Like what you see? Visit the ' +\n",
              "            '<a target=\"_blank\" href=https://colab.research.google.com/notebooks/data_table.ipynb>data table notebook</a>'\n",
              "            + ' to learn more about interactive tables.';\n",
              "          element.innerHTML = '';\n",
              "          dataTable['output_type'] = 'display_data';\n",
              "          await google.colab.output.renderOutput(dataTable, element);\n",
              "          const docLink = document.createElement('div');\n",
              "          docLink.innerHTML = docLinkHtml;\n",
              "          element.appendChild(docLink);\n",
              "        }\n",
              "      </script>\n",
              "    </div>\n",
              "  </div>\n",
              "  "
            ]
          },
          "metadata": {},
          "execution_count": 39
        }
      ]
    },
    {
      "cell_type": "markdown",
      "metadata": {
        "id": "0YhOzVsmS3DR"
      },
      "source": [
        "What are the possible thresholds in this case?"
      ]
    },
    {
      "cell_type": "code",
      "metadata": {
        "id": "t1964ND8S6RC",
        "colab": {
          "base_uri": "https://localhost:8080/"
        },
        "outputId": "627c62dd-04cc-40fc-ae81-209971b5bda3"
      },
      "source": [
        "thresholds = example_data['scores'].unique()\n",
        "print(example_data['scores'].unique())"
      ],
      "execution_count": null,
      "outputs": [
        {
          "output_type": "stream",
          "name": "stdout",
          "text": [
            "[0.81 0.65 0.57 0.53 0.44]\n"
          ]
        }
      ]
    },
    {
      "cell_type": "markdown",
      "metadata": {
        "id": "2wSRzzF-TCFJ"
      },
      "source": [
        "For each possible threshold compute True Positive Rate (TPR) and False Positive Rate (FPR) and store them in the separate list."
      ]
    },
    {
      "cell_type": "code",
      "metadata": {
        "id": "Wyy_rYTbZPy3"
      },
      "source": [
        "tprs = []\n",
        "fprs = []"
      ],
      "execution_count": null,
      "outputs": []
    },
    {
      "cell_type": "code",
      "metadata": {
        "id": "KBuYQShgTOX1",
        "colab": {
          "base_uri": "https://localhost:8080/"
        },
        "outputId": "c9039923-656b-4327-ebce-c5927295e8a8"
      },
      "source": [
        "for threshold in thresholds:\n",
        "  print(f'For threshold {threshold}')\n",
        "  \n",
        "  ##### YOUR CODE STARTS #####\n",
        "  predictions = example_data['scores'] >= threshold\n",
        "  pred_positive = np.array(example_data['class'])[predictions == 1]\n",
        "  pred_negative = np.array(example_data['class'])[predictions == 0]\n",
        "  ##### YOUR CODE ENDS #####\n",
        "  \n",
        "  tp = np.sum(pred_positive == 1)\n",
        "  fn = np.sum(pred_negative == 1)\n",
        "  tn = np.sum(pred_negative == 0)\n",
        "  fp = np.sum(pred_positive == 0)\n",
        "\n",
        "  print(f'tp = {tp}, fn = {fn}, tn = {tn}, fp = {fp}')\n",
        "  \n",
        "  ##### YOUR CODE STARTS #####\n",
        "  tpr = tp/(tp + fn) # the same as recall\n",
        "  fpr = fp/(tn + fp)\n",
        "\n",
        "  ##### YOUR CODE ENDS #####\n",
        "  \n",
        "  print(f'FPR = {np.round(fpr, 2)}, TPR = {np.round(tpr, 2)}\\n')\n",
        "  tprs.append(tpr)\n",
        "  fprs.append(fpr)\n",
        "\n",
        "roc_coordinates = pd.DataFrame({'FPR': np.round(fprs, 2), 'TPR': np.round(tprs, 2)}, index=thresholds)\n",
        "print(roc_coordinates)"
      ],
      "execution_count": null,
      "outputs": [
        {
          "output_type": "stream",
          "name": "stdout",
          "text": [
            "For threshold 0.81\n",
            "tp = 1, fn = 2, tn = 2, fp = 0\n",
            "FPR = 0.0, TPR = 0.33\n",
            "\n",
            "For threshold 0.65\n",
            "tp = 1, fn = 2, tn = 1, fp = 1\n",
            "FPR = 0.5, TPR = 0.33\n",
            "\n",
            "For threshold 0.57\n",
            "tp = 2, fn = 1, tn = 1, fp = 1\n",
            "FPR = 0.5, TPR = 0.67\n",
            "\n",
            "For threshold 0.53\n",
            "tp = 3, fn = 0, tn = 1, fp = 1\n",
            "FPR = 0.5, TPR = 1.0\n",
            "\n",
            "For threshold 0.44\n",
            "tp = 3, fn = 0, tn = 0, fp = 2\n",
            "FPR = 1.0, TPR = 1.0\n",
            "\n",
            "      FPR   TPR\n",
            "0.81  0.0  0.33\n",
            "0.65  0.5  0.33\n",
            "0.57  0.5  0.67\n",
            "0.53  0.5  1.00\n",
            "0.44  1.0  1.00\n"
          ]
        }
      ]
    },
    {
      "cell_type": "markdown",
      "metadata": {
        "id": "MlIm_d4gWqPA"
      },
      "source": [
        "Let's also add point FPR = 0, TPR = 0 with threshold 1.0"
      ]
    },
    {
      "cell_type": "code",
      "metadata": {
        "id": "JdVi8V-vWnIU",
        "colab": {
          "base_uri": "https://localhost:8080/",
          "height": 238
        },
        "outputId": "2da676d6-6155-46da-aa7b-5f5f1ff72086"
      },
      "source": [
        "# Concat with old DataFrame and reset the Index.\n",
        "top_row =  pd.DataFrame({'FPR':0, 'TPR':0}, index=[1.0])\n",
        "final_roc_coordinates = pd.concat([top_row, roc_coordinates])\n",
        "final_roc_coordinates"
      ],
      "execution_count": null,
      "outputs": [
        {
          "output_type": "execute_result",
          "data": {
            "text/plain": [
              "      FPR   TPR\n",
              "1.00  0.0  0.00\n",
              "0.81  0.0  0.33\n",
              "0.65  0.5  0.33\n",
              "0.57  0.5  0.67\n",
              "0.53  0.5  1.00\n",
              "0.44  1.0  1.00"
            ],
            "text/html": [
              "\n",
              "  <div id=\"df-0a696f6b-d6c3-44ee-836d-be5b650720a8\">\n",
              "    <div class=\"colab-df-container\">\n",
              "      <div>\n",
              "<style scoped>\n",
              "    .dataframe tbody tr th:only-of-type {\n",
              "        vertical-align: middle;\n",
              "    }\n",
              "\n",
              "    .dataframe tbody tr th {\n",
              "        vertical-align: top;\n",
              "    }\n",
              "\n",
              "    .dataframe thead th {\n",
              "        text-align: right;\n",
              "    }\n",
              "</style>\n",
              "<table border=\"1\" class=\"dataframe\">\n",
              "  <thead>\n",
              "    <tr style=\"text-align: right;\">\n",
              "      <th></th>\n",
              "      <th>FPR</th>\n",
              "      <th>TPR</th>\n",
              "    </tr>\n",
              "  </thead>\n",
              "  <tbody>\n",
              "    <tr>\n",
              "      <th>1.00</th>\n",
              "      <td>0.0</td>\n",
              "      <td>0.00</td>\n",
              "    </tr>\n",
              "    <tr>\n",
              "      <th>0.81</th>\n",
              "      <td>0.0</td>\n",
              "      <td>0.33</td>\n",
              "    </tr>\n",
              "    <tr>\n",
              "      <th>0.65</th>\n",
              "      <td>0.5</td>\n",
              "      <td>0.33</td>\n",
              "    </tr>\n",
              "    <tr>\n",
              "      <th>0.57</th>\n",
              "      <td>0.5</td>\n",
              "      <td>0.67</td>\n",
              "    </tr>\n",
              "    <tr>\n",
              "      <th>0.53</th>\n",
              "      <td>0.5</td>\n",
              "      <td>1.00</td>\n",
              "    </tr>\n",
              "    <tr>\n",
              "      <th>0.44</th>\n",
              "      <td>1.0</td>\n",
              "      <td>1.00</td>\n",
              "    </tr>\n",
              "  </tbody>\n",
              "</table>\n",
              "</div>\n",
              "      <button class=\"colab-df-convert\" onclick=\"convertToInteractive('df-0a696f6b-d6c3-44ee-836d-be5b650720a8')\"\n",
              "              title=\"Convert this dataframe to an interactive table.\"\n",
              "              style=\"display:none;\">\n",
              "        \n",
              "  <svg xmlns=\"http://www.w3.org/2000/svg\" height=\"24px\"viewBox=\"0 0 24 24\"\n",
              "       width=\"24px\">\n",
              "    <path d=\"M0 0h24v24H0V0z\" fill=\"none\"/>\n",
              "    <path d=\"M18.56 5.44l.94 2.06.94-2.06 2.06-.94-2.06-.94-.94-2.06-.94 2.06-2.06.94zm-11 1L8.5 8.5l.94-2.06 2.06-.94-2.06-.94L8.5 2.5l-.94 2.06-2.06.94zm10 10l.94 2.06.94-2.06 2.06-.94-2.06-.94-.94-2.06-.94 2.06-2.06.94z\"/><path d=\"M17.41 7.96l-1.37-1.37c-.4-.4-.92-.59-1.43-.59-.52 0-1.04.2-1.43.59L10.3 9.45l-7.72 7.72c-.78.78-.78 2.05 0 2.83L4 21.41c.39.39.9.59 1.41.59.51 0 1.02-.2 1.41-.59l7.78-7.78 2.81-2.81c.8-.78.8-2.07 0-2.86zM5.41 20L4 18.59l7.72-7.72 1.47 1.35L5.41 20z\"/>\n",
              "  </svg>\n",
              "      </button>\n",
              "      \n",
              "  <style>\n",
              "    .colab-df-container {\n",
              "      display:flex;\n",
              "      flex-wrap:wrap;\n",
              "      gap: 12px;\n",
              "    }\n",
              "\n",
              "    .colab-df-convert {\n",
              "      background-color: #E8F0FE;\n",
              "      border: none;\n",
              "      border-radius: 50%;\n",
              "      cursor: pointer;\n",
              "      display: none;\n",
              "      fill: #1967D2;\n",
              "      height: 32px;\n",
              "      padding: 0 0 0 0;\n",
              "      width: 32px;\n",
              "    }\n",
              "\n",
              "    .colab-df-convert:hover {\n",
              "      background-color: #E2EBFA;\n",
              "      box-shadow: 0px 1px 2px rgba(60, 64, 67, 0.3), 0px 1px 3px 1px rgba(60, 64, 67, 0.15);\n",
              "      fill: #174EA6;\n",
              "    }\n",
              "\n",
              "    [theme=dark] .colab-df-convert {\n",
              "      background-color: #3B4455;\n",
              "      fill: #D2E3FC;\n",
              "    }\n",
              "\n",
              "    [theme=dark] .colab-df-convert:hover {\n",
              "      background-color: #434B5C;\n",
              "      box-shadow: 0px 1px 3px 1px rgba(0, 0, 0, 0.15);\n",
              "      filter: drop-shadow(0px 1px 2px rgba(0, 0, 0, 0.3));\n",
              "      fill: #FFFFFF;\n",
              "    }\n",
              "  </style>\n",
              "\n",
              "      <script>\n",
              "        const buttonEl =\n",
              "          document.querySelector('#df-0a696f6b-d6c3-44ee-836d-be5b650720a8 button.colab-df-convert');\n",
              "        buttonEl.style.display =\n",
              "          google.colab.kernel.accessAllowed ? 'block' : 'none';\n",
              "\n",
              "        async function convertToInteractive(key) {\n",
              "          const element = document.querySelector('#df-0a696f6b-d6c3-44ee-836d-be5b650720a8');\n",
              "          const dataTable =\n",
              "            await google.colab.kernel.invokeFunction('convertToInteractive',\n",
              "                                                     [key], {});\n",
              "          if (!dataTable) return;\n",
              "\n",
              "          const docLinkHtml = 'Like what you see? Visit the ' +\n",
              "            '<a target=\"_blank\" href=https://colab.research.google.com/notebooks/data_table.ipynb>data table notebook</a>'\n",
              "            + ' to learn more about interactive tables.';\n",
              "          element.innerHTML = '';\n",
              "          dataTable['output_type'] = 'display_data';\n",
              "          await google.colab.output.renderOutput(dataTable, element);\n",
              "          const docLink = document.createElement('div');\n",
              "          docLink.innerHTML = docLinkHtml;\n",
              "          element.appendChild(docLink);\n",
              "        }\n",
              "      </script>\n",
              "    </div>\n",
              "  </div>\n",
              "  "
            ]
          },
          "metadata": {},
          "execution_count": 43
        }
      ]
    },
    {
      "cell_type": "markdown",
      "metadata": {
        "id": "GcvV3ORZWeUX"
      },
      "source": [
        "Let's visualise our ROC curve:"
      ]
    },
    {
      "cell_type": "code",
      "metadata": {
        "id": "ZzHbd2xUfBCA",
        "colab": {
          "base_uri": "https://localhost:8080/",
          "height": 480
        },
        "outputId": "5330fabf-7428-4dc0-cfaa-9727f0344143"
      },
      "source": [
        "fig = (\n",
        "    ggplot(data = final_roc_coordinates,\n",
        "          mapping = aes(x = 'FPR', y = 'TPR')) +\n",
        "     geom_polygon(data = pd.concat([final_roc_coordinates, pd.DataFrame({'FPR':1, 'TPR':0}, index=[1.0])]), alpha = 0.3, fill = '#773F9B') + \n",
        "     geom_path(aes(x='FPR', y='TPR'), group=1, colour = '#773F9B', size = 2) +\n",
        "     geom_point(colour = '#B36AE2', \n",
        "                shape = 'o',\n",
        "                fill = '#773F9B', \n",
        "                size = 4.0,\n",
        "                stroke = 2.0) +\n",
        "    labs(\n",
        "        title ='',\n",
        "        x = 'FPR',\n",
        "        y = 'TPR',\n",
        "    ) +\n",
        "    theme_bw() + \n",
        "    theme(figure_size = (5, 5),\n",
        "          axis_line = element_line(size = 0.5, colour = \"black\"),\n",
        "          panel_grid_major = element_line(size = 0.05, colour = \"black\"),\n",
        "          panel_grid_minor = element_line(size = 0.05, colour = \"black\"),\n",
        "          axis_text = element_text(colour ='black'))\n",
        "    )\n",
        "fig"
      ],
      "execution_count": null,
      "outputs": [
        {
          "output_type": "display_data",
          "data": {
            "text/plain": [
              "<Figure size 500x500 with 1 Axes>"
            ],
            "image/png": "[encoded data removed]"
          },
          "metadata": {}
        },
        {
          "output_type": "execute_result",
          "data": {
            "text/plain": [
              "<ggplot: (8742447219745)>"
            ]
          },
          "metadata": {},
          "execution_count": 44
        }
      ]
    },
    {
      "cell_type": "markdown",
      "metadata": {
        "id": "hqE1Zx5tttRn"
      },
      "source": [
        "Let's calculate **AUC** using *sklearn*:"
      ]
    },
    {
      "cell_type": "code",
      "metadata": {
        "id": "4JbnEqGWfBHz",
        "colab": {
          "base_uri": "https://localhost:8080/"
        },
        "outputId": "3bac031a-692f-4030-88c2-315c82c90de9"
      },
      "source": [
        "np.round(metrics.roc_auc_score(example_data['class'], example_data['scores']),3)"
      ],
      "execution_count": null,
      "outputs": [
        {
          "output_type": "execute_result",
          "data": {
            "text/plain": [
              "0.667"
            ]
          },
          "metadata": {},
          "execution_count": 45
        }
      ]
    },
    {
      "cell_type": "markdown",
      "metadata": {
        "id": "TjTN9hRYhYvD"
      },
      "source": [
        "### ROC for majority class classifier\n",
        "Let's see how ROC would look like in the case of highly skewed prediction on unbalanced data.\n"
      ]
    },
    {
      "cell_type": "code",
      "metadata": {
        "id": "inZYhpmFher9"
      },
      "source": [
        "# regenerate unbalanced data\n",
        "unbalanced_data = pd.DataFrame({'x1':[1,2,3,4,5,1,4,3,4.5,3.5], 'x2':[2,4,5,4,5,3.5,4.2,1.3,0.5,3], 'class':[1,0,1,1,1,1,1,1,1,1]})\n",
        "unbalanced_data['class'] = unbalanced_data['class'].astype('category') # note that we turn class into categories"
      ],
      "execution_count": null,
      "outputs": []
    },
    {
      "cell_type": "markdown",
      "metadata": {
        "id": "Pvb2u6CIcIu9"
      },
      "source": [
        "Extract scores from the majority class model on unbalanced data"
      ]
    },
    {
      "cell_type": "code",
      "metadata": {
        "id": "y2N1Kv3HhkwV",
        "colab": {
          "base_uri": "https://localhost:8080/"
        },
        "outputId": "c8896df8-b15c-4268-f607-de80520be8ab"
      },
      "source": [
        "majority_class_model = DummyClassifier(strategy='most_frequent')\n",
        "majority_class_model.fit(unbalanced_data[[\"x1\" , \"x2\"]], unbalanced_data[[\"class\"]])\n",
        "majority_class_model.predict_proba(unbalanced_data[[\"x1\" , \"x2\"]])"
      ],
      "execution_count": null,
      "outputs": [
        {
          "output_type": "execute_result",
          "data": {
            "text/plain": [
              "array([[0., 1.],\n",
              "       [0., 1.],\n",
              "       [0., 1.],\n",
              "       [0., 1.],\n",
              "       [0., 1.],\n",
              "       [0., 1.],\n",
              "       [0., 1.],\n",
              "       [0., 1.],\n",
              "       [0., 1.],\n",
              "       [0., 1.]])"
            ]
          },
          "metadata": {},
          "execution_count": 47
        }
      ]
    },
    {
      "cell_type": "code",
      "metadata": {
        "id": "lcjJ9bO0uk0B",
        "colab": {
          "base_uri": "https://localhost:8080/"
        },
        "outputId": "60e7400d-e696-4841-bb35-1151806270d0"
      },
      "source": [
        "majority_class_model.predict_proba(unbalanced_data[[\"x1\" , \"x2\"]])[:,1]"
      ],
      "execution_count": null,
      "outputs": [
        {
          "output_type": "execute_result",
          "data": {
            "text/plain": [
              "array([1., 1., 1., 1., 1., 1., 1., 1., 1., 1.])"
            ]
          },
          "metadata": {},
          "execution_count": 48
        }
      ]
    },
    {
      "cell_type": "code",
      "metadata": {
        "id": "t054PlQUiI0_",
        "colab": {
          "base_uri": "https://localhost:8080/",
          "height": 363
        },
        "outputId": "9d5622a7-c172-493c-f046-d28daf4c51b8"
      },
      "source": [
        "unbalanced_data['scores'] = majority_class_model.predict_proba(unbalanced_data[[\"x1\" , \"x2\"]])[:,1]\n",
        "unbalanced_data"
      ],
      "execution_count": null,
      "outputs": [
        {
          "output_type": "execute_result",
          "data": {
            "text/plain": [
              "    x1   x2 class  scores\n",
              "0  1.0  2.0     1     1.0\n",
              "1  2.0  4.0     0     1.0\n",
              "2  3.0  5.0     1     1.0\n",
              "3  4.0  4.0     1     1.0\n",
              "4  5.0  5.0     1     1.0\n",
              "5  1.0  3.5     1     1.0\n",
              "6  4.0  4.2     1     1.0\n",
              "7  3.0  1.3     1     1.0\n",
              "8  4.5  0.5     1     1.0\n",
              "9  3.5  3.0     1     1.0"
            ],
            "text/html": [
              "\n",
              "  <div id=\"df-93262249-63eb-4287-a9ca-55c2fde6f00e\">\n",
              "    <div class=\"colab-df-container\">\n",
              "      <div>\n",
              "<style scoped>\n",
              "    .dataframe tbody tr th:only-of-type {\n",
              "        vertical-align: middle;\n",
              "    }\n",
              "\n",
              "    .dataframe tbody tr th {\n",
              "        vertical-align: top;\n",
              "    }\n",
              "\n",
              "    .dataframe thead th {\n",
              "        text-align: right;\n",
              "    }\n",
              "</style>\n",
              "<table border=\"1\" class=\"dataframe\">\n",
              "  <thead>\n",
              "    <tr style=\"text-align: right;\">\n",
              "      <th></th>\n",
              "      <th>x1</th>\n",
              "      <th>x2</th>\n",
              "      <th>class</th>\n",
              "      <th>scores</th>\n",
              "    </tr>\n",
              "  </thead>\n",
              "  <tbody>\n",
              "    <tr>\n",
              "      <th>0</th>\n",
              "      <td>1.0</td>\n",
              "      <td>2.0</td>\n",
              "      <td>1</td>\n",
              "      <td>1.0</td>\n",
              "    </tr>\n",
              "    <tr>\n",
              "      <th>1</th>\n",
              "      <td>2.0</td>\n",
              "      <td>4.0</td>\n",
              "      <td>0</td>\n",
              "      <td>1.0</td>\n",
              "    </tr>\n",
              "    <tr>\n",
              "      <th>2</th>\n",
              "      <td>3.0</td>\n",
              "      <td>5.0</td>\n",
              "      <td>1</td>\n",
              "      <td>1.0</td>\n",
              "    </tr>\n",
              "    <tr>\n",
              "      <th>3</th>\n",
              "      <td>4.0</td>\n",
              "      <td>4.0</td>\n",
              "      <td>1</td>\n",
              "      <td>1.0</td>\n",
              "    </tr>\n",
              "    <tr>\n",
              "      <th>4</th>\n",
              "      <td>5.0</td>\n",
              "      <td>5.0</td>\n",
              "      <td>1</td>\n",
              "      <td>1.0</td>\n",
              "    </tr>\n",
              "    <tr>\n",
              "      <th>5</th>\n",
              "      <td>1.0</td>\n",
              "      <td>3.5</td>\n",
              "      <td>1</td>\n",
              "      <td>1.0</td>\n",
              "    </tr>\n",
              "    <tr>\n",
              "      <th>6</th>\n",
              "      <td>4.0</td>\n",
              "      <td>4.2</td>\n",
              "      <td>1</td>\n",
              "      <td>1.0</td>\n",
              "    </tr>\n",
              "    <tr>\n",
              "      <th>7</th>\n",
              "      <td>3.0</td>\n",
              "      <td>1.3</td>\n",
              "      <td>1</td>\n",
              "      <td>1.0</td>\n",
              "    </tr>\n",
              "    <tr>\n",
              "      <th>8</th>\n",
              "      <td>4.5</td>\n",
              "      <td>0.5</td>\n",
              "      <td>1</td>\n",
              "      <td>1.0</td>\n",
              "    </tr>\n",
              "    <tr>\n",
              "      <th>9</th>\n",
              "      <td>3.5</td>\n",
              "      <td>3.0</td>\n",
              "      <td>1</td>\n",
              "      <td>1.0</td>\n",
              "    </tr>\n",
              "  </tbody>\n",
              "</table>\n",
              "</div>\n",
              "      <button class=\"colab-df-convert\" onclick=\"convertToInteractive('df-93262249-63eb-4287-a9ca-55c2fde6f00e')\"\n",
              "              title=\"Convert this dataframe to an interactive table.\"\n",
              "              style=\"display:none;\">\n",
              "        \n",
              "  <svg xmlns=\"http://www.w3.org/2000/svg\" height=\"24px\"viewBox=\"0 0 24 24\"\n",
              "       width=\"24px\">\n",
              "    <path d=\"M0 0h24v24H0V0z\" fill=\"none\"/>\n",
              "    <path d=\"M18.56 5.44l.94 2.06.94-2.06 2.06-.94-2.06-.94-.94-2.06-.94 2.06-2.06.94zm-11 1L8.5 8.5l.94-2.06 2.06-.94-2.06-.94L8.5 2.5l-.94 2.06-2.06.94zm10 10l.94 2.06.94-2.06 2.06-.94-2.06-.94-.94-2.06-.94 2.06-2.06.94z\"/><path d=\"M17.41 7.96l-1.37-1.37c-.4-.4-.92-.59-1.43-.59-.52 0-1.04.2-1.43.59L10.3 9.45l-7.72 7.72c-.78.78-.78 2.05 0 2.83L4 21.41c.39.39.9.59 1.41.59.51 0 1.02-.2 1.41-.59l7.78-7.78 2.81-2.81c.8-.78.8-2.07 0-2.86zM5.41 20L4 18.59l7.72-7.72 1.47 1.35L5.41 20z\"/>\n",
              "  </svg>\n",
              "      </button>\n",
              "      \n",
              "  <style>\n",
              "    .colab-df-container {\n",
              "      display:flex;\n",
              "      flex-wrap:wrap;\n",
              "      gap: 12px;\n",
              "    }\n",
              "\n",
              "    .colab-df-convert {\n",
              "      background-color: #E8F0FE;\n",
              "      border: none;\n",
              "      border-radius: 50%;\n",
              "      cursor: pointer;\n",
              "      display: none;\n",
              "      fill: #1967D2;\n",
              "      height: 32px;\n",
              "      padding: 0 0 0 0;\n",
              "      width: 32px;\n",
              "    }\n",
              "\n",
              "    .colab-df-convert:hover {\n",
              "      background-color: #E2EBFA;\n",
              "      box-shadow: 0px 1px 2px rgba(60, 64, 67, 0.3), 0px 1px 3px 1px rgba(60, 64, 67, 0.15);\n",
              "      fill: #174EA6;\n",
              "    }\n",
              "\n",
              "    [theme=dark] .colab-df-convert {\n",
              "      background-color: #3B4455;\n",
              "      fill: #D2E3FC;\n",
              "    }\n",
              "\n",
              "    [theme=dark] .colab-df-convert:hover {\n",
              "      background-color: #434B5C;\n",
              "      box-shadow: 0px 1px 3px 1px rgba(0, 0, 0, 0.15);\n",
              "      filter: drop-shadow(0px 1px 2px rgba(0, 0, 0, 0.3));\n",
              "      fill: #FFFFFF;\n",
              "    }\n",
              "  </style>\n",
              "\n",
              "      <script>\n",
              "        const buttonEl =\n",
              "          document.querySelector('#df-93262249-63eb-4287-a9ca-55c2fde6f00e button.colab-df-convert');\n",
              "        buttonEl.style.display =\n",
              "          google.colab.kernel.accessAllowed ? 'block' : 'none';\n",
              "\n",
              "        async function convertToInteractive(key) {\n",
              "          const element = document.querySelector('#df-93262249-63eb-4287-a9ca-55c2fde6f00e');\n",
              "          const dataTable =\n",
              "            await google.colab.kernel.invokeFunction('convertToInteractive',\n",
              "                                                     [key], {});\n",
              "          if (!dataTable) return;\n",
              "\n",
              "          const docLinkHtml = 'Like what you see? Visit the ' +\n",
              "            '<a target=\"_blank\" href=https://colab.research.google.com/notebooks/data_table.ipynb>data table notebook</a>'\n",
              "            + ' to learn more about interactive tables.';\n",
              "          element.innerHTML = '';\n",
              "          dataTable['output_type'] = 'display_data';\n",
              "          await google.colab.output.renderOutput(dataTable, element);\n",
              "          const docLink = document.createElement('div');\n",
              "          docLink.innerHTML = docLinkHtml;\n",
              "          element.appendChild(docLink);\n",
              "        }\n",
              "      </script>\n",
              "    </div>\n",
              "  </div>\n",
              "  "
            ]
          },
          "metadata": {},
          "execution_count": 49
        }
      ]
    },
    {
      "cell_type": "code",
      "metadata": {
        "id": "6oXdepozupto"
      },
      "source": [
        "def generate_coordinates(scores, classes, verbose = True):\n",
        "  # thresholds can be obtained from scores\n",
        "  thresholds = scores.unique()\n",
        "\n",
        "  # initialise lists\n",
        "  tprs = []\n",
        "  fprs = []\n",
        "  \n",
        "  ##### YOUR CODE STARTS #####\n",
        "  for threshold in thresholds:\n",
        "    if (verbose == True):\n",
        "      print(f'For threshold {threshold}')\n",
        "    \n",
        "    predictions = scores >= threshold\n",
        "    pred_positive = classes[predictions == 1].to_numpy().flatten()\n",
        "    pred_negative = classes[predictions == 0].to_numpy().flatten()\n",
        "    \n",
        "    tp = np.sum(pred_positive == 1)\n",
        "    fn = np.sum(pred_negative == 1)\n",
        "    tn = np.sum(pred_positive == 0)\n",
        "    fp = np.sum(pred_negative == 0)\n",
        "    \n",
        "    if (verbose == True):\n",
        "      print(f'tp = {tp}, fn = {fn}, tn = {tn}, fp = {fp}')\n",
        "    \n",
        "    tpr = tp/(tp + fn) # the same as recall\n",
        "    fpr = fp/(tn + fp)\n",
        "    \n",
        "    if (verbose == True):\n",
        "      print(f'FPR = {np.round(fpr, 2)}, TPR = {np.round(tpr, 2)}\\n')\n",
        "    \n",
        "    tprs.append(tpr)\n",
        "    fprs.append(fpr)\n",
        "\n",
        "  roc_coordinates = pd.DataFrame({'FPR': np.round(fprs, 2), 'TPR': np.round(tprs, 2)}, index=thresholds)\n",
        "\n",
        "  ##### YOUR CODE ENDS #####\n",
        "  return roc_coordinates"
      ],
      "execution_count": null,
      "outputs": []
    },
    {
      "cell_type": "code",
      "metadata": {
        "id": "XhtvA8kTic1e",
        "colab": {
          "base_uri": "https://localhost:8080/"
        },
        "outputId": "b1f1d6f2-63e3-48a8-e0c8-d3a6ac355470"
      },
      "source": [
        "dummy_roc_coordinates = generate_coordinates(unbalanced_data['scores'], unbalanced_data['class'])"
      ],
      "execution_count": null,
      "outputs": [
        {
          "output_type": "stream",
          "name": "stdout",
          "text": [
            "For threshold 1.0\n",
            "tp = 9, fn = 0, tn = 1, fp = 0\n",
            "FPR = 0.0, TPR = 1.0\n",
            "\n"
          ]
        }
      ]
    },
    {
      "cell_type": "code",
      "metadata": {
        "id": "eZslXg2peeCn",
        "colab": {
          "base_uri": "https://localhost:8080/",
          "height": 112
        },
        "outputId": "412745b3-854b-4b6e-b39b-a554d9ef700e"
      },
      "source": [
        "# Concat with old DataFrame and reset the Index.\n",
        "top_row =  pd.DataFrame({'FPR':0, 'TPR':0}, index=[1.0])\n",
        "final_dummy_roc_coordinates = pd.concat([top_row, dummy_roc_coordinates])\n",
        "final_dummy_roc_coordinates"
      ],
      "execution_count": null,
      "outputs": [
        {
          "output_type": "execute_result",
          "data": {
            "text/plain": [
              "     FPR  TPR\n",
              "1.0  0.0  0.0\n",
              "1.0  0.0  1.0"
            ],
            "text/html": [
              "\n",
              "  <div id=\"df-2bfa21e6-fff2-4184-b56f-ea8739c9bfba\">\n",
              "    <div class=\"colab-df-container\">\n",
              "      <div>\n",
              "<style scoped>\n",
              "    .dataframe tbody tr th:only-of-type {\n",
              "        vertical-align: middle;\n",
              "    }\n",
              "\n",
              "    .dataframe tbody tr th {\n",
              "        vertical-align: top;\n",
              "    }\n",
              "\n",
              "    .dataframe thead th {\n",
              "        text-align: right;\n",
              "    }\n",
              "</style>\n",
              "<table border=\"1\" class=\"dataframe\">\n",
              "  <thead>\n",
              "    <tr style=\"text-align: right;\">\n",
              "      <th></th>\n",
              "      <th>FPR</th>\n",
              "      <th>TPR</th>\n",
              "    </tr>\n",
              "  </thead>\n",
              "  <tbody>\n",
              "    <tr>\n",
              "      <th>1.0</th>\n",
              "      <td>0.0</td>\n",
              "      <td>0.0</td>\n",
              "    </tr>\n",
              "    <tr>\n",
              "      <th>1.0</th>\n",
              "      <td>0.0</td>\n",
              "      <td>1.0</td>\n",
              "    </tr>\n",
              "  </tbody>\n",
              "</table>\n",
              "</div>\n",
              "      <button class=\"colab-df-convert\" onclick=\"convertToInteractive('df-2bfa21e6-fff2-4184-b56f-ea8739c9bfba')\"\n",
              "              title=\"Convert this dataframe to an interactive table.\"\n",
              "              style=\"display:none;\">\n",
              "        \n",
              "  <svg xmlns=\"http://www.w3.org/2000/svg\" height=\"24px\"viewBox=\"0 0 24 24\"\n",
              "       width=\"24px\">\n",
              "    <path d=\"M0 0h24v24H0V0z\" fill=\"none\"/>\n",
              "    <path d=\"M18.56 5.44l.94 2.06.94-2.06 2.06-.94-2.06-.94-.94-2.06-.94 2.06-2.06.94zm-11 1L8.5 8.5l.94-2.06 2.06-.94-2.06-.94L8.5 2.5l-.94 2.06-2.06.94zm10 10l.94 2.06.94-2.06 2.06-.94-2.06-.94-.94-2.06-.94 2.06-2.06.94z\"/><path d=\"M17.41 7.96l-1.37-1.37c-.4-.4-.92-.59-1.43-.59-.52 0-1.04.2-1.43.59L10.3 9.45l-7.72 7.72c-.78.78-.78 2.05 0 2.83L4 21.41c.39.39.9.59 1.41.59.51 0 1.02-.2 1.41-.59l7.78-7.78 2.81-2.81c.8-.78.8-2.07 0-2.86zM5.41 20L4 18.59l7.72-7.72 1.47 1.35L5.41 20z\"/>\n",
              "  </svg>\n",
              "      </button>\n",
              "      \n",
              "  <style>\n",
              "    .colab-df-container {\n",
              "      display:flex;\n",
              "      flex-wrap:wrap;\n",
              "      gap: 12px;\n",
              "    }\n",
              "\n",
              "    .colab-df-convert {\n",
              "      background-color: #E8F0FE;\n",
              "      border: none;\n",
              "      border-radius: 50%;\n",
              "      cursor: pointer;\n",
              "      display: none;\n",
              "      fill: #1967D2;\n",
              "      height: 32px;\n",
              "      padding: 0 0 0 0;\n",
              "      width: 32px;\n",
              "    }\n",
              "\n",
              "    .colab-df-convert:hover {\n",
              "      background-color: #E2EBFA;\n",
              "      box-shadow: 0px 1px 2px rgba(60, 64, 67, 0.3), 0px 1px 3px 1px rgba(60, 64, 67, 0.15);\n",
              "      fill: #174EA6;\n",
              "    }\n",
              "\n",
              "    [theme=dark] .colab-df-convert {\n",
              "      background-color: #3B4455;\n",
              "      fill: #D2E3FC;\n",
              "    }\n",
              "\n",
              "    [theme=dark] .colab-df-convert:hover {\n",
              "      background-color: #434B5C;\n",
              "      box-shadow: 0px 1px 3px 1px rgba(0, 0, 0, 0.15);\n",
              "      filter: drop-shadow(0px 1px 2px rgba(0, 0, 0, 0.3));\n",
              "      fill: #FFFFFF;\n",
              "    }\n",
              "  </style>\n",
              "\n",
              "      <script>\n",
              "        const buttonEl =\n",
              "          document.querySelector('#df-2bfa21e6-fff2-4184-b56f-ea8739c9bfba button.colab-df-convert');\n",
              "        buttonEl.style.display =\n",
              "          google.colab.kernel.accessAllowed ? 'block' : 'none';\n",
              "\n",
              "        async function convertToInteractive(key) {\n",
              "          const element = document.querySelector('#df-2bfa21e6-fff2-4184-b56f-ea8739c9bfba');\n",
              "          const dataTable =\n",
              "            await google.colab.kernel.invokeFunction('convertToInteractive',\n",
              "                                                     [key], {});\n",
              "          if (!dataTable) return;\n",
              "\n",
              "          const docLinkHtml = 'Like what you see? Visit the ' +\n",
              "            '<a target=\"_blank\" href=https://colab.research.google.com/notebooks/data_table.ipynb>data table notebook</a>'\n",
              "            + ' to learn more about interactive tables.';\n",
              "          element.innerHTML = '';\n",
              "          dataTable['output_type'] = 'display_data';\n",
              "          await google.colab.output.renderOutput(dataTable, element);\n",
              "          const docLink = document.createElement('div');\n",
              "          docLink.innerHTML = docLinkHtml;\n",
              "          element.appendChild(docLink);\n",
              "        }\n",
              "      </script>\n",
              "    </div>\n",
              "  </div>\n",
              "  "
            ]
          },
          "metadata": {},
          "execution_count": 53
        }
      ]
    },
    {
      "cell_type": "code",
      "metadata": {
        "id": "enSSXLBYijKR",
        "colab": {
          "base_uri": "https://localhost:8080/",
          "height": 480
        },
        "outputId": "4b899772-6c9d-4153-f814-9cb2a5ccfacb"
      },
      "source": [
        "fig = (\n",
        "    ggplot(data = final_dummy_roc_coordinates,\n",
        "          mapping = aes(x = 'FPR', y = 'TPR')) +\n",
        "     geom_polygon(data = pd.concat([final_dummy_roc_coordinates, pd.DataFrame({'FPR':1, 'TPR':0}, index=[1.0])]), alpha = 0.3, fill = '#773F9B') + \n",
        "     geom_path(aes(x='FPR', y='TPR'), group=1, colour = '#773F9B', size = 2) +\n",
        "     geom_point(colour = '#B36AE2', \n",
        "                shape = 'o',\n",
        "                fill = '#773F9B', \n",
        "                size = 4.0,\n",
        "                stroke = 2.0) +\n",
        "    labs(\n",
        "        title ='',\n",
        "        x = 'FPR',\n",
        "        y = 'TPR',\n",
        "    ) +\n",
        "    theme_bw() + \n",
        "    theme(figure_size = (5, 5),\n",
        "          axis_line = element_line(size = 0.5, colour = \"black\"),\n",
        "          panel_grid_major = element_line(size = 0.05, colour = \"black\"),\n",
        "          panel_grid_minor = element_line(size = 0.05, colour = \"black\"),\n",
        "          axis_text = element_text(colour ='black'))\n",
        "    )\n",
        "fig"
      ],
      "execution_count": null,
      "outputs": [
        {
          "output_type": "display_data",
          "data": {
            "text/plain": [
              "<Figure size 500x500 with 1 Axes>"
            ],
            "image/png": "[encoded data removed]"
          },
          "metadata": {}
        },
        {
          "output_type": "execute_result",
          "data": {
            "text/plain": [
              "<ggplot: (8742447233441)>"
            ]
          },
          "metadata": {},
          "execution_count": 54
        }
      ]
    },
    {
      "cell_type": "code",
      "metadata": {
        "id": "7g8gG8vdGVaK",
        "colab": {
          "base_uri": "https://localhost:8080/"
        },
        "outputId": "74e9ff1f-4448-454d-b062-c57fe5d76451"
      },
      "source": [
        "np.round(metrics.roc_auc_score(unbalanced_data['class'], unbalanced_data['scores']),3)"
      ],
      "execution_count": null,
      "outputs": [
        {
          "output_type": "execute_result",
          "data": {
            "text/plain": [
              "0.5"
            ]
          },
          "metadata": {},
          "execution_count": 55
        }
      ]
    },
    {
      "cell_type": "markdown",
      "metadata": {
        "id": "lqK92P76wrVN"
      },
      "source": [
        "## You can compare classifiers by plotting their ROCs"
      ]
    },
    {
      "cell_type": "code",
      "metadata": {
        "id": "Eg_SyeJMyyvF"
      },
      "source": [
        "def plot_roc(coordinates_dict):\n",
        "  \"\"\"\n",
        "  plot_roc function plots all models' ROCs on one plot\n",
        "  \"\"\"\n",
        "  plotting_data = pd.DataFrame(columns=['FPR', 'TPR', 'Method'])\n",
        "\n",
        "  for id, name in enumerate(coordinates_dict.keys()):\n",
        "    method_data = coordinates_dict[name]\n",
        "    method_data['Method'] = name\n",
        "    plotting_data = pd.concat([plotting_data, method_data])\n",
        "  \n",
        "  plotting_data['Method'] = pd.Categorical(plotting_data['Method'])\n",
        "  \n",
        "  # To those of you who are interested in what the hell is going on\n",
        "  # check the comments for each line:\n",
        "  roc_plot = (\n",
        "        ggplot(data = plotting_data, # creates a canvas\n",
        "        mapping = aes(x = 'FPR', y = 'TPR', colour = 'Method')) + # specifies dimensions\n",
        "        geom_path(size = 1.5) + # determines geometric primitive to be visualised (path/line in our case) and its thickness \n",
        "        labs(title ='', x = 'FPR', y = 'TPR') + # labels of the x and y axes\n",
        "        # this is all for the figure, beloow are only formatting specs\n",
        "        theme_bw() + # colour schema \n",
        "        theme(figure_size = (5, 5), # figure size\n",
        "              axis_line = element_line(size = 0.5, colour = \"black\"), \n",
        "              panel_grid_major = element_line(size = 0.05, colour = \"black\"),\n",
        "              panel_grid_minor = element_line(size = 0.05, colour = \"black\"),\n",
        "              axis_text = element_text(colour ='black')) # more formatting details \n",
        "      )\n",
        "  return roc_plot\n"
      ],
      "execution_count": null,
      "outputs": []
    },
    {
      "cell_type": "code",
      "metadata": {
        "id": "lDzF6LiS6RSK",
        "colab": {
          "base_uri": "https://localhost:8080/",
          "height": 480
        },
        "outputId": "1cf49d1e-29fc-439c-f9ee-25f0d999386f"
      },
      "source": [
        "plot_roc(dict({'dummy': final_dummy_roc_coordinates,\n",
        "               'Logit': final_roc_coordinates}))"
      ],
      "execution_count": null,
      "outputs": [
        {
          "output_type": "display_data",
          "data": {
            "text/plain": [
              "<Figure size 500x500 with 1 Axes>"
            ],
            "image/png": "[encoded data removed]"
          },
          "metadata": {}
        },
        {
          "output_type": "execute_result",
          "data": {
            "text/plain": [
              "<ggplot: (8742447199113)>"
            ]
          },
          "metadata": {},
          "execution_count": 57
        }
      ]
    },
    {
      "cell_type": "markdown",
      "metadata": {
        "id": "g6l1fR3PGX3d"
      },
      "source": [
        "### ROC in Sklearn "
      ]
    },
    {
      "cell_type": "code",
      "metadata": {
        "id": "7Y_1exSJxSpo",
        "colab": {
          "base_uri": "https://localhost:8080/",
          "height": 295
        },
        "outputId": "76371e24-6971-4eca-b5ea-356afa2f6001"
      },
      "source": [
        "from sklearn.metrics import plot_roc_curve\n",
        "import matplotlib.pyplot as plt\n",
        "\n",
        "# Re-fitting on example_data instead of unbalanced_data\n",
        "majority_class_model.fit(example_data[[\"x1\" , \"x2\"]], example_data[[\"class\"]])\n",
        "logit.fit(example_data[['x1','x2']], example_data['class'])\n",
        "\n",
        "# No predictions are required only the model object\n",
        "fig, ax = plt.subplots()\n",
        "plot_roc_curve(majority_class_model, example_data[['x1','x2']], example_data['class'], ax=ax) \n",
        "plot_roc_curve(logit, example_data[['x1','x2']], example_data['class'], ax=ax) \n",
        "ax.set_title('ROC plots')\n",
        "plt.show() "
      ],
      "execution_count": null,
      "outputs": [
        {
          "output_type": "display_data",
          "data": {
            "text/plain": [
              "<Figure size 432x288 with 1 Axes>"
            ],
            "image/png": "[encoded data removed]"
          },
          "metadata": {
            "needs_background": "light"
          }
        }
      ]
    },
    {
      "cell_type": "code",
      "source": [],
      "metadata": {
        "id": "CmSr6eEh9LcR"
      },
      "execution_count": null,
      "outputs": []
    }
  ]
}