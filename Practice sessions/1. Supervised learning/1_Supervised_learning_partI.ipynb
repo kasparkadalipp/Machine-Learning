{
  "nbformat": 4,
  "nbformat_minor": 0,
  "metadata": {
    "colab": {
      "provenance": []
    },
    "kernelspec": {
      "display_name": "Python 3",
      "language": "python",
      "name": "python3"
    },
    "language_info": {
      "codemirror_mode": {
        "name": "ipython",
        "version": 3
      },
      "file_extension": ".py",
      "mimetype": "text/x-python",
      "name": "python",
      "nbconvert_exporter": "python",
      "pygments_lexer": "ipython3",
      "version": "3.7.3"
    }
  },
  "cells": [
    {
      "cell_type": "markdown",
      "metadata": {
        "id": "qmpZeRhwGmqX"
      },
      "source": [
        "# Introduction to supervised learning \n",
        "\n",
        "Let's practice the material that was discussed during the lecture. Please, make a copy of this colaboratory in order to be able to make changes **(File -> Save a copy in Drive)**.\n",
        "\n",
        "**Homework #1** associated with this practice session is linked on the homework's page, the deadline is **September 18, Sunday, midnight (23:59 EET time)**\n"
      ]
    },
    {
      "cell_type": "markdown",
      "metadata": {
        "id": "ZV4uCvr556Ey"
      },
      "source": [
        "## Introducing Colaboratory (Colab)\n",
        "**Colaboratory**, is a great tool created by Google for individuals interested in getting a hands-on experience with Machine Learning (including Deep Learning). It offers a free CPU/**GPU** quota and a preconfigured virtual machine instance set up for to run Tensorflow and Keras libraries using a Jupyter notebook instance. **In one sentence, it is a perfect “getting started” point for experimentation with neural networks for any part-time hobbist or computer nerd**.\n",
        "\n",
        "*Introductory text by Oleg Żero (https://zerowithdot.com/colab-workspace/).*\n"
      ]
    },
    {
      "cell_type": "code",
      "metadata": {
        "id": "cMZE8eDa6ZDP",
        "colab": {
          "base_uri": "https://localhost:8080/"
        },
        "outputId": "9b567ef0-d508-4585-b800-a3b1153640a7"
      },
      "source": [
        "!ls"
      ],
      "execution_count": null,
      "outputs": [
        {
          "output_type": "stream",
          "name": "stdout",
          "text": [
            "sample_data\n"
          ]
        }
      ]
    },
    {
      "cell_type": "markdown",
      "metadata": {
        "id": "_y2ZD14f9EQt"
      },
      "source": [
        "## Classification with KNN on MNIST\n",
        "We shall use classical MNIST dataset to practice one of the simplest machine learning algorithms - Nearest Neighbour algorithm and its extension - K-Nearest Neighbour algorithm. MNIST stands for Mixed National Institute of Standards and Technology and contains almost 60000 small square 28×28 pixel grayscale images of digits from 0 to 9. Let's load it!"
      ]
    },
    {
      "cell_type": "markdown",
      "metadata": {
        "id": "NJIhqUhr40Ks"
      },
      "source": [
        "### Setup: \n",
        "Here we will load necessary libraries (NumPy and Pandas) and MNIST dataset "
      ]
    },
    {
      "cell_type": "code",
      "metadata": {
        "id": "bqp9Kj1g4yFb"
      },
      "source": [
        "import numpy as np # for matrix stuff\n",
        "import pandas as pd # to work with datasets\n",
        "import matplotlib.pyplot as plt # subjectively ugly plotting here\n",
        "from seaborn import countplot # a bit less ugly plotting"
      ],
      "execution_count": null,
      "outputs": []
    },
    {
      "cell_type": "markdown",
      "source": [
        "Getting MNIST dataset from Keras library"
      ],
      "metadata": {
        "id": "UXZDm5MrMLsk"
      }
    },
    {
      "cell_type": "code",
      "source": [
        "from tensorflow.keras.datasets import mnist\n",
        "(images, labels),(_, _) = mnist.load_data()"
      ],
      "metadata": {
        "id": "cdbtu65AGoYT",
        "colab": {
          "base_uri": "https://localhost:8080/"
        },
        "outputId": "f4582ca0-5314-4277-8c96-a4d84e42fa54"
      },
      "execution_count": null,
      "outputs": [
        {
          "output_type": "stream",
          "name": "stdout",
          "text": [
            "Downloading data from https://storage.googleapis.com/tensorflow/tf-keras-datasets/mnist.npz\n",
            "11493376/11490434 [==============================] - 0s 0us/step\n",
            "11501568/11490434 [==============================] - 0s 0us/step\n"
          ]
        }
      ]
    },
    {
      "cell_type": "code",
      "source": [
        "images = images / 255 # normalising images"
      ],
      "metadata": {
        "id": "XpWj2xacZgov"
      },
      "execution_count": null,
      "outputs": []
    },
    {
      "cell_type": "markdown",
      "metadata": {
        "id": "uuGg44WglSCR"
      },
      "source": [
        "We check the dimensionality of the downloaded images:"
      ]
    },
    {
      "cell_type": "code",
      "source": [
        "print(f\"images are of shape: {images.shape} and labels: {labels.shape}\")"
      ],
      "metadata": {
        "id": "2mZI5osnADzR",
        "colab": {
          "base_uri": "https://localhost:8080/"
        },
        "outputId": "7d7cea94-96e7-4bcc-ae17-f47da5e15f9e"
      },
      "execution_count": null,
      "outputs": [
        {
          "output_type": "stream",
          "name": "stdout",
          "text": [
            "images are of shape: (60000, 28, 28) and labels: (60000,)\n"
          ]
        }
      ]
    },
    {
      "cell_type": "markdown",
      "metadata": {
        "id": "6pjoMXl362uf"
      },
      "source": [
        "### Visualising MNIST"
      ]
    },
    {
      "cell_type": "markdown",
      "source": [
        "Let's look into the first image:"
      ],
      "metadata": {
        "id": "acm9k00bM3DA"
      }
    },
    {
      "cell_type": "code",
      "metadata": {
        "id": "ukpUqfgl4S3j",
        "colab": {
          "base_uri": "https://localhost:8080/"
        },
        "outputId": "18cabce1-ce23-4145-ff04-d27c400c8df1"
      },
      "source": [
        "print(images[0])"
      ],
      "execution_count": null,
      "outputs": [
        {
          "output_type": "stream",
          "name": "stdout",
          "text": [
            "[[0.         0.         0.         0.         0.         0.\n",
            "  0.         0.         0.         0.         0.         0.\n",
            "  0.         0.         0.         0.         0.         0.\n",
            "  0.         0.         0.         0.         0.         0.\n",
            "  0.         0.         0.         0.        ]\n",
            " [0.         0.         0.         0.         0.         0.\n",
            "  0.         0.         0.         0.         0.         0.\n",
            "  0.         0.         0.         0.         0.         0.\n",
            "  0.         0.         0.         0.         0.         0.\n",
            "  0.         0.         0.         0.        ]\n",
            " [0.         0.         0.         0.         0.         0.\n",
            "  0.         0.         0.         0.         0.         0.\n",
            "  0.         0.         0.         0.         0.         0.\n",
            "  0.         0.         0.         0.         0.         0.\n",
            "  0.         0.         0.         0.        ]\n",
            " [0.         0.         0.         0.         0.         0.\n",
            "  0.         0.         0.         0.         0.         0.\n",
            "  0.         0.         0.         0.         0.         0.\n",
            "  0.         0.         0.         0.         0.         0.\n",
            "  0.         0.         0.         0.        ]\n",
            " [0.         0.         0.         0.         0.         0.\n",
            "  0.         0.         0.         0.         0.         0.\n",
            "  0.         0.         0.         0.         0.         0.\n",
            "  0.         0.         0.         0.         0.         0.\n",
            "  0.         0.         0.         0.        ]\n",
            " [0.         0.         0.         0.         0.         0.\n",
            "  0.         0.         0.         0.         0.         0.\n",
            "  0.01176471 0.07058824 0.07058824 0.07058824 0.49411765 0.53333333\n",
            "  0.68627451 0.10196078 0.65098039 1.         0.96862745 0.49803922\n",
            "  0.         0.         0.         0.        ]\n",
            " [0.         0.         0.         0.         0.         0.\n",
            "  0.         0.         0.11764706 0.14117647 0.36862745 0.60392157\n",
            "  0.66666667 0.99215686 0.99215686 0.99215686 0.99215686 0.99215686\n",
            "  0.88235294 0.6745098  0.99215686 0.94901961 0.76470588 0.25098039\n",
            "  0.         0.         0.         0.        ]\n",
            " [0.         0.         0.         0.         0.         0.\n",
            "  0.         0.19215686 0.93333333 0.99215686 0.99215686 0.99215686\n",
            "  0.99215686 0.99215686 0.99215686 0.99215686 0.99215686 0.98431373\n",
            "  0.36470588 0.32156863 0.32156863 0.21960784 0.15294118 0.\n",
            "  0.         0.         0.         0.        ]\n",
            " [0.         0.         0.         0.         0.         0.\n",
            "  0.         0.07058824 0.85882353 0.99215686 0.99215686 0.99215686\n",
            "  0.99215686 0.99215686 0.77647059 0.71372549 0.96862745 0.94509804\n",
            "  0.         0.         0.         0.         0.         0.\n",
            "  0.         0.         0.         0.        ]\n",
            " [0.         0.         0.         0.         0.         0.\n",
            "  0.         0.         0.31372549 0.61176471 0.41960784 0.99215686\n",
            "  0.99215686 0.80392157 0.04313725 0.         0.16862745 0.60392157\n",
            "  0.         0.         0.         0.         0.         0.\n",
            "  0.         0.         0.         0.        ]\n",
            " [0.         0.         0.         0.         0.         0.\n",
            "  0.         0.         0.         0.05490196 0.00392157 0.60392157\n",
            "  0.99215686 0.35294118 0.         0.         0.         0.\n",
            "  0.         0.         0.         0.         0.         0.\n",
            "  0.         0.         0.         0.        ]\n",
            " [0.         0.         0.         0.         0.         0.\n",
            "  0.         0.         0.         0.         0.         0.54509804\n",
            "  0.99215686 0.74509804 0.00784314 0.         0.         0.\n",
            "  0.         0.         0.         0.         0.         0.\n",
            "  0.         0.         0.         0.        ]\n",
            " [0.         0.         0.         0.         0.         0.\n",
            "  0.         0.         0.         0.         0.         0.04313725\n",
            "  0.74509804 0.99215686 0.2745098  0.         0.         0.\n",
            "  0.         0.         0.         0.         0.         0.\n",
            "  0.         0.         0.         0.        ]\n",
            " [0.         0.         0.         0.         0.         0.\n",
            "  0.         0.         0.         0.         0.         0.\n",
            "  0.1372549  0.94509804 0.88235294 0.62745098 0.42352941 0.00392157\n",
            "  0.         0.         0.         0.         0.         0.\n",
            "  0.         0.         0.         0.        ]\n",
            " [0.         0.         0.         0.         0.         0.\n",
            "  0.         0.         0.         0.         0.         0.\n",
            "  0.         0.31764706 0.94117647 0.99215686 0.99215686 0.46666667\n",
            "  0.09803922 0.         0.         0.         0.         0.\n",
            "  0.         0.         0.         0.        ]\n",
            " [0.         0.         0.         0.         0.         0.\n",
            "  0.         0.         0.         0.         0.         0.\n",
            "  0.         0.         0.17647059 0.72941176 0.99215686 0.99215686\n",
            "  0.58823529 0.10588235 0.         0.         0.         0.\n",
            "  0.         0.         0.         0.        ]\n",
            " [0.         0.         0.         0.         0.         0.\n",
            "  0.         0.         0.         0.         0.         0.\n",
            "  0.         0.         0.         0.0627451  0.36470588 0.98823529\n",
            "  0.99215686 0.73333333 0.         0.         0.         0.\n",
            "  0.         0.         0.         0.        ]\n",
            " [0.         0.         0.         0.         0.         0.\n",
            "  0.         0.         0.         0.         0.         0.\n",
            "  0.         0.         0.         0.         0.         0.97647059\n",
            "  0.99215686 0.97647059 0.25098039 0.         0.         0.\n",
            "  0.         0.         0.         0.        ]\n",
            " [0.         0.         0.         0.         0.         0.\n",
            "  0.         0.         0.         0.         0.         0.\n",
            "  0.         0.         0.18039216 0.50980392 0.71764706 0.99215686\n",
            "  0.99215686 0.81176471 0.00784314 0.         0.         0.\n",
            "  0.         0.         0.         0.        ]\n",
            " [0.         0.         0.         0.         0.         0.\n",
            "  0.         0.         0.         0.         0.         0.\n",
            "  0.15294118 0.58039216 0.89803922 0.99215686 0.99215686 0.99215686\n",
            "  0.98039216 0.71372549 0.         0.         0.         0.\n",
            "  0.         0.         0.         0.        ]\n",
            " [0.         0.         0.         0.         0.         0.\n",
            "  0.         0.         0.         0.         0.09411765 0.44705882\n",
            "  0.86666667 0.99215686 0.99215686 0.99215686 0.99215686 0.78823529\n",
            "  0.30588235 0.         0.         0.         0.         0.\n",
            "  0.         0.         0.         0.        ]\n",
            " [0.         0.         0.         0.         0.         0.\n",
            "  0.         0.         0.09019608 0.25882353 0.83529412 0.99215686\n",
            "  0.99215686 0.99215686 0.99215686 0.77647059 0.31764706 0.00784314\n",
            "  0.         0.         0.         0.         0.         0.\n",
            "  0.         0.         0.         0.        ]\n",
            " [0.         0.         0.         0.         0.         0.\n",
            "  0.07058824 0.67058824 0.85882353 0.99215686 0.99215686 0.99215686\n",
            "  0.99215686 0.76470588 0.31372549 0.03529412 0.         0.\n",
            "  0.         0.         0.         0.         0.         0.\n",
            "  0.         0.         0.         0.        ]\n",
            " [0.         0.         0.         0.         0.21568627 0.6745098\n",
            "  0.88627451 0.99215686 0.99215686 0.99215686 0.99215686 0.95686275\n",
            "  0.52156863 0.04313725 0.         0.         0.         0.\n",
            "  0.         0.         0.         0.         0.         0.\n",
            "  0.         0.         0.         0.        ]\n",
            " [0.         0.         0.         0.         0.53333333 0.99215686\n",
            "  0.99215686 0.99215686 0.83137255 0.52941176 0.51764706 0.0627451\n",
            "  0.         0.         0.         0.         0.         0.\n",
            "  0.         0.         0.         0.         0.         0.\n",
            "  0.         0.         0.         0.        ]\n",
            " [0.         0.         0.         0.         0.         0.\n",
            "  0.         0.         0.         0.         0.         0.\n",
            "  0.         0.         0.         0.         0.         0.\n",
            "  0.         0.         0.         0.         0.         0.\n",
            "  0.         0.         0.         0.        ]\n",
            " [0.         0.         0.         0.         0.         0.\n",
            "  0.         0.         0.         0.         0.         0.\n",
            "  0.         0.         0.         0.         0.         0.\n",
            "  0.         0.         0.         0.         0.         0.\n",
            "  0.         0.         0.         0.        ]\n",
            " [0.         0.         0.         0.         0.         0.\n",
            "  0.         0.         0.         0.         0.         0.\n",
            "  0.         0.         0.         0.         0.         0.\n",
            "  0.         0.         0.         0.         0.         0.\n",
            "  0.         0.         0.         0.        ]]\n"
          ]
        }
      ]
    },
    {
      "cell_type": "markdown",
      "source": [
        "That was not super helpful, can we make it more human friendly?"
      ],
      "metadata": {
        "id": "LOGv5o634XTw"
      }
    },
    {
      "cell_type": "code",
      "metadata": {
        "id": "5Lz7Z0w164wa",
        "colab": {
          "base_uri": "https://localhost:8080/",
          "height": 248
        },
        "outputId": "8685bbf6-05f6-43fd-b5fe-4eb6d27cf1c2"
      },
      "source": [
        "plt.imshow(images[0], plt.get_cmap('gray'));\n",
        "plt.axis('off')\n",
        "plt.show()"
      ],
      "execution_count": null,
      "outputs": [
        {
          "output_type": "display_data",
          "data": {
            "text/plain": [
              "<Figure size 432x288 with 1 Axes>"
            ],
            "image/png": "[encoded data removed]"
          },
          "metadata": {
            "needs_background": "light"
          }
        }
      ]
    },
    {
      "cell_type": "markdown",
      "metadata": {
        "id": "IhZI1zCV8MIB"
      },
      "source": [
        "What is the label of this image?"
      ]
    },
    {
      "cell_type": "code",
      "metadata": {
        "id": "zyNG9jTt8Qyu",
        "colab": {
          "base_uri": "https://localhost:8080/"
        },
        "outputId": "9073e2d1-5530-46bd-d001-9905d679ec3f"
      },
      "source": [
        "print (f\"Correct label of the first image is: {labels[0]}\")"
      ],
      "execution_count": null,
      "outputs": [
        {
          "output_type": "stream",
          "name": "stdout",
          "text": [
            "Correct label of the first image is: 5\n"
          ]
        }
      ]
    },
    {
      "cell_type": "markdown",
      "metadata": {
        "id": "X3bKSXt28y8T"
      },
      "source": [
        "### Subsampling\n",
        "\n",
        "Although, in practice you typically want to use as much data as possible to train your models, large datasets are not very suitable for experimenting and visualization -- it is just too annoying to have to wait minutes for each step to continue. Thus, 60000 examples is a bit too much for our purposes, so why not to sample just 2000."
      ]
    },
    {
      "cell_type": "code",
      "metadata": {
        "id": "SDDMSi-29R72"
      },
      "source": [
        "train_images = images[:2000]\n",
        "train_labels = labels[:2000]\n",
        "\n",
        "# images that our system will be validated with\n",
        "test_images = images[2000:3000]\n",
        "test_labels = labels[2000:3000]"
      ],
      "execution_count": null,
      "outputs": []
    },
    {
      "cell_type": "code",
      "metadata": {
        "id": "U01rOKxi9S8K",
        "colab": {
          "base_uri": "https://localhost:8080/",
          "height": 265
        },
        "outputId": "db4281ef-abb6-4569-c385-1c80ce95018c"
      },
      "source": [
        "# We should make sure that the distribution is more or less uniform across our samples\n",
        "plt.hist(train_labels)\n",
        "plt.show()"
      ],
      "execution_count": null,
      "outputs": [
        {
          "output_type": "display_data",
          "data": {
            "text/plain": [
              "<Figure size 432x288 with 1 Axes>"
            ],
            "image/png": "[encoded data removed]"
          },
          "metadata": {
            "needs_background": "light"
          }
        }
      ]
    },
    {
      "cell_type": "code",
      "metadata": {
        "id": "J1oLns910p78",
        "colab": {
          "base_uri": "https://localhost:8080/",
          "height": 283
        },
        "outputId": "2dfe9401-80aa-44e3-8590-9257fdf3b247"
      },
      "source": [
        "countplot(x=train_labels) # it looks better than matplotlib histogram"
      ],
      "execution_count": null,
      "outputs": [
        {
          "output_type": "execute_result",
          "data": {
            "text/plain": [
              "<matplotlib.axes._subplots.AxesSubplot at 0x7f2eafde5410>"
            ]
          },
          "metadata": {},
          "execution_count": 11
        },
        {
          "output_type": "display_data",
          "data": {
            "text/plain": [
              "<Figure size 432x288 with 1 Axes>"
            ],
            "image/png": "[encoded data removed]"
          },
          "metadata": {
            "needs_background": "light"
          }
        }
      ]
    },
    {
      "cell_type": "markdown",
      "metadata": {
        "id": "vqX3QBjzpOhl"
      },
      "source": [
        "Let's see some more examples from all classes."
      ]
    },
    {
      "cell_type": "code",
      "metadata": {
        "id": "mYax3O7BkZzw",
        "colab": {
          "base_uri": "https://localhost:8080/",
          "height": 460
        },
        "outputId": "1f7d6da1-6083-4719-fc0a-12045f95aede"
      },
      "source": [
        "# \"Names\" of classes:\n",
        "classes =  ['0', '1', '2', '3', '4', '5', '6', '7', '8', '9']\n",
        "\n",
        "num_classes = len(classes)\n",
        "samples_per_class = 7\n",
        "fig, axs = plt.subplots(samples_per_class, num_classes, figsize=(10.0, 8.0))\n",
        "\n",
        "for i in range(num_classes):\n",
        "  # select ids of images that correspond to given class\n",
        "  idxs = np.flatnonzero(train_labels == i)\n",
        "\n",
        "  # select a random subset of size samples_per_class\n",
        "  idxs = np.random.choice(idxs, samples_per_class, replace=False)\n",
        "\n",
        "  # visualise\n",
        "  for j, id in enumerate(idxs):\n",
        "    axs[j, i].imshow(train_images[id], cmap='gray')\n",
        "    axs[j, i].axis('off')\n",
        "plt.show()"
      ],
      "execution_count": null,
      "outputs": [
        {
          "output_type": "display_data",
          "data": {
            "text/plain": [
              "<Figure size 720x576 with 70 Axes>"
            ],
            "image/png": "[encoded data removed]"
          },
          "metadata": {
            "needs_background": "light"
          }
        }
      ]
    },
    {
      "cell_type": "markdown",
      "source": [
        "### Implementing the Nearest Neighbour algorithm\n",
        "\n",
        "The algorithm consists of the following three steps:\n",
        "1. Compute distances to all points in the dataset;\n",
        "2. Find the closest point; \n",
        "3. Report the corresponding label.\n",
        "\n",
        "We should start with defining the distance function."
      ],
      "metadata": {
        "id": "e8zbE-55TBRZ"
      }
    },
    {
      "cell_type": "markdown",
      "metadata": {
        "id": "eQH4v-HBeqCX"
      },
      "source": [
        "**Classroom exercise**: Let's define a distance function, let it be Eucledian distance ($L_2$) \n",
        "\n",
        "$$L_2 = \\sqrt{\\sum{(x_1 - x_2)^2}}$$\n",
        "\n"
      ]
    },
    {
      "cell_type": "code",
      "metadata": {
        "id": "SGcd0I9teqCY"
      },
      "source": [
        "def dist(img1, img2):\n",
        "  ##### YOUR CODE STARTS #####\n",
        "  return np.sqrt(np.sum((img1-img2)**2))\n",
        "  ##### YOUR CODE ENDS ##### "
      ],
      "execution_count": null,
      "outputs": []
    },
    {
      "cell_type": "markdown",
      "metadata": {
        "id": "3yZpyMGQ2vtJ"
      },
      "source": [
        "Check the validity of the function here:"
      ]
    },
    {
      "cell_type": "code",
      "metadata": {
        "id": "DGzbw4iDy2q8",
        "colab": {
          "base_uri": "https://localhost:8080/"
        },
        "outputId": "dfbac233-4d03-4a62-e728-6f898f28e1cb"
      },
      "source": [
        "print(f\"Distance between first two images is {dist(train_images[0], train_images[1])} and should be about 9.36\")"
      ],
      "execution_count": null,
      "outputs": [
        {
          "output_type": "stream",
          "name": "stdout",
          "text": [
            "Distance between first two images is 9.361222132577327 and should be about 9.36\n"
          ]
        }
      ]
    },
    {
      "cell_type": "markdown",
      "metadata": {
        "id": "_2mAqlYAeqCc"
      },
      "source": [
        "You can play with the defined function below. Check that the distance between images of the same digit is typically smaller than the distance between images of different digits."
      ]
    },
    {
      "cell_type": "code",
      "metadata": {
        "id": "yv5jbMDIeqCd",
        "colab": {
          "base_uri": "https://localhost:8080/"
        },
        "outputId": "48c04ba4-736c-4f55-a288-d668f3dbf17b"
      },
      "source": [
        "print(f\"Distance between two images with the same class ({train_labels[3]} and {train_labels[6]}) is {dist(train_images[3], train_images[6])}\")\n",
        "print(f\"Distance between two images with different classes ({train_labels[0]} and {train_labels[1]}) is {dist(train_images[0], train_images[1])}\")"
      ],
      "execution_count": null,
      "outputs": [
        {
          "output_type": "stream",
          "name": "stdout",
          "text": [
            "Distance between two images with the same class (1 and 1) is 9.232676037047709\n",
            "Distance between two images with different classes (5 and 0) is 9.361222132577327\n"
          ]
        }
      ]
    },
    {
      "cell_type": "markdown",
      "metadata": {
        "id": "Q1OhO80neqCg"
      },
      "source": [
        "Let's remind us the steps of the NN algorithm:\n",
        "\n",
        "1. Compute distances to all points in the dataset;\n",
        "2. Find the closest point; \n",
        "3. Report the corresponding label.\n",
        "\n",
        "Now that we know the distance function, we can build the rest of the algorithm.\n",
        "\n",
        "**Classroom exercise**: Implement the three steps.\n",
        "\n",
        "We shall do it gently. First we pick a sample image that we will be classifying. Let us say that the first image from the `test_images` is an unknown image sent by our friend:"
      ]
    },
    {
      "cell_type": "code",
      "metadata": {
        "id": "XZUcvMUkdizm"
      },
      "source": [
        "# an unseen image\n",
        "test_image = test_images[1] \n",
        "test_label = test_labels[1]"
      ],
      "execution_count": null,
      "outputs": []
    },
    {
      "cell_type": "code",
      "metadata": {
        "id": "XUREtv7yeqCh",
        "colab": {
          "base_uri": "https://localhost:8080/",
          "height": 248
        },
        "outputId": "f64817ec-847f-4a45-a713-4e0e210a0209"
      },
      "source": [
        "plt.imshow(test_image, plt.get_cmap('gray'));\n",
        "plt.axis('off')\n",
        "plt.show()"
      ],
      "execution_count": null,
      "outputs": [
        {
          "output_type": "display_data",
          "data": {
            "text/plain": [
              "<Figure size 432x288 with 1 Axes>"
            ],
            "image/png": "[encoded data removed]"
          },
          "metadata": {
            "needs_background": "light"
          }
        }
      ]
    },
    {
      "cell_type": "markdown",
      "metadata": {
        "id": "K5C5pdgYeqCk"
      },
      "source": [
        "**Classroom exercise:** compute all distances from the `test_image` to the `train_images` in the dataset"
      ]
    },
    {
      "cell_type": "code",
      "metadata": {
        "id": "-wSVGX-ZeqCk",
        "colab": {
          "base_uri": "https://localhost:8080/"
        },
        "outputId": "ede81e09-4390-46e2-fe5a-139f5f86e2d8"
      },
      "source": [
        "##### YOUR CODE STARTS #####\n",
        "# for loop style\n",
        "distances = []\n",
        "for img in train_images:\n",
        "    distance = dist(test_image,img)\n",
        "    distances.append(distance)\n",
        "\n",
        "# list comprehension version\n",
        "# [<expression with element> for <element> in <list/array>]\n",
        "all_distances = [dist(test_image,img) for img in train_images]\n",
        "print(all_distances[:5])\n",
        "##### YOUR CODE ENDS #####"
      ],
      "execution_count": null,
      "outputs": [
        {
          "output_type": "stream",
          "name": "stdout",
          "text": [
            "[8.688258968642103, 9.92283724354772, 11.886621248524845, 8.865886134353856, 9.589719601218196]\n"
          ]
        }
      ]
    },
    {
      "cell_type": "markdown",
      "metadata": {
        "id": "NmGWAy6seqCm"
      },
      "source": [
        "Now let's find out which image is closest to our `test_image`"
      ]
    },
    {
      "cell_type": "code",
      "metadata": {
        "id": "fF6B4I-beqCn"
      },
      "source": [
        "i = np.argmin(all_distances)"
      ],
      "execution_count": null,
      "outputs": []
    },
    {
      "cell_type": "markdown",
      "metadata": {
        "id": "tuM8j03ueqCq"
      },
      "source": [
        "Almost done, now report a label with index `i` in `train_labels`"
      ]
    },
    {
      "cell_type": "code",
      "metadata": {
        "id": "x6CEvuHEeqCq"
      },
      "source": [
        "predicted_label = train_labels[i]"
      ],
      "execution_count": null,
      "outputs": []
    },
    {
      "cell_type": "markdown",
      "metadata": {
        "id": "gPqeP2-reqCt"
      },
      "source": [
        "Compare it to the true label of the first image in the `train_labels`"
      ]
    },
    {
      "cell_type": "code",
      "metadata": {
        "id": "rCn1qwKoeqCz",
        "colab": {
          "base_uri": "https://localhost:8080/"
        },
        "outputId": "aa490b82-0d88-4bad-b189-88f44193be66"
      },
      "source": [
        "print(f\"Predicted class for the first image is {predicted_label} and the true label is {test_label}\")"
      ],
      "execution_count": null,
      "outputs": [
        {
          "output_type": "stream",
          "name": "stdout",
          "text": [
            "Predicted class for the first image is 8 and the true label is 8\n"
          ]
        }
      ]
    },
    {
      "cell_type": "markdown",
      "metadata": {
        "id": "JmMSNVMqfgjk"
      },
      "source": [
        "Here we can visualise the nearest in terms of the Eucledian distance image from the `train_images`"
      ]
    },
    {
      "cell_type": "code",
      "metadata": {
        "id": "Vhdry7k2eqC1",
        "colab": {
          "base_uri": "https://localhost:8080/",
          "height": 248
        },
        "outputId": "4dd4fc7b-a17e-48b3-fb69-ebb464a6d9a9"
      },
      "source": [
        "plt.imshow(train_images[i], plt.get_cmap('gray'));\n",
        "plt.axis('off')\n",
        "plt.show()"
      ],
      "execution_count": null,
      "outputs": [
        {
          "output_type": "display_data",
          "data": {
            "text/plain": [
              "<Figure size 432x288 with 1 Axes>"
            ],
            "image/png": "[encoded data removed]"
          },
          "metadata": {
            "needs_background": "light"
          }
        }
      ]
    },
    {
      "cell_type": "markdown",
      "metadata": {
        "id": "mKBRz8GNeqC4"
      },
      "source": [
        "**Classroom exercise:** Now we should make a function out of the code we have already written. "
      ]
    },
    {
      "cell_type": "code",
      "metadata": {
        "id": "V50nuLureqC5"
      },
      "source": [
        "def classify(test_image):\n",
        "  ##### YOUR CODE STARTS #####\n",
        "  all_distances = [dist(test_image,img) for img in train_images]\n",
        "  prediction = train_labels[np.argmin(all_distances)]\n",
        "  ##### YOUR CODE ENDS ##### \n",
        "  return prediction"
      ],
      "execution_count": null,
      "outputs": []
    },
    {
      "cell_type": "markdown",
      "metadata": {
        "id": "lf4oXlzteqC8"
      },
      "source": [
        "Let's test this function to verify that it works"
      ]
    },
    {
      "cell_type": "code",
      "metadata": {
        "id": "T0_npOGYeqC-",
        "colab": {
          "base_uri": "https://localhost:8080/"
        },
        "outputId": "4349da51-3472-4401-d5c0-7fb60e4ab793"
      },
      "source": [
        "print(f\"Predicted class for the first image is {classify(test_image)} and the true label is {test_label}\")"
      ],
      "execution_count": null,
      "outputs": [
        {
          "output_type": "stream",
          "name": "stdout",
          "text": [
            "Predicted class for the first image is 8 and the true label is 8\n"
          ]
        }
      ]
    },
    {
      "cell_type": "markdown",
      "metadata": {
        "id": "YKcSRNayg9r7"
      },
      "source": [
        "**Classroom exercise:** Classify all test images and store them into a separate variable `test_predicted`."
      ]
    },
    {
      "cell_type": "code",
      "metadata": {
        "id": "8oIBNn6YgbK9"
      },
      "source": [
        "##### YOUR CODE STARTS #####\n",
        "test_predicted = [classify(img) for img in test_images]\n",
        "# This will take time, why?\n",
        "##### YOUR CODE ENDS ##### "
      ],
      "execution_count": null,
      "outputs": []
    },
    {
      "cell_type": "code",
      "source": [
        "test_predicted"
      ],
      "metadata": {
        "id": "TcPxzDFNZPgc",
        "colab": {
          "base_uri": "https://localhost:8080/"
        },
        "outputId": "4c5646fc-70a3-410b-fb16-20684c755738"
      },
      "execution_count": null,
      "outputs": [
        {
          "output_type": "execute_result",
          "data": {
            "text/plain": [
              "[6,\n",
              " 8,\n",
              " 8,\n",
              " 4,\n",
              " 2,\n",
              " 6,\n",
              " 9,\n",
              " 7,\n",
              " 1,\n",
              " 0,\n",
              " 2,\n",
              " 3,\n",
              " 1,\n",
              " 8,\n",
              " 7,\n",
              " 1,\n",
              " 8,\n",
              " 2,\n",
              " 7,\n",
              " 2,\n",
              " 6,\n",
              " 3,\n",
              " 2,\n",
              " 0,\n",
              " 7,\n",
              " 6,\n",
              " 8,\n",
              " 7,\n",
              " 5,\n",
              " 3,\n",
              " 8,\n",
              " 4,\n",
              " 4,\n",
              " 9,\n",
              " 4,\n",
              " 6,\n",
              " 4,\n",
              " 5,\n",
              " 5,\n",
              " 1,\n",
              " 1,\n",
              " 9,\n",
              " 3,\n",
              " 8,\n",
              " 1,\n",
              " 1,\n",
              " 4,\n",
              " 1,\n",
              " 7,\n",
              " 5,\n",
              " 4,\n",
              " 0,\n",
              " 4,\n",
              " 2,\n",
              " 7,\n",
              " 7,\n",
              " 5,\n",
              " 8,\n",
              " 0,\n",
              " 6,\n",
              " 9,\n",
              " 6,\n",
              " 6,\n",
              " 8,\n",
              " 9,\n",
              " 2,\n",
              " 0,\n",
              " 8,\n",
              " 8,\n",
              " 4,\n",
              " 8,\n",
              " 4,\n",
              " 4,\n",
              " 2,\n",
              " 3,\n",
              " 2,\n",
              " 3,\n",
              " 8,\n",
              " 2,\n",
              " 0,\n",
              " 5,\n",
              " 0,\n",
              " 0,\n",
              " 1,\n",
              " 0,\n",
              " 7,\n",
              " 1,\n",
              " 3,\n",
              " 3,\n",
              " 4,\n",
              " 7,\n",
              " 5,\n",
              " 3,\n",
              " 6,\n",
              " 1,\n",
              " 7,\n",
              " 6,\n",
              " 8,\n",
              " 7,\n",
              " 9,\n",
              " 0,\n",
              " 0,\n",
              " 7,\n",
              " 1,\n",
              " 2,\n",
              " 2,\n",
              " 4,\n",
              " 3,\n",
              " 1,\n",
              " 4,\n",
              " 1,\n",
              " 5,\n",
              " 0,\n",
              " 6,\n",
              " 3,\n",
              " 7,\n",
              " 9,\n",
              " 8,\n",
              " 7,\n",
              " 9,\n",
              " 5,\n",
              " 0,\n",
              " 1,\n",
              " 1,\n",
              " 8,\n",
              " 7,\n",
              " 6,\n",
              " 3,\n",
              " 3,\n",
              " 4,\n",
              " 3,\n",
              " 5,\n",
              " 1,\n",
              " 7,\n",
              " 1,\n",
              " 2,\n",
              " 1,\n",
              " 9,\n",
              " 6,\n",
              " 8,\n",
              " 7,\n",
              " 9,\n",
              " 7,\n",
              " 5,\n",
              " 0,\n",
              " 7,\n",
              " 3,\n",
              " 0,\n",
              " 6,\n",
              " 3,\n",
              " 8,\n",
              " 1,\n",
              " 6,\n",
              " 6,\n",
              " 1,\n",
              " 8,\n",
              " 6,\n",
              " 4,\n",
              " 6,\n",
              " 1,\n",
              " 0,\n",
              " 7,\n",
              " 1,\n",
              " 6,\n",
              " 4,\n",
              " 5,\n",
              " 1,\n",
              " 6,\n",
              " 7,\n",
              " 4,\n",
              " 8,\n",
              " 2,\n",
              " 3,\n",
              " 7,\n",
              " 3,\n",
              " 8,\n",
              " 4,\n",
              " 1,\n",
              " 6,\n",
              " 3,\n",
              " 3,\n",
              " 4,\n",
              " 5,\n",
              " 3,\n",
              " 8,\n",
              " 4,\n",
              " 5,\n",
              " 7,\n",
              " 1,\n",
              " 2,\n",
              " 4,\n",
              " 0,\n",
              " 0,\n",
              " 5,\n",
              " 9,\n",
              " 0,\n",
              " 6,\n",
              " 1,\n",
              " 1,\n",
              " 9,\n",
              " 3,\n",
              " 2,\n",
              " 1,\n",
              " 3,\n",
              " 4,\n",
              " 2,\n",
              " 4,\n",
              " 3,\n",
              " 7,\n",
              " 5,\n",
              " 8,\n",
              " 6,\n",
              " 6,\n",
              " 7,\n",
              " 6,\n",
              " 8,\n",
              " 9,\n",
              " 4,\n",
              " 0,\n",
              " 9,\n",
              " 6,\n",
              " 9,\n",
              " 4,\n",
              " 7,\n",
              " 4,\n",
              " 1,\n",
              " 6,\n",
              " 1,\n",
              " 3,\n",
              " 7,\n",
              " 3,\n",
              " 2,\n",
              " 3,\n",
              " 3,\n",
              " 2,\n",
              " 4,\n",
              " 4,\n",
              " 8,\n",
              " 7,\n",
              " 6,\n",
              " 4,\n",
              " 3,\n",
              " 6,\n",
              " 8,\n",
              " 7,\n",
              " 0,\n",
              " 7,\n",
              " 9,\n",
              " 5,\n",
              " 6,\n",
              " 1,\n",
              " 2,\n",
              " 7,\n",
              " 0,\n",
              " 4,\n",
              " 1,\n",
              " 4,\n",
              " 0,\n",
              " 5,\n",
              " 6,\n",
              " 1,\n",
              " 2,\n",
              " 6,\n",
              " 3,\n",
              " 4,\n",
              " 8,\n",
              " 5,\n",
              " 9,\n",
              " 5,\n",
              " 0,\n",
              " 2,\n",
              " 7,\n",
              " 5,\n",
              " 2,\n",
              " 9,\n",
              " 3,\n",
              " 4,\n",
              " 9,\n",
              " 0,\n",
              " 5,\n",
              " 2,\n",
              " 5,\n",
              " 5,\n",
              " 2,\n",
              " 9,\n",
              " 8,\n",
              " 3,\n",
              " 5,\n",
              " 2,\n",
              " 4,\n",
              " 4,\n",
              " 6,\n",
              " 7,\n",
              " 6,\n",
              " 4,\n",
              " 6,\n",
              " 6,\n",
              " 7,\n",
              " 0,\n",
              " 9,\n",
              " 6,\n",
              " 1,\n",
              " 5,\n",
              " 8,\n",
              " 5,\n",
              " 2,\n",
              " 1,\n",
              " 1,\n",
              " 5,\n",
              " 2,\n",
              " 0,\n",
              " 6,\n",
              " 9,\n",
              " 5,\n",
              " 2,\n",
              " 3,\n",
              " 1,\n",
              " 4,\n",
              " 1,\n",
              " 7,\n",
              " 6,\n",
              " 9,\n",
              " 4,\n",
              " 4,\n",
              " 0,\n",
              " 0,\n",
              " 1,\n",
              " 0,\n",
              " 5,\n",
              " 5,\n",
              " 5,\n",
              " 7,\n",
              " 2,\n",
              " 0,\n",
              " 4,\n",
              " 1,\n",
              " 1,\n",
              " 2,\n",
              " 4,\n",
              " 3,\n",
              " 0,\n",
              " 4,\n",
              " 2,\n",
              " 5,\n",
              " 7,\n",
              " 6,\n",
              " 2,\n",
              " 7,\n",
              " 7,\n",
              " 8,\n",
              " 3,\n",
              " 9,\n",
              " 0,\n",
              " 0,\n",
              " 2,\n",
              " 1,\n",
              " 1,\n",
              " 2,\n",
              " 8,\n",
              " 3,\n",
              " 7,\n",
              " 4,\n",
              " 1,\n",
              " 5,\n",
              " 9,\n",
              " 6,\n",
              " 1,\n",
              " 7,\n",
              " 5,\n",
              " 8,\n",
              " 9,\n",
              " 9,\n",
              " 6,\n",
              " 0,\n",
              " 1,\n",
              " 1,\n",
              " 7,\n",
              " 2,\n",
              " 8,\n",
              " 8,\n",
              " 7,\n",
              " 7,\n",
              " 8,\n",
              " 8,\n",
              " 8,\n",
              " 9,\n",
              " 7,\n",
              " 6,\n",
              " 8,\n",
              " 2,\n",
              " 9,\n",
              " 7,\n",
              " 4,\n",
              " 1,\n",
              " 8,\n",
              " 5,\n",
              " 0,\n",
              " 6,\n",
              " 9,\n",
              " 2,\n",
              " 8,\n",
              " 5,\n",
              " 3,\n",
              " 0,\n",
              " 0,\n",
              " 5,\n",
              " 4,\n",
              " 4,\n",
              " 3,\n",
              " 2,\n",
              " 2,\n",
              " 0,\n",
              " 9,\n",
              " 8,\n",
              " 5,\n",
              " 1,\n",
              " 4,\n",
              " 7,\n",
              " 2,\n",
              " 1,\n",
              " 4,\n",
              " 8,\n",
              " 6,\n",
              " 8,\n",
              " 4,\n",
              " 5,\n",
              " 1,\n",
              " 7,\n",
              " 5,\n",
              " 1,\n",
              " 3,\n",
              " 7,\n",
              " 1,\n",
              " 7,\n",
              " 9,\n",
              " 0,\n",
              " 0,\n",
              " 1,\n",
              " 9,\n",
              " 4,\n",
              " 0,\n",
              " 9,\n",
              " 8,\n",
              " 9,\n",
              " 1,\n",
              " 5,\n",
              " 1,\n",
              " 7,\n",
              " 1,\n",
              " 9,\n",
              " 6,\n",
              " 4,\n",
              " 4,\n",
              " 9,\n",
              " 2,\n",
              " 7,\n",
              " 3,\n",
              " 2,\n",
              " 4,\n",
              " 6,\n",
              " 9,\n",
              " 5,\n",
              " 1,\n",
              " 3,\n",
              " 2,\n",
              " 9,\n",
              " 4,\n",
              " 4,\n",
              " 3,\n",
              " 3,\n",
              " 6,\n",
              " 9,\n",
              " 2,\n",
              " 0,\n",
              " 6,\n",
              " 8,\n",
              " 8,\n",
              " 7,\n",
              " 5,\n",
              " 6,\n",
              " 6,\n",
              " 3,\n",
              " 8,\n",
              " 0,\n",
              " 4,\n",
              " 4,\n",
              " 6,\n",
              " 6,\n",
              " 7,\n",
              " 3,\n",
              " 9,\n",
              " 7,\n",
              " 7,\n",
              " 0,\n",
              " 6,\n",
              " 1,\n",
              " 6,\n",
              " 1,\n",
              " 6,\n",
              " 2,\n",
              " 0,\n",
              " 9,\n",
              " 7,\n",
              " 3,\n",
              " 6,\n",
              " 1,\n",
              " 3,\n",
              " 8,\n",
              " 2,\n",
              " 9,\n",
              " 2,\n",
              " 8,\n",
              " 7,\n",
              " 2,\n",
              " 9,\n",
              " 5,\n",
              " 6,\n",
              " 2,\n",
              " 2,\n",
              " 6,\n",
              " 4,\n",
              " 9,\n",
              " 7,\n",
              " 6,\n",
              " 3,\n",
              " 0,\n",
              " 3,\n",
              " 5,\n",
              " 0,\n",
              " 3,\n",
              " 1,\n",
              " 3,\n",
              " 0,\n",
              " 6,\n",
              " 2,\n",
              " 3,\n",
              " 3,\n",
              " 5,\n",
              " 0,\n",
              " 0,\n",
              " 7,\n",
              " 3,\n",
              " 4,\n",
              " 7,\n",
              " 5,\n",
              " 6,\n",
              " 7,\n",
              " 1,\n",
              " 4,\n",
              " 5,\n",
              " 2,\n",
              " 5,\n",
              " 1,\n",
              " 9,\n",
              " 5,\n",
              " 8,\n",
              " 6,\n",
              " 0,\n",
              " 7,\n",
              " 9,\n",
              " 4,\n",
              " 0,\n",
              " 9,\n",
              " 1,\n",
              " 3,\n",
              " 2,\n",
              " 5,\n",
              " 3,\n",
              " 3,\n",
              " 4,\n",
              " 6,\n",
              " 3,\n",
              " 1,\n",
              " 6,\n",
              " 7,\n",
              " 7,\n",
              " 7,\n",
              " 3,\n",
              " 4,\n",
              " 9,\n",
              " 7,\n",
              " 0,\n",
              " 0,\n",
              " 1,\n",
              " 0,\n",
              " 2,\n",
              " 0,\n",
              " 3,\n",
              " 6,\n",
              " 4,\n",
              " 6,\n",
              " 7,\n",
              " 5,\n",
              " 8,\n",
              " 1,\n",
              " 9,\n",
              " 4,\n",
              " 0,\n",
              " 3,\n",
              " 1,\n",
              " 4,\n",
              " 2,\n",
              " 6,\n",
              " 3,\n",
              " 1,\n",
              " 5,\n",
              " 0,\n",
              " 6,\n",
              " 4,\n",
              " 7,\n",
              " 8,\n",
              " 8,\n",
              " 7,\n",
              " 9,\n",
              " 6,\n",
              " 0,\n",
              " 1,\n",
              " 0,\n",
              " 7,\n",
              " 1,\n",
              " 5,\n",
              " 0,\n",
              " 3,\n",
              " 1,\n",
              " 0,\n",
              " 2,\n",
              " 2,\n",
              " 3,\n",
              " 8,\n",
              " 0,\n",
              " 1,\n",
              " 6,\n",
              " 3,\n",
              " 9,\n",
              " 7,\n",
              " 6,\n",
              " 0,\n",
              " 6,\n",
              " 6,\n",
              " 5,\n",
              " 9,\n",
              " 2,\n",
              " 0,\n",
              " 9,\n",
              " 6,\n",
              " 1,\n",
              " 5,\n",
              " 4,\n",
              " 7,\n",
              " 9,\n",
              " 7,\n",
              " 5,\n",
              " 3,\n",
              " 7,\n",
              " 1,\n",
              " 5,\n",
              " 6,\n",
              " 6,\n",
              " 7,\n",
              " 7,\n",
              " 3,\n",
              " 3,\n",
              " 6,\n",
              " 1,\n",
              " 2,\n",
              " 4,\n",
              " 7,\n",
              " 1,\n",
              " 8,\n",
              " 3,\n",
              " 2,\n",
              " 3,\n",
              " 8,\n",
              " 7,\n",
              " 5,\n",
              " 3,\n",
              " 2,\n",
              " 9,\n",
              " 8,\n",
              " 8,\n",
              " 6,\n",
              " 8,\n",
              " 8,\n",
              " 8,\n",
              " 2,\n",
              " 8,\n",
              " 4,\n",
              " 8,\n",
              " 1,\n",
              " 4,\n",
              " 5,\n",
              " 7,\n",
              " 1,\n",
              " 2,\n",
              " 2,\n",
              " 1,\n",
              " 9,\n",
              " 9,\n",
              " 5,\n",
              " 8,\n",
              " 2,\n",
              " 7,\n",
              " 9,\n",
              " 9,\n",
              " 7,\n",
              " 3,\n",
              " 4,\n",
              " 5,\n",
              " 1,\n",
              " 0,\n",
              " 6,\n",
              " 7,\n",
              " 9,\n",
              " 5,\n",
              " 2,\n",
              " 4,\n",
              " 1,\n",
              " 1,\n",
              " 0,\n",
              " 1,\n",
              " 7,\n",
              " 2,\n",
              " 9,\n",
              " 6,\n",
              " 4,\n",
              " 1,\n",
              " 5,\n",
              " 5,\n",
              " 4,\n",
              " 0,\n",
              " 1,\n",
              " 1,\n",
              " 4,\n",
              " 2,\n",
              " 3,\n",
              " 3,\n",
              " 0,\n",
              " 4,\n",
              " 2,\n",
              " 5,\n",
              " 3,\n",
              " 6,\n",
              " 4,\n",
              " 7,\n",
              " 3,\n",
              " 0,\n",
              " 0,\n",
              " 1,\n",
              " 2,\n",
              " 2,\n",
              " 7,\n",
              " 3,\n",
              " 7,\n",
              " 4,\n",
              " 7,\n",
              " 5,\n",
              " 6,\n",
              " 6,\n",
              " 5,\n",
              " 7,\n",
              " 5,\n",
              " 5,\n",
              " 1,\n",
              " 9,\n",
              " 9,\n",
              " 0,\n",
              " 7,\n",
              " 1,\n",
              " 8,\n",
              " 2,\n",
              " 0,\n",
              " 3,\n",
              " 4,\n",
              " 4,\n",
              " 5,\n",
              " 5,\n",
              " 1,\n",
              " 6,\n",
              " 7,\n",
              " 9,\n",
              " 5,\n",
              " 3,\n",
              " 0,\n",
              " 2,\n",
              " 1,\n",
              " 6,\n",
              " 3,\n",
              " 9,\n",
              " 3,\n",
              " 6,\n",
              " 1,\n",
              " 1,\n",
              " 1,\n",
              " 9,\n",
              " 1,\n",
              " 9,\n",
              " 5,\n",
              " 9,\n",
              " 6,\n",
              " 4,\n",
              " 9,\n",
              " 9,\n",
              " 2,\n",
              " 6,\n",
              " 9,\n",
              " 8,\n",
              " 0,\n",
              " 1,\n",
              " 4,\n",
              " 4,\n",
              " 8,\n",
              " 1,\n",
              " 2,\n",
              " 2,\n",
              " 7,\n",
              " 9,\n",
              " 3,\n",
              " 0,\n",
              " 3,\n",
              " 4,\n",
              " 3,\n",
              " 9,\n",
              " 6,\n",
              " 1,\n",
              " 2,\n",
              " 7,\n",
              " 0,\n",
              " 4,\n",
              " 6,\n",
              " 4,\n",
              " 1,\n",
              " 1,\n",
              " 4,\n",
              " 0,\n",
              " 3,\n",
              " 7,\n",
              " 6,\n",
              " 6,\n",
              " 2,\n",
              " 0,\n",
              " 2,\n",
              " 8,\n",
              " 5,\n",
              " 1,\n",
              " 9,\n",
              " 3,\n",
              " 2,\n",
              " 2,\n",
              " 7,\n",
              " 6,\n",
              " 6,\n",
              " 2,\n",
              " 7,\n",
              " 1,\n",
              " 0,\n",
              " 2,\n",
              " 4,\n",
              " 5,\n",
              " 1,\n",
              " 4,\n",
              " 9,\n",
              " 5,\n",
              " 6,\n",
              " 6,\n",
              " 0,\n",
              " 7,\n",
              " 2,\n",
              " 7,\n",
              " 5,\n",
              " 5,\n",
              " 1,\n",
              " 3,\n",
              " 1,\n",
              " 0,\n",
              " 4,\n",
              " 2,\n",
              " 1,\n",
              " 2,\n",
              " 1,\n",
              " 2,\n",
              " 6,\n",
              " 7,\n",
              " 0,\n",
              " 3,\n",
              " 6,\n",
              " 5,\n",
              " 3,\n",
              " 2,\n",
              " 4,\n",
              " 1,\n",
              " 0,\n",
              " 4,\n",
              " 2,\n",
              " 9,\n",
              " 1,\n",
              " 3,\n",
              " 4,\n",
              " 0,\n",
              " 6,\n",
              " 0,\n",
              " 5,\n",
              " 5,\n",
              " 4,\n",
              " 7,\n",
              " 0,\n",
              " 3,\n",
              " 1,\n",
              " 1,\n",
              " 2,\n",
              " 7,\n",
              " 6,\n",
              " 9,\n",
              " 5,\n",
              " 6,\n",
              " 0,\n",
              " 3,\n",
              " 5,\n",
              " 3,\n",
              " 1,\n",
              " 0,\n",
              " 1,\n",
              " 5,\n",
              " 4,\n",
              " 6,\n",
              " 9,\n",
              " 6,\n",
              " 3,\n",
              " 5,\n",
              " 6,\n",
              " 7,\n",
              " 6,\n",
              " 3,\n",
              " 1,\n",
              " 5,\n",
              " 6,\n",
              " 0,\n",
              " 2,\n",
              " 1,\n",
              " 1,\n",
              " 2,\n",
              " 8,\n",
              " 3,\n",
              " 0,\n",
              " 4,\n",
              " 0,\n",
              " 5,\n",
              " 5,\n",
              " 6,\n",
              " 5,\n",
              " 7,\n",
              " 7,\n",
              " 8,\n",
              " 0,\n",
              " 9,\n",
              " 6,\n",
              " 0,\n",
              " 7,\n",
              " 1,\n",
              " 8,\n",
              " 2,\n",
              " 8,\n",
              " 3,\n",
              " 4,\n",
              " 4,\n",
              " 3,\n",
              " 5,\n",
              " 5,\n",
              " 6,\n",
              " 5,\n",
              " 7,\n",
              " 1,\n",
              " 8,\n",
              " 8,\n",
              " 9,\n",
              " 0,\n",
              " 0,\n",
              " 2,\n",
              " 1,\n",
              " 6,\n",
              " 2,\n",
              " 1,\n",
              " 3,\n",
              " 7,\n",
              " 4,\n",
              " 7,\n",
              " 7,\n",
              " 7,\n",
              " 2,\n",
              " 1,\n",
              " 9,\n",
              " 4,\n",
              " 8,\n",
              " 6,\n",
              " 5,\n",
              " 1,\n",
              " 7,\n",
              " 0,\n",
              " 9,\n",
              " 1,\n",
              " 5]"
            ]
          },
          "metadata": {},
          "execution_count": 27
        }
      ]
    },
    {
      "cell_type": "markdown",
      "metadata": {
        "id": "pXLR_7dOkK7p"
      },
      "source": [
        "How many instances from the test set the classifier has predicted correctly?"
      ]
    },
    {
      "cell_type": "code",
      "metadata": {
        "id": "eNXy33_DfH-p",
        "colab": {
          "base_uri": "https://localhost:8080/"
        },
        "outputId": "8e7b66b1-8cc7-43ce-eadf-9b4e46c8be31"
      },
      "source": [
        "np.sum(test_labels == test_predicted)"
      ],
      "execution_count": null,
      "outputs": [
        {
          "output_type": "execute_result",
          "data": {
            "text/plain": [
              "919"
            ]
          },
          "metadata": {},
          "execution_count": 28
        }
      ]
    },
    {
      "cell_type": "code",
      "metadata": {
        "id": "7piY3yeZkNC_",
        "colab": {
          "base_uri": "https://localhost:8080/"
        },
        "outputId": "4e0df3d8-7c18-496e-ca1b-570d302f3878"
      },
      "source": [
        "n_correct = np.sum(test_labels == test_predicted)\n",
        "print(f\"Number of correctly predicted images is {n_correct}\")"
      ],
      "execution_count": null,
      "outputs": [
        {
          "output_type": "stream",
          "name": "stdout",
          "text": [
            "Number of correctly predicted images is 919\n"
          ]
        }
      ]
    },
    {
      "cell_type": "markdown",
      "metadata": {
        "id": "qPM7UHbHkXIb"
      },
      "source": [
        "Now we will use **`accuracy`** (namely, proportion of correctly guessed classes) to estimate the performance of our nearest neighbor classifier. For that we need to divide number of correctly predicted images by total number of images."
      ]
    },
    {
      "cell_type": "code",
      "metadata": {
        "id": "_a9_1ZgKkRVf",
        "colab": {
          "base_uri": "https://localhost:8080/"
        },
        "outputId": "01b0d64a-0150-466e-fd02-dcd2717e4d56"
      },
      "source": [
        "nn_accuracy = n_correct/len(test_labels)\n",
        "print(f\"Final accuracy of our nearest neighbor classifier is {nn_accuracy}. Not bad!\")"
      ],
      "execution_count": null,
      "outputs": [
        {
          "output_type": "stream",
          "name": "stdout",
          "text": [
            "Final accuracy of our nearest neighbor classifier is 0.919. Not bad!\n"
          ]
        }
      ]
    },
    {
      "cell_type": "markdown",
      "metadata": {
        "id": "h12yXjMPk8Kz"
      },
      "source": [
        "Let's examine some of the missclassified examples.\n"
      ]
    },
    {
      "cell_type": "code",
      "metadata": {
        "id": "pPAjmuQdki1Q",
        "colab": {
          "base_uri": "https://localhost:8080/",
          "height": 266
        },
        "outputId": "61d3d09f-5ce5-4adf-fe90-e5334b9dbd24"
      },
      "source": [
        "missclassified = np.where(test_predicted != test_labels)[0]\n",
        "\n",
        "# Set an index of missclassified instance you want to examine\n",
        "index = 5\n",
        "\n",
        "# Plot this instance as usual\n",
        "img_matrix = test_images[missclassified[index]].reshape((28, 28))\n",
        "plt.imshow(img_matrix, plt.get_cmap('gray'))\n",
        "plt.axis('off')\n",
        "print(f\"This image with {test_labels[missclassified[index]]} was incorrectly predicted as {test_predicted[missclassified[index]]}\")"
      ],
      "execution_count": null,
      "outputs": [
        {
          "output_type": "stream",
          "name": "stdout",
          "text": [
            "This image with 3 was incorrectly predicted as 7\n"
          ]
        },
        {
          "output_type": "display_data",
          "data": {
            "text/plain": [
              "<Figure size 432x288 with 1 Axes>"
            ],
            "image/png": "[encoded data removed]"
          },
          "metadata": {
            "needs_background": "light"
          }
        }
      ]
    },
    {
      "cell_type": "markdown",
      "metadata": {
        "id": "NZDsFKpngFK1"
      },
      "source": [
        "### Scikit-learn"
      ]
    },
    {
      "cell_type": "markdown",
      "metadata": {
        "id": "8eNqmHxsgFK2"
      },
      "source": [
        "Now let us use the Scikit-Learn package to train the Nearest Neigbor classifier.\n",
        "\n",
        "Most of the models that we are going to use are implemented in scikit-learn, for example KNN is available under the name `KNNeiborsClassifier`. All you need to do is to import it from `sklearn` (this a short name for scikit-learn)."
      ]
    },
    {
      "cell_type": "code",
      "metadata": {
        "id": "OV7PNg-wgFK3"
      },
      "source": [
        "import sklearn\n",
        "from sklearn.neighbors import KNeighborsClassifier"
      ],
      "execution_count": null,
      "outputs": []
    },
    {
      "cell_type": "markdown",
      "metadata": {
        "id": "h0Kwi4szgFK5"
      },
      "source": [
        "Let's create an instance of the NN classifier by calling a `KNeighborsClassifier()` class. By default it produces a KNN classifier that we have discussed in the lecture. As an input parameter you can specify `k`. For example 10 nearest neighbour classifier is created like this:"
      ]
    },
    {
      "cell_type": "code",
      "metadata": {
        "id": "k8yL3NTqgFK5"
      },
      "source": [
        "model = KNeighborsClassifier(n_neighbors = 10)\n",
        "# what should be a value of k to produce NN classifier?"
      ],
      "execution_count": null,
      "outputs": []
    },
    {
      "cell_type": "markdown",
      "metadata": {
        "id": "wyXtNqpFgFK9"
      },
      "source": [
        "Most of the scikit-learn models have method `fit` that let you train the classifier given training instances and correct labels:"
      ]
    },
    {
      "cell_type": "code",
      "metadata": {
        "id": "6bgzqOEYgFK-",
        "colab": {
          "base_uri": "https://localhost:8080/"
        },
        "outputId": "50db6a48-ed1a-4cea-a26f-5f70d0aece1a"
      },
      "source": [
        "model.fit(train_images.reshape(2000, 28*28), train_labels)"
      ],
      "execution_count": null,
      "outputs": [
        {
          "output_type": "execute_result",
          "data": {
            "text/plain": [
              "KNeighborsClassifier(n_neighbors=1)"
            ]
          },
          "metadata": {},
          "execution_count": 46
        }
      ]
    },
    {
      "cell_type": "markdown",
      "metadata": {
        "id": "NAHwRm4igFLA"
      },
      "source": [
        "**Classroom exercise:** Use trained nearest neighbor classifier (`model`) to predict `test_images` and then calculate the accuracy. How does it compare to the one we obtained in the class?"
      ]
    },
    {
      "cell_type": "code",
      "metadata": {
        "id": "1YfjlFlFgFLB",
        "colab": {
          "base_uri": "https://localhost:8080/"
        },
        "outputId": "af377087-e5d8-4fd1-edb9-2cb498322688"
      },
      "source": [
        "##### YOUR CODE STARTS #####\n",
        "test_predicted = model.predict(test_images.reshape(1000, 28*28))\n",
        "n_correct = np.sum(test_labels == test_predicted)\n",
        "##### YOUR CODE ENDS ##### \n",
        "print(f\"Number of correctly predicted images is {n_correct}\")"
      ],
      "execution_count": null,
      "outputs": [
        {
          "output_type": "stream",
          "name": "stdout",
          "text": [
            "Number of correctly predicted images is 919\n"
          ]
        }
      ]
    },
    {
      "cell_type": "markdown",
      "metadata": {
        "id": "mLDk2_c3P6_j"
      },
      "source": [
        "# Regression\n",
        "\n",
        "## Small 2D example\n",
        "\n",
        "Here we will create a small toy dataset for playing around with some regression algorithms."
      ]
    },
    {
      "cell_type": "code",
      "metadata": {
        "id": "Q255sYHwP7SS"
      },
      "source": [
        "import numpy as np \n",
        "import pandas as pd\n",
        "\n",
        "example_data = pd.DataFrame({'distance':[1,2,3,4,5], 'fare_amount':[2,4,5,4,5]})"
      ],
      "execution_count": null,
      "outputs": []
    },
    {
      "cell_type": "code",
      "source": [
        "example_data"
      ],
      "metadata": {
        "colab": {
          "base_uri": "https://localhost:8080/",
          "height": 206
        },
        "id": "u46ooMyLThs7",
        "outputId": "6f7024a7-6280-48ef-a347-988161f5a4b3"
      },
      "execution_count": null,
      "outputs": [
        {
          "output_type": "execute_result",
          "data": {
            "text/plain": [
              "   distance  fare_amount\n",
              "0         1            2\n",
              "1         2            4\n",
              "2         3            5\n",
              "3         4            4\n",
              "4         5            5"
            ],
            "text/html": [
              "\n",
              "  <div id=\"df-1a71023b-760f-49ad-9c5b-e4f2bb68af8b\">\n",
              "    <div class=\"colab-df-container\">\n",
              "      <div>\n",
              "<style scoped>\n",
              "    .dataframe tbody tr th:only-of-type {\n",
              "        vertical-align: middle;\n",
              "    }\n",
              "\n",
              "    .dataframe tbody tr th {\n",
              "        vertical-align: top;\n",
              "    }\n",
              "\n",
              "    .dataframe thead th {\n",
              "        text-align: right;\n",
              "    }\n",
              "</style>\n",
              "<table border=\"1\" class=\"dataframe\">\n",
              "  <thead>\n",
              "    <tr style=\"text-align: right;\">\n",
              "      <th></th>\n",
              "      <th>distance</th>\n",
              "      <th>fare_amount</th>\n",
              "    </tr>\n",
              "  </thead>\n",
              "  <tbody>\n",
              "    <tr>\n",
              "      <th>0</th>\n",
              "      <td>1</td>\n",
              "      <td>2</td>\n",
              "    </tr>\n",
              "    <tr>\n",
              "      <th>1</th>\n",
              "      <td>2</td>\n",
              "      <td>4</td>\n",
              "    </tr>\n",
              "    <tr>\n",
              "      <th>2</th>\n",
              "      <td>3</td>\n",
              "      <td>5</td>\n",
              "    </tr>\n",
              "    <tr>\n",
              "      <th>3</th>\n",
              "      <td>4</td>\n",
              "      <td>4</td>\n",
              "    </tr>\n",
              "    <tr>\n",
              "      <th>4</th>\n",
              "      <td>5</td>\n",
              "      <td>5</td>\n",
              "    </tr>\n",
              "  </tbody>\n",
              "</table>\n",
              "</div>\n",
              "      <button class=\"colab-df-convert\" onclick=\"convertToInteractive('df-1a71023b-760f-49ad-9c5b-e4f2bb68af8b')\"\n",
              "              title=\"Convert this dataframe to an interactive table.\"\n",
              "              style=\"display:none;\">\n",
              "        \n",
              "  <svg xmlns=\"http://www.w3.org/2000/svg\" height=\"24px\"viewBox=\"0 0 24 24\"\n",
              "       width=\"24px\">\n",
              "    <path d=\"M0 0h24v24H0V0z\" fill=\"none\"/>\n",
              "    <path d=\"M18.56 5.44l.94 2.06.94-2.06 2.06-.94-2.06-.94-.94-2.06-.94 2.06-2.06.94zm-11 1L8.5 8.5l.94-2.06 2.06-.94-2.06-.94L8.5 2.5l-.94 2.06-2.06.94zm10 10l.94 2.06.94-2.06 2.06-.94-2.06-.94-.94-2.06-.94 2.06-2.06.94z\"/><path d=\"M17.41 7.96l-1.37-1.37c-.4-.4-.92-.59-1.43-.59-.52 0-1.04.2-1.43.59L10.3 9.45l-7.72 7.72c-.78.78-.78 2.05 0 2.83L4 21.41c.39.39.9.59 1.41.59.51 0 1.02-.2 1.41-.59l7.78-7.78 2.81-2.81c.8-.78.8-2.07 0-2.86zM5.41 20L4 18.59l7.72-7.72 1.47 1.35L5.41 20z\"/>\n",
              "  </svg>\n",
              "      </button>\n",
              "      \n",
              "  <style>\n",
              "    .colab-df-container {\n",
              "      display:flex;\n",
              "      flex-wrap:wrap;\n",
              "      gap: 12px;\n",
              "    }\n",
              "\n",
              "    .colab-df-convert {\n",
              "      background-color: #E8F0FE;\n",
              "      border: none;\n",
              "      border-radius: 50%;\n",
              "      cursor: pointer;\n",
              "      display: none;\n",
              "      fill: #1967D2;\n",
              "      height: 32px;\n",
              "      padding: 0 0 0 0;\n",
              "      width: 32px;\n",
              "    }\n",
              "\n",
              "    .colab-df-convert:hover {\n",
              "      background-color: #E2EBFA;\n",
              "      box-shadow: 0px 1px 2px rgba(60, 64, 67, 0.3), 0px 1px 3px 1px rgba(60, 64, 67, 0.15);\n",
              "      fill: #174EA6;\n",
              "    }\n",
              "\n",
              "    [theme=dark] .colab-df-convert {\n",
              "      background-color: #3B4455;\n",
              "      fill: #D2E3FC;\n",
              "    }\n",
              "\n",
              "    [theme=dark] .colab-df-convert:hover {\n",
              "      background-color: #434B5C;\n",
              "      box-shadow: 0px 1px 3px 1px rgba(0, 0, 0, 0.15);\n",
              "      filter: drop-shadow(0px 1px 2px rgba(0, 0, 0, 0.3));\n",
              "      fill: #FFFFFF;\n",
              "    }\n",
              "  </style>\n",
              "\n",
              "      <script>\n",
              "        const buttonEl =\n",
              "          document.querySelector('#df-1a71023b-760f-49ad-9c5b-e4f2bb68af8b button.colab-df-convert');\n",
              "        buttonEl.style.display =\n",
              "          google.colab.kernel.accessAllowed ? 'block' : 'none';\n",
              "\n",
              "        async function convertToInteractive(key) {\n",
              "          const element = document.querySelector('#df-1a71023b-760f-49ad-9c5b-e4f2bb68af8b');\n",
              "          const dataTable =\n",
              "            await google.colab.kernel.invokeFunction('convertToInteractive',\n",
              "                                                     [key], {});\n",
              "          if (!dataTable) return;\n",
              "\n",
              "          const docLinkHtml = 'Like what you see? Visit the ' +\n",
              "            '<a target=\"_blank\" href=https://colab.research.google.com/notebooks/data_table.ipynb>data table notebook</a>'\n",
              "            + ' to learn more about interactive tables.';\n",
              "          element.innerHTML = '';\n",
              "          dataTable['output_type'] = 'display_data';\n",
              "          await google.colab.output.renderOutput(dataTable, element);\n",
              "          const docLink = document.createElement('div');\n",
              "          docLink.innerHTML = docLinkHtml;\n",
              "          element.appendChild(docLink);\n",
              "        }\n",
              "      </script>\n",
              "    </div>\n",
              "  </div>\n",
              "  "
            ]
          },
          "metadata": {},
          "execution_count": 3
        }
      ]
    },
    {
      "cell_type": "markdown",
      "metadata": {
        "id": "narJIhxlpKTy"
      },
      "source": [
        "You can access columns using `.` notation and name of the column, e.g.:"
      ]
    },
    {
      "cell_type": "code",
      "metadata": {
        "id": "4AcFY5iOpJsm",
        "colab": {
          "base_uri": "https://localhost:8080/"
        },
        "outputId": "9b912c51-e834-4683-b5da-21c04f301411"
      },
      "source": [
        "example_data.fare_amount"
      ],
      "execution_count": null,
      "outputs": [
        {
          "output_type": "execute_result",
          "data": {
            "text/plain": [
              "0    2\n",
              "1    4\n",
              "2    5\n",
              "3    4\n",
              "4    5\n",
              "Name: fare_amount, dtype: int64"
            ]
          },
          "metadata": {},
          "execution_count": 49
        }
      ]
    },
    {
      "cell_type": "markdown",
      "metadata": {
        "id": "JBK_tjSDzMeo"
      },
      "source": [
        "The following is our attempt to reproduce figures exactly as in lecture slides. Never mind, you will be able to use regular `matplotlib` as before if you like."
      ]
    },
    {
      "cell_type": "code",
      "metadata": {
        "id": "_uZnwxr6RxyF"
      },
      "source": [
        "# Plotting as in ggplot2\n",
        "!pip install -q plotnine # -q for quiet output \n",
        "from plotnine import *"
      ],
      "execution_count": null,
      "outputs": []
    },
    {
      "cell_type": "code",
      "metadata": {
        "id": "6Gx5SkM9RsA0",
        "colab": {
          "base_uri": "https://localhost:8080/",
          "height": 480
        },
        "outputId": "82f3559a-6f8e-43b1-d8dc-eb2bdcc21d73"
      },
      "source": [
        "fig = (\n",
        "    # Specifying data to be visualised:\n",
        "    ggplot(data = example_data,\n",
        "          # what is on x-axis and on y-axis\n",
        "          mapping = aes(x = 'distance', y = 'fare_amount')) + \n",
        "    \n",
        "    # \"+\" is needed to glue together difference parts of the pipeline\n",
        "    \n",
        "    # what is geometric primitive we are drawing - points!\n",
        "    geom_point(fill = '#36B059', size = 5.0, stroke = 2.5, colour = '#2BE062', shape = 'o') +\n",
        "    \n",
        "    # all the rest is not important\n",
        "    # these are just things to make figure look nice.\n",
        "    \n",
        "    labs(\n",
        "        title ='',\n",
        "        x = 'distance',\n",
        "        y = 'fare amount',\n",
        "    ) +\n",
        "    xlim(0, 6) +\n",
        "    ylim(0, 7) +\n",
        "    theme_bw() +\n",
        "    theme(figure_size = (5, 5),\n",
        "          axis_line = element_line(size = 0.5, colour = \"black\"),\n",
        "          panel_grid_major = element_line(size = 0.05, colour = \"black\"),\n",
        "          panel_grid_minor = element_line(size = 0.05, colour = \"black\"),\n",
        "          axis_text = element_text(colour ='black'))\n",
        ")\n",
        "fig"
      ],
      "execution_count": null,
      "outputs": [
        {
          "output_type": "display_data",
          "data": {
            "text/plain": [
              "<Figure size 500x500 with 1 Axes>"
            ],
            "image/png": "[encoded data removed]"
          },
          "metadata": {}
        },
        {
          "output_type": "execute_result",
          "data": {
            "text/plain": [
              "<ggplot: (8739887550645)>"
            ]
          },
          "metadata": {},
          "execution_count": 52
        }
      ]
    },
    {
      "cell_type": "markdown",
      "metadata": {
        "id": "MBnG26L6SvV-"
      },
      "source": [
        "### Linear regression on a toy example\n",
        "**Classroom exercise**: find value of **`intercept`** and **`slope`** (`w1`) using the equation of the line (`y = intercept + slope*x`) and the formulas provided below. Remember that in this example `x` is `distance` and `y` is `fare_amount`."
      ]
    },
    {
      "cell_type": "markdown",
      "metadata": {
        "id": "FocsjiL_QTQk"
      },
      "source": [
        "$$\\omega_1 = \\frac{\\sum_{i=1}^{n}{(x_{i} - \\bar{x})(y_{i} - \\bar{y})}}{\\sum_{i=1}^{n}{(x_{i} - \\bar{x})^{2}}}$$\n",
        "$$\\omega_{0}=\\bar{y}-\\omega_{1}\\bar{x},$$\n",
        "where $\\bar{x}$ and $\\bar{y}$ are the mean values of $\\textbf{x}$ and $\\textbf{y}$ vectors correspondingly."
      ]
    },
    {
      "cell_type": "code",
      "metadata": {
        "id": "q0wS730hP8p6",
        "colab": {
          "base_uri": "https://localhost:8080/"
        },
        "outputId": "993d0b6f-3708-4371-a5eb-e166f3eaac88"
      },
      "source": [
        "##### YOUR CODE STARTS #####\n",
        "x = example_data.distance\n",
        "y = example_data.fare_amount\n",
        "\n",
        "w1 = (np.sum((x-np.mean(x))*(y-np.mean(y))))/np.sum((x-np.mean(x))**2)\n",
        "intercept = np.mean(y) - w1*np.mean(x)\n",
        "##### YOUR CODE ENDS ##### \n",
        "print(f\"w1 = {w1}; intercept = {intercept}, while the correct values are w1 = 0.6 and intercept = 2.2\")"
      ],
      "execution_count": null,
      "outputs": [
        {
          "output_type": "stream",
          "name": "stdout",
          "text": [
            "w1 = 0.6; intercept = 2.2, while the correct values are w1 = 0.6 and intercept = 2.2\n"
          ]
        }
      ]
    },
    {
      "cell_type": "markdown",
      "metadata": {
        "id": "aFX1opwLVFu2"
      },
      "source": [
        "We can now plug in these coefficients to visually examine regression line that we have computed"
      ]
    },
    {
      "cell_type": "code",
      "metadata": {
        "id": "VHWrTU2AEPqV",
        "colab": {
          "base_uri": "https://localhost:8080/",
          "height": 480
        },
        "outputId": "1b43b095-d5d7-4a66-ec44-85a557b81904"
      },
      "source": [
        "fig + geom_abline(intercept=intercept, slope=w1, color=\"black\", linetype=\"dashed\", size=1.5)"
      ],
      "execution_count": null,
      "outputs": [
        {
          "output_type": "display_data",
          "data": {
            "text/plain": [
              "<Figure size 500x500 with 1 Axes>"
            ],
            "image/png": "[encoded data removed]"
          },
          "metadata": {}
        },
        {
          "output_type": "execute_result",
          "data": {
            "text/plain": [
              "<ggplot: (8739887412145)>"
            ]
          },
          "metadata": {},
          "execution_count": 58
        }
      ]
    },
    {
      "cell_type": "markdown",
      "metadata": {
        "id": "y8RlGcKHUKLZ"
      },
      "source": [
        "We can compare our regression line with a regression line computed by Python"
      ]
    },
    {
      "cell_type": "code",
      "metadata": {
        "id": "c5zVWrYsETu-",
        "colab": {
          "base_uri": "https://localhost:8080/",
          "height": 480
        },
        "outputId": "0097eb78-0554-46fb-a2d2-613e77a70bcb"
      },
      "source": [
        "fig + geom_abline(intercept=intercept, slope=w1, color=\"black\", linetype=\"dashed\", size=1.5) + geom_smooth(method='lm', se=False, colour='red')"
      ],
      "execution_count": null,
      "outputs": [
        {
          "output_type": "display_data",
          "data": {
            "text/plain": [
              "<Figure size 500x500 with 1 Axes>"
            ],
            "image/png": "[encoded data removed]"
          },
          "metadata": {}
        },
        {
          "output_type": "execute_result",
          "data": {
            "text/plain": [
              "<ggplot: (8739887377401)>"
            ]
          },
          "metadata": {},
          "execution_count": 59
        }
      ]
    },
    {
      "cell_type": "markdown",
      "metadata": {
        "id": "2592NFjoX83f"
      },
      "source": [
        "### Decision tree (DT) algorithm\n",
        "We will borrow DT algorithm from sklearn package as linear regression. Sklearn has both `DecisionTreeRegressor` and `DecisionTreeClassifier` at its disposal. For now, let's use regressor."
      ]
    },
    {
      "cell_type": "code",
      "metadata": {
        "id": "Kr2p9vu0QZ6O"
      },
      "source": [
        "from sklearn.tree import DecisionTreeRegressor, plot_tree\n",
        "dtr = DecisionTreeRegressor(max_depth=1)"
      ],
      "execution_count": null,
      "outputs": []
    },
    {
      "cell_type": "markdown",
      "metadata": {
        "id": "vawPyvl1YGNk"
      },
      "source": [
        "we use function `fit` to train newly created DT instance on our `example_data`"
      ]
    },
    {
      "cell_type": "code",
      "metadata": {
        "id": "ODKVb6OrXtDA",
        "colab": {
          "base_uri": "https://localhost:8080/"
        },
        "outputId": "eb587c44-4c61-4044-e30f-98afecadec7e"
      },
      "source": [
        "dtr.fit(X=np.expand_dims(example_data.distance,axis=1), y=example_data.fare_amount)"
      ],
      "execution_count": null,
      "outputs": [
        {
          "output_type": "execute_result",
          "data": {
            "text/plain": [
              "DecisionTreeRegressor(max_depth=1)"
            ]
          },
          "metadata": {},
          "execution_count": 36
        }
      ]
    },
    {
      "cell_type": "markdown",
      "metadata": {
        "id": "in9l7yuuTKxi"
      },
      "source": [
        "### Creating a synthetic test set that would cover up the whole space"
      ]
    },
    {
      "cell_type": "code",
      "source": [
        "x = example_data.distance\n",
        "y = example_data.fare_amount"
      ],
      "metadata": {
        "id": "WbbgITOSLLwx"
      },
      "execution_count": null,
      "outputs": []
    },
    {
      "cell_type": "code",
      "source": [
        " np.repeat(x, 71).shape"
      ],
      "metadata": {
        "colab": {
          "base_uri": "https://localhost:8080/"
        },
        "id": "ltj7ggTlLF2x",
        "outputId": "17ac2c37-4349-48ef-b200-7e2cc29a4565"
      },
      "execution_count": null,
      "outputs": [
        {
          "output_type": "execute_result",
          "data": {
            "text/plain": [
              "(355,)"
            ]
          },
          "metadata": {},
          "execution_count": 38
        }
      ]
    },
    {
      "cell_type": "code",
      "metadata": {
        "id": "lm72D7nAQBKs",
        "colab": {
          "base_uri": "https://localhost:8080/",
          "height": 206
        },
        "outputId": "e38d679e-dac0-46f3-e4ba-913be9919c01"
      },
      "source": [
        "test_data = pd.concat([pd.DataFrame({'distance': np.repeat(x, 71), 'fare_amount': np.linspace(start=0, stop=7, num=71)}) for x in np.linspace(start=0, stop=6, num=61)])\n",
        "test_data.head()"
      ],
      "execution_count": null,
      "outputs": [
        {
          "output_type": "execute_result",
          "data": {
            "text/plain": [
              "   distance  fare_amount\n",
              "0       0.0          0.0\n",
              "1       0.0          0.1\n",
              "2       0.0          0.2\n",
              "3       0.0          0.3\n",
              "4       0.0          0.4"
            ],
            "text/html": [
              "\n",
              "  <div id=\"df-567f4575-0f82-4055-83b0-01bfe96d8e57\">\n",
              "    <div class=\"colab-df-container\">\n",
              "      <div>\n",
              "<style scoped>\n",
              "    .dataframe tbody tr th:only-of-type {\n",
              "        vertical-align: middle;\n",
              "    }\n",
              "\n",
              "    .dataframe tbody tr th {\n",
              "        vertical-align: top;\n",
              "    }\n",
              "\n",
              "    .dataframe thead th {\n",
              "        text-align: right;\n",
              "    }\n",
              "</style>\n",
              "<table border=\"1\" class=\"dataframe\">\n",
              "  <thead>\n",
              "    <tr style=\"text-align: right;\">\n",
              "      <th></th>\n",
              "      <th>distance</th>\n",
              "      <th>fare_amount</th>\n",
              "    </tr>\n",
              "  </thead>\n",
              "  <tbody>\n",
              "    <tr>\n",
              "      <th>0</th>\n",
              "      <td>0.0</td>\n",
              "      <td>0.0</td>\n",
              "    </tr>\n",
              "    <tr>\n",
              "      <th>1</th>\n",
              "      <td>0.0</td>\n",
              "      <td>0.1</td>\n",
              "    </tr>\n",
              "    <tr>\n",
              "      <th>2</th>\n",
              "      <td>0.0</td>\n",
              "      <td>0.2</td>\n",
              "    </tr>\n",
              "    <tr>\n",
              "      <th>3</th>\n",
              "      <td>0.0</td>\n",
              "      <td>0.3</td>\n",
              "    </tr>\n",
              "    <tr>\n",
              "      <th>4</th>\n",
              "      <td>0.0</td>\n",
              "      <td>0.4</td>\n",
              "    </tr>\n",
              "  </tbody>\n",
              "</table>\n",
              "</div>\n",
              "      <button class=\"colab-df-convert\" onclick=\"convertToInteractive('df-567f4575-0f82-4055-83b0-01bfe96d8e57')\"\n",
              "              title=\"Convert this dataframe to an interactive table.\"\n",
              "              style=\"display:none;\">\n",
              "        \n",
              "  <svg xmlns=\"http://www.w3.org/2000/svg\" height=\"24px\"viewBox=\"0 0 24 24\"\n",
              "       width=\"24px\">\n",
              "    <path d=\"M0 0h24v24H0V0z\" fill=\"none\"/>\n",
              "    <path d=\"M18.56 5.44l.94 2.06.94-2.06 2.06-.94-2.06-.94-.94-2.06-.94 2.06-2.06.94zm-11 1L8.5 8.5l.94-2.06 2.06-.94-2.06-.94L8.5 2.5l-.94 2.06-2.06.94zm10 10l.94 2.06.94-2.06 2.06-.94-2.06-.94-.94-2.06-.94 2.06-2.06.94z\"/><path d=\"M17.41 7.96l-1.37-1.37c-.4-.4-.92-.59-1.43-.59-.52 0-1.04.2-1.43.59L10.3 9.45l-7.72 7.72c-.78.78-.78 2.05 0 2.83L4 21.41c.39.39.9.59 1.41.59.51 0 1.02-.2 1.41-.59l7.78-7.78 2.81-2.81c.8-.78.8-2.07 0-2.86zM5.41 20L4 18.59l7.72-7.72 1.47 1.35L5.41 20z\"/>\n",
              "  </svg>\n",
              "      </button>\n",
              "      \n",
              "  <style>\n",
              "    .colab-df-container {\n",
              "      display:flex;\n",
              "      flex-wrap:wrap;\n",
              "      gap: 12px;\n",
              "    }\n",
              "\n",
              "    .colab-df-convert {\n",
              "      background-color: #E8F0FE;\n",
              "      border: none;\n",
              "      border-radius: 50%;\n",
              "      cursor: pointer;\n",
              "      display: none;\n",
              "      fill: #1967D2;\n",
              "      height: 32px;\n",
              "      padding: 0 0 0 0;\n",
              "      width: 32px;\n",
              "    }\n",
              "\n",
              "    .colab-df-convert:hover {\n",
              "      background-color: #E2EBFA;\n",
              "      box-shadow: 0px 1px 2px rgba(60, 64, 67, 0.3), 0px 1px 3px 1px rgba(60, 64, 67, 0.15);\n",
              "      fill: #174EA6;\n",
              "    }\n",
              "\n",
              "    [theme=dark] .colab-df-convert {\n",
              "      background-color: #3B4455;\n",
              "      fill: #D2E3FC;\n",
              "    }\n",
              "\n",
              "    [theme=dark] .colab-df-convert:hover {\n",
              "      background-color: #434B5C;\n",
              "      box-shadow: 0px 1px 3px 1px rgba(0, 0, 0, 0.15);\n",
              "      filter: drop-shadow(0px 1px 2px rgba(0, 0, 0, 0.3));\n",
              "      fill: #FFFFFF;\n",
              "    }\n",
              "  </style>\n",
              "\n",
              "      <script>\n",
              "        const buttonEl =\n",
              "          document.querySelector('#df-567f4575-0f82-4055-83b0-01bfe96d8e57 button.colab-df-convert');\n",
              "        buttonEl.style.display =\n",
              "          google.colab.kernel.accessAllowed ? 'block' : 'none';\n",
              "\n",
              "        async function convertToInteractive(key) {\n",
              "          const element = document.querySelector('#df-567f4575-0f82-4055-83b0-01bfe96d8e57');\n",
              "          const dataTable =\n",
              "            await google.colab.kernel.invokeFunction('convertToInteractive',\n",
              "                                                     [key], {});\n",
              "          if (!dataTable) return;\n",
              "\n",
              "          const docLinkHtml = 'Like what you see? Visit the ' +\n",
              "            '<a target=\"_blank\" href=https://colab.research.google.com/notebooks/data_table.ipynb>data table notebook</a>'\n",
              "            + ' to learn more about interactive tables.';\n",
              "          element.innerHTML = '';\n",
              "          dataTable['output_type'] = 'display_data';\n",
              "          await google.colab.output.renderOutput(dataTable, element);\n",
              "          const docLink = document.createElement('div');\n",
              "          docLink.innerHTML = docLinkHtml;\n",
              "          element.appendChild(docLink);\n",
              "        }\n",
              "      </script>\n",
              "    </div>\n",
              "  </div>\n",
              "  "
            ]
          },
          "metadata": {},
          "execution_count": 39
        }
      ]
    },
    {
      "cell_type": "code",
      "metadata": {
        "id": "dcW4UyT_859T"
      },
      "source": [
        "test_data['predicted_amount'] = dtr.predict(np.array(test_data.distance).reshape(-1, 1))"
      ],
      "execution_count": null,
      "outputs": []
    },
    {
      "cell_type": "code",
      "metadata": {
        "id": "fyQWG0OyQmxz",
        "colab": {
          "base_uri": "https://localhost:8080/",
          "height": 480
        },
        "outputId": "5df3d828-ec7a-48fb-f505-b6c8f43fe7d6"
      },
      "source": [
        "fig = (\n",
        "    ggplot(data = example_data,\n",
        "          mapping = aes(x = 'distance', y = 'fare_amount')) +\n",
        "    geom_point(data = test_data, mapping = aes(x = 'distance', y = 'fare_amount', size = 5.0, colour = 'predicted_amount'), shape = 's') +\n",
        "    geom_point(fill = '#36B059', \n",
        "               size = 5.0,\n",
        "               stroke = 2.5,\n",
        "               colour = '#2BE062',\n",
        "               shape = 'o') +\n",
        "    labs(\n",
        "        title ='',\n",
        "        x = 'distance',\n",
        "        y = 'fare amount',\n",
        "    ) +\n",
        "    xlim(0, 6) +\n",
        "    ylim(0, 7) +\n",
        "    theme_bw() + \n",
        "    theme(figure_size = (5, 5),\n",
        "          axis_line = element_line(size = 0.5, colour = \"black\"),\n",
        "          panel_grid_major = element_line(size = 0.05, colour = \"black\"),\n",
        "          panel_grid_minor = element_line(size = 0.05, colour = \"black\"),\n",
        "          axis_text = element_text(colour ='black')) + \n",
        "    guides(size = False)\n",
        ")\n",
        "fig"
      ],
      "execution_count": null,
      "outputs": [
        {
          "output_type": "display_data",
          "data": {
            "text/plain": [
              "<Figure size 500x500 with 1 Axes>"
            ],
            "image/png": "[encoded data removed]"
          },
          "metadata": {}
        },
        {
          "output_type": "execute_result",
          "data": {
            "text/plain": [
              "<ggplot: (8748806635921)>"
            ]
          },
          "metadata": {},
          "execution_count": 41
        }
      ]
    },
    {
      "cell_type": "code",
      "metadata": {
        "id": "8hwlvkbd6OsL",
        "colab": {
          "base_uri": "https://localhost:8080/",
          "height": 302
        },
        "outputId": "5c6f4584-d03d-44c0-e87b-2b12b76a7c1f"
      },
      "source": [
        "# Let's visualize the resulting decision tree\n",
        "plot_tree(dtr)"
      ],
      "execution_count": null,
      "outputs": [
        {
          "output_type": "execute_result",
          "data": {
            "text/plain": [
              "[Text(0.5, 0.75, 'X[0] <= 1.5\\nsquared_error = 1.2\\nsamples = 5\\nvalue = 4.0'),\n",
              " Text(0.25, 0.25, 'squared_error = 0.0\\nsamples = 1\\nvalue = 2.0'),\n",
              " Text(0.75, 0.25, 'squared_error = 0.25\\nsamples = 4\\nvalue = 4.5')]"
            ]
          },
          "metadata": {},
          "execution_count": 42
        },
        {
          "output_type": "display_data",
          "data": {
            "text/plain": [
              "<Figure size 432x288 with 1 Axes>"
            ],
            "image/png": "[encoded data removed]"
          },
          "metadata": {
            "needs_background": "light"
          }
        }
      ]
    },
    {
      "cell_type": "code",
      "source": [],
      "metadata": {
        "id": "fLvO4K5ZMcVw"
      },
      "execution_count": null,
      "outputs": []
    }
  ]
}