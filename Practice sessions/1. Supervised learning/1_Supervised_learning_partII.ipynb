{
  "nbformat": 4,
  "nbformat_minor": 0,
  "metadata": {
    "colab": {
      "provenance": []
    },
    "kernelspec": {
      "display_name": "Python 3",
      "language": "python",
      "name": "python3"
    },
    "language_info": {
      "codemirror_mode": {
        "name": "ipython",
        "version": 3
      },
      "file_extension": ".py",
      "mimetype": "text/x-python",
      "name": "python",
      "nbconvert_exporter": "python",
      "pygments_lexer": "ipython3",
      "version": "3.7.3"
    }
  },
  "cells": [
    {
      "cell_type": "markdown",
      "metadata": {
        "id": "qmpZeRhwGmqX"
      },
      "source": [
        "# Introduction to supervised learning (part II)\n",
        "\n",
        "Recall, that in order to be able to make changes in this colaboratory you need to do **(File -> Save a copy in Drive)**. <br>\n",
        "[**Homework #1**](https://colab.research.google.com/drive/1Tm5oVf8HI6ACEzoKorm1hmVTnzq-dTaV) associated with this practice session is linked on the homework's page, the deadline is **September 18, Sunday, midnight (23:59 EET time)**"
      ]
    },
    {
      "cell_type": "markdown",
      "metadata": {
        "id": "yiyv1wdqImo-"
      },
      "source": [
        "## NYC Taxi dataset\n",
        "Here we will work with real-world dataset collected from taxis operating in New York City"
      ]
    },
    {
      "cell_type": "code",
      "metadata": {
        "id": "vVU6bxgsNzEh"
      },
      "source": [
        "# Code to read csv file into Colaboratory:\n",
        "!pip install -U -q PyDrive\n",
        "from pydrive.auth import GoogleAuth\n",
        "from pydrive.drive import GoogleDrive\n",
        "from google.colab import auth\n",
        "from oauth2client.client import GoogleCredentials"
      ],
      "execution_count": null,
      "outputs": []
    },
    {
      "cell_type": "code",
      "metadata": {
        "id": "3QNY3__uCWRY"
      },
      "source": [
        "# Authenticate and create the PyDrive client.\n",
        "auth.authenticate_user()\n",
        "gauth = GoogleAuth()\n",
        "gauth.credentials = GoogleCredentials.get_application_default()\n",
        "drive = GoogleDrive(gauth)"
      ],
      "execution_count": null,
      "outputs": []
    },
    {
      "cell_type": "code",
      "metadata": {
        "id": "RmMEiS7ICgRB"
      },
      "source": [
        "downloaded = drive.CreateFile({'id':'1XKhfq4WFHlTrvag48cD3VDJGfykYUJ-s'}) \n",
        "downloaded.GetContentFile('nyc_data_2.zip')"
      ],
      "execution_count": null,
      "outputs": []
    },
    {
      "cell_type": "code",
      "metadata": {
        "id": "DvH1jMyPOHmy",
        "colab": {
          "base_uri": "https://localhost:8080/"
        },
        "outputId": "3e6a08e1-5640-44d2-f82f-4a6d279917bb"
      },
      "source": [
        "# check that nyc_data_2.zip exists\n",
        "!ls"
      ],
      "execution_count": null,
      "outputs": [
        {
          "output_type": "stream",
          "name": "stdout",
          "text": [
            "nyc_data_2.zip\tsample_data\n"
          ]
        }
      ]
    },
    {
      "cell_type": "code",
      "metadata": {
        "id": "q0zYwWsoC-sW",
        "colab": {
          "base_uri": "https://localhost:8080/"
        },
        "outputId": "adb78a88-795d-4076-98b7-3272b896e2e5"
      },
      "source": [
        "# After archive has been downloaded\n",
        "# unzip it\n",
        "!unzip nyc_data_2.zip\n",
        "\n",
        "# check that train_2M.csv, test.csv, model.pickle and sample_submission.csv exist\n",
        "!ls"
      ],
      "execution_count": null,
      "outputs": [
        {
          "output_type": "stream",
          "name": "stdout",
          "text": [
            "Archive:  nyc_data_2.zip\n",
            "  inflating: train_2M.csv            \n",
            "  inflating: test.csv                \n",
            "  inflating: model.pickle            \n",
            "  inflating: sample_submission.csv   \n",
            "model.pickle\tsample_data\t       test.csv\n",
            "nyc_data_2.zip\tsample_submission.csv  train_2M.csv\n"
          ]
        }
      ]
    },
    {
      "cell_type": "markdown",
      "metadata": {
        "id": "GkSYWHwZEG9j"
      },
      "source": [
        "* `train_2M.csv` contains 2 million observations from NYC dataset (6 independent variables and fare_amount that we need to predict).\n",
        "* `test.csv` contains new observations, for which we have to estimate `fare_amount` based on train data.\n",
        "* `sample_submission.csv` - a sample submission file in the correct format (columns `key` and `fare_amount`). Every row in this file matches every row in `test.csv`.\n",
        "* `model.pickle` - file that contains trained model saved as a pickle (we are going to deal with it later)"
      ]
    },
    {
      "cell_type": "markdown",
      "metadata": {
        "id": "d9MiatCvf_Qz"
      },
      "source": [
        "### Setting up Kaggle"
      ]
    },
    {
      "cell_type": "markdown",
      "source": [
        "You need to have an account on Kaggle.com, before you proceed. When you access your kaggle profile, you need to download your API Token from kaggle. It's very easy:\n",
        "1. Click on your profile icon\n",
        "2. Go to **Account**\n",
        "3. In **API** you press **Create new API token**\n",
        "\n",
        "Now we load the file **kaggle.json** that you have downloaded, into this notebook:"
      ],
      "metadata": {
        "id": "f7nKbd2DjM5c"
      }
    },
    {
      "cell_type": "code",
      "source": [
        "from google.colab import files\n",
        "\n",
        "files.upload(); # upload your kaggle.json file"
      ],
      "metadata": {
        "id": "AIYcUvyzjNDl",
        "colab": {
          "resources": {
            "http://localhost:8080/nbextensions/google.colab/files.js": {
              "data": "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",
              "ok": true,
              "headers": [
                [
                  "content-type",
                  "application/javascript"
                ]
              ],
              "status": 200,
              "status_text": ""
            }
          },
          "base_uri": "https://localhost:8080/",
          "height": 73
        },
        "outputId": "049cf4be-2216-496f-bba1-633082117c24"
      },
      "execution_count": null,
      "outputs": [
        {
          "output_type": "display_data",
          "data": {
            "text/plain": [
              "<IPython.core.display.HTML object>"
            ],
            "text/html": [
              "\n",
              "     <input type=\"file\" id=\"files-a1cf6367-593d-42fb-9d0b-6c652192eebd\" name=\"files[]\" multiple disabled\n",
              "        style=\"border:none\" />\n",
              "     <output id=\"result-a1cf6367-593d-42fb-9d0b-6c652192eebd\">\n",
              "      Upload widget is only available when the cell has been executed in the\n",
              "      current browser session. Please rerun this cell to enable.\n",
              "      </output>\n",
              "      <script src=\"/nbextensions/google.colab/files.js\"></script> "
            ]
          },
          "metadata": {}
        },
        {
          "output_type": "stream",
          "name": "stdout",
          "text": [
            "Saving kaggle.json to kaggle.json\n"
          ]
        }
      ]
    },
    {
      "cell_type": "markdown",
      "source": [
        "The next cell moves the file into a separate folder, sets secure access for it and configures your Kaggle profile for this notebook."
      ],
      "metadata": {
        "id": "BJC2pKi9jNMF"
      }
    },
    {
      "cell_type": "code",
      "source": [
        "import json\n",
        "\n",
        "!mkdir /root/.kaggle/\n",
        "!mv kaggle.json /root/.kaggle/kaggle.json\n",
        "!chmod 600 ~/.kaggle/kaggle.json\n",
        "!kaggle config set -n path -v{/content}"
      ],
      "metadata": {
        "id": "7gWnVhcxjNU1",
        "colab": {
          "base_uri": "https://localhost:8080/"
        },
        "outputId": "c57cd128-811c-4c7c-fce1-e3cbd2cbbacf"
      },
      "execution_count": null,
      "outputs": [
        {
          "output_type": "stream",
          "name": "stdout",
          "text": [
            "- path is now set to: {/content}\n"
          ]
        }
      ]
    },
    {
      "cell_type": "markdown",
      "metadata": {
        "id": "2fDy-ghRhlvv"
      },
      "source": [
        "In order to sign up for a NYC Taxi competition you need to accept the rules by cliking on \"Late submission\" button in the upper right corner: https://www.kaggle.com/c/new-york-city-taxi-fare-prediction"
      ]
    },
    {
      "cell_type": "markdown",
      "metadata": {
        "id": "h2FromHiSLB4"
      },
      "source": [
        "Make a test submission to ensure that the submission mechanism works"
      ]
    },
    {
      "cell_type": "code",
      "metadata": {
        "id": "ULF0BN3LCtSE",
        "colab": {
          "base_uri": "https://localhost:8080/"
        },
        "outputId": "29e39aaa-bc35-4006-e3ca-37e5465553cb"
      },
      "source": [
        "!kaggle competitions submit -c new-york-city-taxi-fare-prediction -f sample_submission.csv -m \"Sample submission test\""
      ],
      "execution_count": null,
      "outputs": [
        {
          "output_type": "stream",
          "name": "stdout",
          "text": [
            "100% 335k/335k [00:00<00:00, 831kB/s]\n",
            "Successfully submitted to New York City Taxi Fare Prediction"
          ]
        }
      ]
    },
    {
      "cell_type": "markdown",
      "metadata": {
        "id": "d4HijXgyspzs"
      },
      "source": [
        "Now you can check `My submissions` tab on the website: https://www.kaggle.com/c/new-york-city-taxi-fare-prediction/submissions"
      ]
    },
    {
      "cell_type": "markdown",
      "metadata": {
        "id": "rXvcLJyNSRzH"
      },
      "source": [
        "## Read in the NYC data"
      ]
    },
    {
      "cell_type": "code",
      "metadata": {
        "id": "JQXdJrPvDMrZ"
      },
      "source": [
        "import numpy as np \n",
        "import pandas as pd\n",
        " \n",
        "# note that we use only 1M out of 2M records\n",
        "train =  pd.read_csv('train_2M.csv', parse_dates=[\"pickup_datetime\"], nrows = 1000000) # the first row will automatically be interpreted as a header"
      ],
      "execution_count": null,
      "outputs": []
    },
    {
      "cell_type": "markdown",
      "metadata": {
        "id": "s2BdqFzRHFig"
      },
      "source": [
        "## Brief Exploratory Data Analysis (EDA)"
      ]
    },
    {
      "cell_type": "code",
      "metadata": {
        "id": "BQTDba2DKDFX",
        "colab": {
          "base_uri": "https://localhost:8080/",
          "height": 206
        },
        "outputId": "c992efd6-ef8e-4ab7-cef9-e72b51bb7b7c"
      },
      "source": [
        "train.head()"
      ],
      "execution_count": null,
      "outputs": [
        {
          "output_type": "execute_result",
          "data": {
            "text/plain": [
              "   fare_amount     pickup_datetime  pickup_longitude  pickup_latitude  \\\n",
              "0          4.5 2009-06-15 17:26:21        -73.844311        40.721319   \n",
              "1         16.9 2010-01-05 16:52:16        -74.016048        40.711303   \n",
              "2          5.7 2011-08-18 00:35:00        -73.982738        40.761270   \n",
              "3          7.7 2012-04-21 04:30:42        -73.987130        40.733143   \n",
              "4          5.3 2010-03-09 07:51:00        -73.968095        40.768008   \n",
              "\n",
              "   dropoff_longitude  dropoff_latitude  passenger_count  \n",
              "0         -73.841610         40.712278                1  \n",
              "1         -73.979268         40.782004                1  \n",
              "2         -73.991242         40.750562                2  \n",
              "3         -73.991567         40.758092                1  \n",
              "4         -73.956655         40.783762                1  "
            ],
            "text/html": [
              "\n",
              "  <div id=\"df-aa5b5df2-0b08-4519-b002-6d4c68337dc7\">\n",
              "    <div class=\"colab-df-container\">\n",
              "      <div>\n",
              "<style scoped>\n",
              "    .dataframe tbody tr th:only-of-type {\n",
              "        vertical-align: middle;\n",
              "    }\n",
              "\n",
              "    .dataframe tbody tr th {\n",
              "        vertical-align: top;\n",
              "    }\n",
              "\n",
              "    .dataframe thead th {\n",
              "        text-align: right;\n",
              "    }\n",
              "</style>\n",
              "<table border=\"1\" class=\"dataframe\">\n",
              "  <thead>\n",
              "    <tr style=\"text-align: right;\">\n",
              "      <th></th>\n",
              "      <th>fare_amount</th>\n",
              "      <th>pickup_datetime</th>\n",
              "      <th>pickup_longitude</th>\n",
              "      <th>pickup_latitude</th>\n",
              "      <th>dropoff_longitude</th>\n",
              "      <th>dropoff_latitude</th>\n",
              "      <th>passenger_count</th>\n",
              "    </tr>\n",
              "  </thead>\n",
              "  <tbody>\n",
              "    <tr>\n",
              "      <th>0</th>\n",
              "      <td>4.5</td>\n",
              "      <td>2009-06-15 17:26:21</td>\n",
              "      <td>-73.844311</td>\n",
              "      <td>40.721319</td>\n",
              "      <td>-73.841610</td>\n",
              "      <td>40.712278</td>\n",
              "      <td>1</td>\n",
              "    </tr>\n",
              "    <tr>\n",
              "      <th>1</th>\n",
              "      <td>16.9</td>\n",
              "      <td>2010-01-05 16:52:16</td>\n",
              "      <td>-74.016048</td>\n",
              "      <td>40.711303</td>\n",
              "      <td>-73.979268</td>\n",
              "      <td>40.782004</td>\n",
              "      <td>1</td>\n",
              "    </tr>\n",
              "    <tr>\n",
              "      <th>2</th>\n",
              "      <td>5.7</td>\n",
              "      <td>2011-08-18 00:35:00</td>\n",
              "      <td>-73.982738</td>\n",
              "      <td>40.761270</td>\n",
              "      <td>-73.991242</td>\n",
              "      <td>40.750562</td>\n",
              "      <td>2</td>\n",
              "    </tr>\n",
              "    <tr>\n",
              "      <th>3</th>\n",
              "      <td>7.7</td>\n",
              "      <td>2012-04-21 04:30:42</td>\n",
              "      <td>-73.987130</td>\n",
              "      <td>40.733143</td>\n",
              "      <td>-73.991567</td>\n",
              "      <td>40.758092</td>\n",
              "      <td>1</td>\n",
              "    </tr>\n",
              "    <tr>\n",
              "      <th>4</th>\n",
              "      <td>5.3</td>\n",
              "      <td>2010-03-09 07:51:00</td>\n",
              "      <td>-73.968095</td>\n",
              "      <td>40.768008</td>\n",
              "      <td>-73.956655</td>\n",
              "      <td>40.783762</td>\n",
              "      <td>1</td>\n",
              "    </tr>\n",
              "  </tbody>\n",
              "</table>\n",
              "</div>\n",
              "      <button class=\"colab-df-convert\" onclick=\"convertToInteractive('df-aa5b5df2-0b08-4519-b002-6d4c68337dc7')\"\n",
              "              title=\"Convert this dataframe to an interactive table.\"\n",
              "              style=\"display:none;\">\n",
              "        \n",
              "  <svg xmlns=\"http://www.w3.org/2000/svg\" height=\"24px\"viewBox=\"0 0 24 24\"\n",
              "       width=\"24px\">\n",
              "    <path d=\"M0 0h24v24H0V0z\" fill=\"none\"/>\n",
              "    <path d=\"M18.56 5.44l.94 2.06.94-2.06 2.06-.94-2.06-.94-.94-2.06-.94 2.06-2.06.94zm-11 1L8.5 8.5l.94-2.06 2.06-.94-2.06-.94L8.5 2.5l-.94 2.06-2.06.94zm10 10l.94 2.06.94-2.06 2.06-.94-2.06-.94-.94-2.06-.94 2.06-2.06.94z\"/><path d=\"M17.41 7.96l-1.37-1.37c-.4-.4-.92-.59-1.43-.59-.52 0-1.04.2-1.43.59L10.3 9.45l-7.72 7.72c-.78.78-.78 2.05 0 2.83L4 21.41c.39.39.9.59 1.41.59.51 0 1.02-.2 1.41-.59l7.78-7.78 2.81-2.81c.8-.78.8-2.07 0-2.86zM5.41 20L4 18.59l7.72-7.72 1.47 1.35L5.41 20z\"/>\n",
              "  </svg>\n",
              "      </button>\n",
              "      \n",
              "  <style>\n",
              "    .colab-df-container {\n",
              "      display:flex;\n",
              "      flex-wrap:wrap;\n",
              "      gap: 12px;\n",
              "    }\n",
              "\n",
              "    .colab-df-convert {\n",
              "      background-color: #E8F0FE;\n",
              "      border: none;\n",
              "      border-radius: 50%;\n",
              "      cursor: pointer;\n",
              "      display: none;\n",
              "      fill: #1967D2;\n",
              "      height: 32px;\n",
              "      padding: 0 0 0 0;\n",
              "      width: 32px;\n",
              "    }\n",
              "\n",
              "    .colab-df-convert:hover {\n",
              "      background-color: #E2EBFA;\n",
              "      box-shadow: 0px 1px 2px rgba(60, 64, 67, 0.3), 0px 1px 3px 1px rgba(60, 64, 67, 0.15);\n",
              "      fill: #174EA6;\n",
              "    }\n",
              "\n",
              "    [theme=dark] .colab-df-convert {\n",
              "      background-color: #3B4455;\n",
              "      fill: #D2E3FC;\n",
              "    }\n",
              "\n",
              "    [theme=dark] .colab-df-convert:hover {\n",
              "      background-color: #434B5C;\n",
              "      box-shadow: 0px 1px 3px 1px rgba(0, 0, 0, 0.15);\n",
              "      filter: drop-shadow(0px 1px 2px rgba(0, 0, 0, 0.3));\n",
              "      fill: #FFFFFF;\n",
              "    }\n",
              "  </style>\n",
              "\n",
              "      <script>\n",
              "        const buttonEl =\n",
              "          document.querySelector('#df-aa5b5df2-0b08-4519-b002-6d4c68337dc7 button.colab-df-convert');\n",
              "        buttonEl.style.display =\n",
              "          google.colab.kernel.accessAllowed ? 'block' : 'none';\n",
              "\n",
              "        async function convertToInteractive(key) {\n",
              "          const element = document.querySelector('#df-aa5b5df2-0b08-4519-b002-6d4c68337dc7');\n",
              "          const dataTable =\n",
              "            await google.colab.kernel.invokeFunction('convertToInteractive',\n",
              "                                                     [key], {});\n",
              "          if (!dataTable) return;\n",
              "\n",
              "          const docLinkHtml = 'Like what you see? Visit the ' +\n",
              "            '<a target=\"_blank\" href=https://colab.research.google.com/notebooks/data_table.ipynb>data table notebook</a>'\n",
              "            + ' to learn more about interactive tables.';\n",
              "          element.innerHTML = '';\n",
              "          dataTable['output_type'] = 'display_data';\n",
              "          await google.colab.output.renderOutput(dataTable, element);\n",
              "          const docLink = document.createElement('div');\n",
              "          docLink.innerHTML = docLinkHtml;\n",
              "          element.appendChild(docLink);\n",
              "        }\n",
              "      </script>\n",
              "    </div>\n",
              "  </div>\n",
              "  "
            ]
          },
          "metadata": {},
          "execution_count": 10
        }
      ]
    },
    {
      "cell_type": "code",
      "metadata": {
        "id": "UiuOS0pBKL-E",
        "colab": {
          "base_uri": "https://localhost:8080/"
        },
        "outputId": "0a4eec58-0b43-4a14-9910-2e70715996d4"
      },
      "source": [
        "train.dtypes"
      ],
      "execution_count": null,
      "outputs": [
        {
          "output_type": "execute_result",
          "data": {
            "text/plain": [
              "fare_amount                 float64\n",
              "pickup_datetime      datetime64[ns]\n",
              "pickup_longitude            float64\n",
              "pickup_latitude             float64\n",
              "dropoff_longitude           float64\n",
              "dropoff_latitude            float64\n",
              "passenger_count               int64\n",
              "dtype: object"
            ]
          },
          "metadata": {},
          "execution_count": 11
        }
      ]
    },
    {
      "cell_type": "code",
      "metadata": {
        "id": "z5658q2zOcJZ",
        "colab": {
          "base_uri": "https://localhost:8080/",
          "height": 300
        },
        "outputId": "7bc90007-a5b7-4782-a615-72693bdc4c94"
      },
      "source": [
        "train.describe()"
      ],
      "execution_count": null,
      "outputs": [
        {
          "output_type": "execute_result",
          "data": {
            "text/plain": [
              "          fare_amount  pickup_longitude  pickup_latitude  dropoff_longitude  \\\n",
              "count  1000000.000000    1000000.000000   1000000.000000      999990.000000   \n",
              "mean        11.348079        -72.526640        39.929008         -72.527860   \n",
              "std          9.822090         12.057937         7.626154          11.324494   \n",
              "min        -44.900000      -3377.680935     -3116.285383       -3383.296608   \n",
              "25%          6.000000        -73.992060        40.734965         -73.991385   \n",
              "50%          8.500000        -73.981792        40.752695         -73.980135   \n",
              "75%         12.500000        -73.967094        40.767154         -73.963654   \n",
              "max        500.000000       2522.271325      2621.628430          45.581619   \n",
              "\n",
              "       dropoff_latitude  passenger_count  \n",
              "count     999990.000000   1000000.000000  \n",
              "mean          39.919954         1.684924  \n",
              "std            8.201418         1.323911  \n",
              "min        -3114.338567         0.000000  \n",
              "25%           40.734046         1.000000  \n",
              "50%           40.753166         1.000000  \n",
              "75%           40.768129         2.000000  \n",
              "max         1651.553433       208.000000  "
            ],
            "text/html": [
              "\n",
              "  <div id=\"df-696fa844-54d8-4f83-81d2-d978dae7cce5\">\n",
              "    <div class=\"colab-df-container\">\n",
              "      <div>\n",
              "<style scoped>\n",
              "    .dataframe tbody tr th:only-of-type {\n",
              "        vertical-align: middle;\n",
              "    }\n",
              "\n",
              "    .dataframe tbody tr th {\n",
              "        vertical-align: top;\n",
              "    }\n",
              "\n",
              "    .dataframe thead th {\n",
              "        text-align: right;\n",
              "    }\n",
              "</style>\n",
              "<table border=\"1\" class=\"dataframe\">\n",
              "  <thead>\n",
              "    <tr style=\"text-align: right;\">\n",
              "      <th></th>\n",
              "      <th>fare_amount</th>\n",
              "      <th>pickup_longitude</th>\n",
              "      <th>pickup_latitude</th>\n",
              "      <th>dropoff_longitude</th>\n",
              "      <th>dropoff_latitude</th>\n",
              "      <th>passenger_count</th>\n",
              "    </tr>\n",
              "  </thead>\n",
              "  <tbody>\n",
              "    <tr>\n",
              "      <th>count</th>\n",
              "      <td>1000000.000000</td>\n",
              "      <td>1000000.000000</td>\n",
              "      <td>1000000.000000</td>\n",
              "      <td>999990.000000</td>\n",
              "      <td>999990.000000</td>\n",
              "      <td>1000000.000000</td>\n",
              "    </tr>\n",
              "    <tr>\n",
              "      <th>mean</th>\n",
              "      <td>11.348079</td>\n",
              "      <td>-72.526640</td>\n",
              "      <td>39.929008</td>\n",
              "      <td>-72.527860</td>\n",
              "      <td>39.919954</td>\n",
              "      <td>1.684924</td>\n",
              "    </tr>\n",
              "    <tr>\n",
              "      <th>std</th>\n",
              "      <td>9.822090</td>\n",
              "      <td>12.057937</td>\n",
              "      <td>7.626154</td>\n",
              "      <td>11.324494</td>\n",
              "      <td>8.201418</td>\n",
              "      <td>1.323911</td>\n",
              "    </tr>\n",
              "    <tr>\n",
              "      <th>min</th>\n",
              "      <td>-44.900000</td>\n",
              "      <td>-3377.680935</td>\n",
              "      <td>-3116.285383</td>\n",
              "      <td>-3383.296608</td>\n",
              "      <td>-3114.338567</td>\n",
              "      <td>0.000000</td>\n",
              "    </tr>\n",
              "    <tr>\n",
              "      <th>25%</th>\n",
              "      <td>6.000000</td>\n",
              "      <td>-73.992060</td>\n",
              "      <td>40.734965</td>\n",
              "      <td>-73.991385</td>\n",
              "      <td>40.734046</td>\n",
              "      <td>1.000000</td>\n",
              "    </tr>\n",
              "    <tr>\n",
              "      <th>50%</th>\n",
              "      <td>8.500000</td>\n",
              "      <td>-73.981792</td>\n",
              "      <td>40.752695</td>\n",
              "      <td>-73.980135</td>\n",
              "      <td>40.753166</td>\n",
              "      <td>1.000000</td>\n",
              "    </tr>\n",
              "    <tr>\n",
              "      <th>75%</th>\n",
              "      <td>12.500000</td>\n",
              "      <td>-73.967094</td>\n",
              "      <td>40.767154</td>\n",
              "      <td>-73.963654</td>\n",
              "      <td>40.768129</td>\n",
              "      <td>2.000000</td>\n",
              "    </tr>\n",
              "    <tr>\n",
              "      <th>max</th>\n",
              "      <td>500.000000</td>\n",
              "      <td>2522.271325</td>\n",
              "      <td>2621.628430</td>\n",
              "      <td>45.581619</td>\n",
              "      <td>1651.553433</td>\n",
              "      <td>208.000000</td>\n",
              "    </tr>\n",
              "  </tbody>\n",
              "</table>\n",
              "</div>\n",
              "      <button class=\"colab-df-convert\" onclick=\"convertToInteractive('df-696fa844-54d8-4f83-81d2-d978dae7cce5')\"\n",
              "              title=\"Convert this dataframe to an interactive table.\"\n",
              "              style=\"display:none;\">\n",
              "        \n",
              "  <svg xmlns=\"http://www.w3.org/2000/svg\" height=\"24px\"viewBox=\"0 0 24 24\"\n",
              "       width=\"24px\">\n",
              "    <path d=\"M0 0h24v24H0V0z\" fill=\"none\"/>\n",
              "    <path d=\"M18.56 5.44l.94 2.06.94-2.06 2.06-.94-2.06-.94-.94-2.06-.94 2.06-2.06.94zm-11 1L8.5 8.5l.94-2.06 2.06-.94-2.06-.94L8.5 2.5l-.94 2.06-2.06.94zm10 10l.94 2.06.94-2.06 2.06-.94-2.06-.94-.94-2.06-.94 2.06-2.06.94z\"/><path d=\"M17.41 7.96l-1.37-1.37c-.4-.4-.92-.59-1.43-.59-.52 0-1.04.2-1.43.59L10.3 9.45l-7.72 7.72c-.78.78-.78 2.05 0 2.83L4 21.41c.39.39.9.59 1.41.59.51 0 1.02-.2 1.41-.59l7.78-7.78 2.81-2.81c.8-.78.8-2.07 0-2.86zM5.41 20L4 18.59l7.72-7.72 1.47 1.35L5.41 20z\"/>\n",
              "  </svg>\n",
              "      </button>\n",
              "      \n",
              "  <style>\n",
              "    .colab-df-container {\n",
              "      display:flex;\n",
              "      flex-wrap:wrap;\n",
              "      gap: 12px;\n",
              "    }\n",
              "\n",
              "    .colab-df-convert {\n",
              "      background-color: #E8F0FE;\n",
              "      border: none;\n",
              "      border-radius: 50%;\n",
              "      cursor: pointer;\n",
              "      display: none;\n",
              "      fill: #1967D2;\n",
              "      height: 32px;\n",
              "      padding: 0 0 0 0;\n",
              "      width: 32px;\n",
              "    }\n",
              "\n",
              "    .colab-df-convert:hover {\n",
              "      background-color: #E2EBFA;\n",
              "      box-shadow: 0px 1px 2px rgba(60, 64, 67, 0.3), 0px 1px 3px 1px rgba(60, 64, 67, 0.15);\n",
              "      fill: #174EA6;\n",
              "    }\n",
              "\n",
              "    [theme=dark] .colab-df-convert {\n",
              "      background-color: #3B4455;\n",
              "      fill: #D2E3FC;\n",
              "    }\n",
              "\n",
              "    [theme=dark] .colab-df-convert:hover {\n",
              "      background-color: #434B5C;\n",
              "      box-shadow: 0px 1px 3px 1px rgba(0, 0, 0, 0.15);\n",
              "      filter: drop-shadow(0px 1px 2px rgba(0, 0, 0, 0.3));\n",
              "      fill: #FFFFFF;\n",
              "    }\n",
              "  </style>\n",
              "\n",
              "      <script>\n",
              "        const buttonEl =\n",
              "          document.querySelector('#df-696fa844-54d8-4f83-81d2-d978dae7cce5 button.colab-df-convert');\n",
              "        buttonEl.style.display =\n",
              "          google.colab.kernel.accessAllowed ? 'block' : 'none';\n",
              "\n",
              "        async function convertToInteractive(key) {\n",
              "          const element = document.querySelector('#df-696fa844-54d8-4f83-81d2-d978dae7cce5');\n",
              "          const dataTable =\n",
              "            await google.colab.kernel.invokeFunction('convertToInteractive',\n",
              "                                                     [key], {});\n",
              "          if (!dataTable) return;\n",
              "\n",
              "          const docLinkHtml = 'Like what you see? Visit the ' +\n",
              "            '<a target=\"_blank\" href=https://colab.research.google.com/notebooks/data_table.ipynb>data table notebook</a>'\n",
              "            + ' to learn more about interactive tables.';\n",
              "          element.innerHTML = '';\n",
              "          dataTable['output_type'] = 'display_data';\n",
              "          await google.colab.output.renderOutput(dataTable, element);\n",
              "          const docLink = document.createElement('div');\n",
              "          docLink.innerHTML = docLinkHtml;\n",
              "          element.appendChild(docLink);\n",
              "        }\n",
              "      </script>\n",
              "    </div>\n",
              "  </div>\n",
              "  "
            ]
          },
          "metadata": {},
          "execution_count": 12
        }
      ]
    },
    {
      "cell_type": "code",
      "metadata": {
        "id": "nYJkes3jOdaJ"
      },
      "source": [
        "def add_travel_vector_features(df):\n",
        "    df['abs_diff_longitude'] = (df.dropoff_longitude - df.pickup_longitude).abs()\n",
        "    df['abs_diff_latitude'] = (df.dropoff_latitude - df.pickup_latitude).abs()\n",
        "\n",
        "add_travel_vector_features(train)"
      ],
      "execution_count": null,
      "outputs": []
    },
    {
      "cell_type": "code",
      "metadata": {
        "id": "rvX84Hoxk1Zj",
        "colab": {
          "base_uri": "https://localhost:8080/",
          "height": 357
        },
        "outputId": "a1b3e23f-02c7-45aa-c342-0dfa9107918e"
      },
      "source": [
        "train.head()"
      ],
      "execution_count": null,
      "outputs": [
        {
          "output_type": "execute_result",
          "data": {
            "text/plain": [
              "   fare_amount     pickup_datetime  pickup_longitude  pickup_latitude  \\\n",
              "0          4.5 2009-06-15 17:26:21        -73.844311        40.721319   \n",
              "1         16.9 2010-01-05 16:52:16        -74.016048        40.711303   \n",
              "2          5.7 2011-08-18 00:35:00        -73.982738        40.761270   \n",
              "3          7.7 2012-04-21 04:30:42        -73.987130        40.733143   \n",
              "4          5.3 2010-03-09 07:51:00        -73.968095        40.768008   \n",
              "\n",
              "   dropoff_longitude  dropoff_latitude  passenger_count  abs_diff_longitude  \\\n",
              "0         -73.841610         40.712278                1            0.002701   \n",
              "1         -73.979268         40.782004                1            0.036780   \n",
              "2         -73.991242         40.750562                2            0.008504   \n",
              "3         -73.991567         40.758092                1            0.004437   \n",
              "4         -73.956655         40.783762                1            0.011440   \n",
              "\n",
              "   abs_diff_latitude  \n",
              "0           0.009041  \n",
              "1           0.070701  \n",
              "2           0.010708  \n",
              "3           0.024949  \n",
              "4           0.015754  "
            ],
            "text/html": [
              "\n",
              "  <div id=\"df-d10feaf2-7cc4-4efc-840f-5203962ec794\">\n",
              "    <div class=\"colab-df-container\">\n",
              "      <div>\n",
              "<style scoped>\n",
              "    .dataframe tbody tr th:only-of-type {\n",
              "        vertical-align: middle;\n",
              "    }\n",
              "\n",
              "    .dataframe tbody tr th {\n",
              "        vertical-align: top;\n",
              "    }\n",
              "\n",
              "    .dataframe thead th {\n",
              "        text-align: right;\n",
              "    }\n",
              "</style>\n",
              "<table border=\"1\" class=\"dataframe\">\n",
              "  <thead>\n",
              "    <tr style=\"text-align: right;\">\n",
              "      <th></th>\n",
              "      <th>fare_amount</th>\n",
              "      <th>pickup_datetime</th>\n",
              "      <th>pickup_longitude</th>\n",
              "      <th>pickup_latitude</th>\n",
              "      <th>dropoff_longitude</th>\n",
              "      <th>dropoff_latitude</th>\n",
              "      <th>passenger_count</th>\n",
              "      <th>abs_diff_longitude</th>\n",
              "      <th>abs_diff_latitude</th>\n",
              "    </tr>\n",
              "  </thead>\n",
              "  <tbody>\n",
              "    <tr>\n",
              "      <th>0</th>\n",
              "      <td>4.5</td>\n",
              "      <td>2009-06-15 17:26:21</td>\n",
              "      <td>-73.844311</td>\n",
              "      <td>40.721319</td>\n",
              "      <td>-73.841610</td>\n",
              "      <td>40.712278</td>\n",
              "      <td>1</td>\n",
              "      <td>0.002701</td>\n",
              "      <td>0.009041</td>\n",
              "    </tr>\n",
              "    <tr>\n",
              "      <th>1</th>\n",
              "      <td>16.9</td>\n",
              "      <td>2010-01-05 16:52:16</td>\n",
              "      <td>-74.016048</td>\n",
              "      <td>40.711303</td>\n",
              "      <td>-73.979268</td>\n",
              "      <td>40.782004</td>\n",
              "      <td>1</td>\n",
              "      <td>0.036780</td>\n",
              "      <td>0.070701</td>\n",
              "    </tr>\n",
              "    <tr>\n",
              "      <th>2</th>\n",
              "      <td>5.7</td>\n",
              "      <td>2011-08-18 00:35:00</td>\n",
              "      <td>-73.982738</td>\n",
              "      <td>40.761270</td>\n",
              "      <td>-73.991242</td>\n",
              "      <td>40.750562</td>\n",
              "      <td>2</td>\n",
              "      <td>0.008504</td>\n",
              "      <td>0.010708</td>\n",
              "    </tr>\n",
              "    <tr>\n",
              "      <th>3</th>\n",
              "      <td>7.7</td>\n",
              "      <td>2012-04-21 04:30:42</td>\n",
              "      <td>-73.987130</td>\n",
              "      <td>40.733143</td>\n",
              "      <td>-73.991567</td>\n",
              "      <td>40.758092</td>\n",
              "      <td>1</td>\n",
              "      <td>0.004437</td>\n",
              "      <td>0.024949</td>\n",
              "    </tr>\n",
              "    <tr>\n",
              "      <th>4</th>\n",
              "      <td>5.3</td>\n",
              "      <td>2010-03-09 07:51:00</td>\n",
              "      <td>-73.968095</td>\n",
              "      <td>40.768008</td>\n",
              "      <td>-73.956655</td>\n",
              "      <td>40.783762</td>\n",
              "      <td>1</td>\n",
              "      <td>0.011440</td>\n",
              "      <td>0.015754</td>\n",
              "    </tr>\n",
              "  </tbody>\n",
              "</table>\n",
              "</div>\n",
              "      <button class=\"colab-df-convert\" onclick=\"convertToInteractive('df-d10feaf2-7cc4-4efc-840f-5203962ec794')\"\n",
              "              title=\"Convert this dataframe to an interactive table.\"\n",
              "              style=\"display:none;\">\n",
              "        \n",
              "  <svg xmlns=\"http://www.w3.org/2000/svg\" height=\"24px\"viewBox=\"0 0 24 24\"\n",
              "       width=\"24px\">\n",
              "    <path d=\"M0 0h24v24H0V0z\" fill=\"none\"/>\n",
              "    <path d=\"M18.56 5.44l.94 2.06.94-2.06 2.06-.94-2.06-.94-.94-2.06-.94 2.06-2.06.94zm-11 1L8.5 8.5l.94-2.06 2.06-.94-2.06-.94L8.5 2.5l-.94 2.06-2.06.94zm10 10l.94 2.06.94-2.06 2.06-.94-2.06-.94-.94-2.06-.94 2.06-2.06.94z\"/><path d=\"M17.41 7.96l-1.37-1.37c-.4-.4-.92-.59-1.43-.59-.52 0-1.04.2-1.43.59L10.3 9.45l-7.72 7.72c-.78.78-.78 2.05 0 2.83L4 21.41c.39.39.9.59 1.41.59.51 0 1.02-.2 1.41-.59l7.78-7.78 2.81-2.81c.8-.78.8-2.07 0-2.86zM5.41 20L4 18.59l7.72-7.72 1.47 1.35L5.41 20z\"/>\n",
              "  </svg>\n",
              "      </button>\n",
              "      \n",
              "  <style>\n",
              "    .colab-df-container {\n",
              "      display:flex;\n",
              "      flex-wrap:wrap;\n",
              "      gap: 12px;\n",
              "    }\n",
              "\n",
              "    .colab-df-convert {\n",
              "      background-color: #E8F0FE;\n",
              "      border: none;\n",
              "      border-radius: 50%;\n",
              "      cursor: pointer;\n",
              "      display: none;\n",
              "      fill: #1967D2;\n",
              "      height: 32px;\n",
              "      padding: 0 0 0 0;\n",
              "      width: 32px;\n",
              "    }\n",
              "\n",
              "    .colab-df-convert:hover {\n",
              "      background-color: #E2EBFA;\n",
              "      box-shadow: 0px 1px 2px rgba(60, 64, 67, 0.3), 0px 1px 3px 1px rgba(60, 64, 67, 0.15);\n",
              "      fill: #174EA6;\n",
              "    }\n",
              "\n",
              "    [theme=dark] .colab-df-convert {\n",
              "      background-color: #3B4455;\n",
              "      fill: #D2E3FC;\n",
              "    }\n",
              "\n",
              "    [theme=dark] .colab-df-convert:hover {\n",
              "      background-color: #434B5C;\n",
              "      box-shadow: 0px 1px 3px 1px rgba(0, 0, 0, 0.15);\n",
              "      filter: drop-shadow(0px 1px 2px rgba(0, 0, 0, 0.3));\n",
              "      fill: #FFFFFF;\n",
              "    }\n",
              "  </style>\n",
              "\n",
              "      <script>\n",
              "        const buttonEl =\n",
              "          document.querySelector('#df-d10feaf2-7cc4-4efc-840f-5203962ec794 button.colab-df-convert');\n",
              "        buttonEl.style.display =\n",
              "          google.colab.kernel.accessAllowed ? 'block' : 'none';\n",
              "\n",
              "        async function convertToInteractive(key) {\n",
              "          const element = document.querySelector('#df-d10feaf2-7cc4-4efc-840f-5203962ec794');\n",
              "          const dataTable =\n",
              "            await google.colab.kernel.invokeFunction('convertToInteractive',\n",
              "                                                     [key], {});\n",
              "          if (!dataTable) return;\n",
              "\n",
              "          const docLinkHtml = 'Like what you see? Visit the ' +\n",
              "            '<a target=\"_blank\" href=https://colab.research.google.com/notebooks/data_table.ipynb>data table notebook</a>'\n",
              "            + ' to learn more about interactive tables.';\n",
              "          element.innerHTML = '';\n",
              "          dataTable['output_type'] = 'display_data';\n",
              "          await google.colab.output.renderOutput(dataTable, element);\n",
              "          const docLink = document.createElement('div');\n",
              "          docLink.innerHTML = docLinkHtml;\n",
              "          element.appendChild(docLink);\n",
              "        }\n",
              "      </script>\n",
              "    </div>\n",
              "  </div>\n",
              "  "
            ]
          },
          "metadata": {},
          "execution_count": 14
        }
      ]
    },
    {
      "cell_type": "markdown",
      "metadata": {
        "id": "ETMJ8EI4lHrh"
      },
      "source": [
        "Read in test set"
      ]
    },
    {
      "cell_type": "code",
      "metadata": {
        "id": "17Lkf_YsOguo",
        "colab": {
          "base_uri": "https://localhost:8080/"
        },
        "outputId": "2bbf13b2-c3fb-4ec9-9ded-8f743eff3968"
      },
      "source": [
        "test = pd.read_csv('test.csv')\n",
        "test.dtypes"
      ],
      "execution_count": null,
      "outputs": [
        {
          "output_type": "execute_result",
          "data": {
            "text/plain": [
              "key                   object\n",
              "pickup_datetime       object\n",
              "pickup_longitude     float64\n",
              "pickup_latitude      float64\n",
              "dropoff_longitude    float64\n",
              "dropoff_latitude     float64\n",
              "passenger_count        int64\n",
              "dtype: object"
            ]
          },
          "metadata": {},
          "execution_count": 15
        }
      ]
    },
    {
      "cell_type": "code",
      "metadata": {
        "id": "nLM0rXFtOiNI"
      },
      "source": [
        "add_travel_vector_features(test)"
      ],
      "execution_count": null,
      "outputs": []
    },
    {
      "cell_type": "code",
      "metadata": {
        "id": "nHR870EOOj4g",
        "colab": {
          "base_uri": "https://localhost:8080/"
        },
        "outputId": "01697bb8-b371-4eee-f8ba-fef261dc4082"
      },
      "source": [
        "print(train.isnull().sum())"
      ],
      "execution_count": null,
      "outputs": [
        {
          "output_type": "stream",
          "name": "stdout",
          "text": [
            "fare_amount            0\n",
            "pickup_datetime        0\n",
            "pickup_longitude       0\n",
            "pickup_latitude        0\n",
            "dropoff_longitude     10\n",
            "dropoff_latitude      10\n",
            "passenger_count        0\n",
            "abs_diff_longitude    10\n",
            "abs_diff_latitude     10\n",
            "dtype: int64\n"
          ]
        }
      ]
    },
    {
      "cell_type": "code",
      "metadata": {
        "id": "ygKyHcPJOlJw",
        "colab": {
          "base_uri": "https://localhost:8080/"
        },
        "outputId": "e4b06f81-c762-463d-d5dd-f6653f15c1bf"
      },
      "source": [
        "print(f'Old size: {len(train)}')\n",
        "train = train.dropna(how = 'any', axis = 'rows')\n",
        "print(f'New size: {len(train)}')"
      ],
      "execution_count": null,
      "outputs": [
        {
          "output_type": "stream",
          "name": "stdout",
          "text": [
            "Old size: 1000000\n",
            "New size: 999990\n"
          ]
        }
      ]
    },
    {
      "cell_type": "code",
      "metadata": {
        "id": "5ngFKLETOm_4",
        "colab": {
          "base_uri": "https://localhost:8080/",
          "height": 280
        },
        "outputId": "4512a029-6a2a-4cd3-ee3f-e251ce8b120c"
      },
      "source": [
        "plot = train.iloc[:2000].plot.scatter('abs_diff_longitude', 'abs_diff_latitude')"
      ],
      "execution_count": null,
      "outputs": [
        {
          "output_type": "display_data",
          "data": {
            "text/plain": [
              "<Figure size 432x288 with 1 Axes>"
            ],
            "image/png": "[encoded data removed]"
          },
          "metadata": {
            "needs_background": "light"
          }
        }
      ]
    },
    {
      "cell_type": "code",
      "metadata": {
        "id": "Z5WHdOKjOoi_",
        "colab": {
          "base_uri": "https://localhost:8080/"
        },
        "outputId": "c2865221-39f3-4ae8-c777-e58d410decb6"
      },
      "source": [
        "print(f'Old size: {len(train)}')\n",
        "train = train[(train.abs_diff_longitude < 5.0) & (train.abs_diff_latitude < 5.0)]\n",
        "print(f'New size: {len(train)}')"
      ],
      "execution_count": null,
      "outputs": [
        {
          "output_type": "stream",
          "name": "stdout",
          "text": [
            "Old size: 999990\n",
            "New size: 998025\n"
          ]
        }
      ]
    },
    {
      "cell_type": "code",
      "metadata": {
        "id": "zinnh2oEP2Fj",
        "colab": {
          "base_uri": "https://localhost:8080/",
          "height": 280
        },
        "outputId": "9c1729d1-940f-426f-db1e-4bcdb6af90e0"
      },
      "source": [
        "plot = train.iloc[:2000].plot.scatter('abs_diff_longitude', 'abs_diff_latitude')"
      ],
      "execution_count": null,
      "outputs": [
        {
          "output_type": "display_data",
          "data": {
            "text/plain": [
              "<Figure size 432x288 with 1 Axes>"
            ],
            "image/png": "[encoded data removed]"
          },
          "metadata": {
            "needs_background": "light"
          }
        }
      ]
    },
    {
      "cell_type": "markdown",
      "metadata": {
        "id": "lr1Xa6-LHq52"
      },
      "source": [
        "### Naive baseline\n",
        "**Classroom exercise**: what is a reasonable baseline for predicting fare amount (`fare_amount` column in NYC taxi dataset) without knowing anything else?"
      ]
    },
    {
      "cell_type": "code",
      "metadata": {
        "id": "U9ZpHS5mQupp"
      },
      "source": [
        "##### YOUR CODE STARTS #####\n",
        "baseline_predictions = train.fare_amount.mean()\n",
        "##### YOUR CODE ENDS ##### "
      ],
      "execution_count": null,
      "outputs": []
    },
    {
      "cell_type": "code",
      "source": [
        "baseline_predictions"
      ],
      "metadata": {
        "colab": {
          "base_uri": "https://localhost:8080/"
        },
        "id": "hsP_rmTuTKGI",
        "outputId": "a2e5ca8d-e01a-4d1a-fa17-57172c64a9fb"
      },
      "execution_count": null,
      "outputs": [
        {
          "output_type": "execute_result",
          "data": {
            "text/plain": [
              "11.341214398436914"
            ]
          },
          "metadata": {},
          "execution_count": 23
        }
      ]
    },
    {
      "cell_type": "code",
      "metadata": {
        "id": "HtPZhyzMUBOQ",
        "colab": {
          "base_uri": "https://localhost:8080/"
        },
        "outputId": "40a01871-360c-4a07-adb8-022d572a7fa9"
      },
      "source": [
        "# Write the predictions to a CSV file which we can submit to the competition.\n",
        "submission = pd.DataFrame(\n",
        "    {'key': test.key, 'fare_amount': baseline_predictions},\n",
        "    columns = ['key', 'fare_amount'])\n",
        "submission.to_csv('submission_baseline.csv', index = False)\n",
        "\n",
        "!ls"
      ],
      "execution_count": null,
      "outputs": [
        {
          "output_type": "stream",
          "name": "stdout",
          "text": [
            "model.pickle\tsample_data\t       submission_baseline.csv\ttrain_2M.csv\n",
            "nyc_data_2.zip\tsample_submission.csv  test.csv\n"
          ]
        }
      ]
    },
    {
      "cell_type": "markdown",
      "metadata": {
        "id": "pMTcwEVKZfrP"
      },
      "source": [
        "**Classroom exercise**: submit `submission_baseline.csv` to kaggle using earlier example, report RMSE that you get"
      ]
    },
    {
      "cell_type": "code",
      "metadata": {
        "id": "ghUXJjZtWNhR",
        "colab": {
          "base_uri": "https://localhost:8080/"
        },
        "outputId": "696eb9c3-3543-40a0-e80e-245ffd12b311"
      },
      "source": [
        "##### YOUR CODE STARTS #####\n",
        "!kaggle competitions submit -c new-york-city-taxi-fare-prediction -f submission_baseline.csv -m \"Baseline submission test\"\n",
        "##### YOUR CODE ENDS ##### (please do not delete this line)"
      ],
      "execution_count": null,
      "outputs": [
        {
          "output_type": "stream",
          "name": "stdout",
          "text": [
            "100% 461k/461k [00:00<00:00, 1.31MB/s]\n",
            "Successfully submitted to New York City Taxi Fare Prediction"
          ]
        }
      ]
    },
    {
      "cell_type": "markdown",
      "metadata": {
        "id": "ba5yhMc2XBxz"
      },
      "source": [
        "### Linear regression on NYC taxi dataset based on one feature (abs_diff_longitude)"
      ]
    },
    {
      "cell_type": "markdown",
      "metadata": {
        "id": "QHgq2oyYXzU_"
      },
      "source": [
        "**Classroom exercise**: Use earlier example on 2D data to calculate **`slope`** (`w1`) and **`intercept`** based on **`abs_diff_longitude`**\n"
      ]
    },
    {
      "cell_type": "markdown",
      "metadata": {
        "id": "dbQq8K-grhMv"
      },
      "source": [
        "Lets recall that we have an exact solution for the parameters of linear regression $\\hat{y} = \\omega_{1} x + \\omega_{0}$ that minimizes mean squared error: <br>\n",
        "MSE = $\\frac{1}{N}\\sum_{i=1}^{N}(y_{i}-\\hat{y}_{i})^{2}$, <br>\n",
        "where $N$ is a number of samples, $y_{i}$ - true value. \n",
        "$$\\omega_{1} = \\frac{\\sum_{i=1}^{n}{(x_{i} - \\bar{x})(y_{i} - \\bar{y})}}{\\sum_{i=1}^{n}{(x_{i} - \\bar{x})^{2}}}$$\n",
        "$$\\text{intercept}=\\bar{y}-\\omega_{1}\\bar{x},$$\n",
        "where $\\bar{x}$ and $\\bar{y}$ are the mean values of $\\textbf{x}$ and $\\textbf{y}$ vectors correspondingly."
      ]
    },
    {
      "cell_type": "code",
      "metadata": {
        "id": "21P48rhuXE3h",
        "colab": {
          "base_uri": "https://localhost:8080/"
        },
        "outputId": "b2da6447-96ac-496f-cd49-58adb9e29eb8"
      },
      "source": [
        "##### YOUR CODE STARTS #####\n",
        "x = train.abs_diff_longitude\n",
        "y = train.fare_amount\n",
        "\n",
        "w1 = (np.sum((x-np.mean(x))*(y-np.mean(y))))/np.sum((x-np.mean(x))**2)\n",
        "intercept = np.mean(y) - w1*np.mean(x)\n",
        "##### YOUR CODE ENDS ##### (please do not delete this line)\n",
        "print(f\"w1 = {round(w1, 8)}; intercept = {round(intercept, 8)}\")"
      ],
      "execution_count": null,
      "outputs": [
        {
          "output_type": "stream",
          "name": "stdout",
          "text": [
            "w1 = 179.08616006; intercept = 7.31070345\n"
          ]
        }
      ]
    },
    {
      "cell_type": "markdown",
      "metadata": {
        "id": "VoCEE4HkaPTB"
      },
      "source": [
        "Instead of calculating coefficients ourselves, we can use sklearn"
      ]
    },
    {
      "cell_type": "code",
      "metadata": {
        "id": "ZCA4fNQO0P6J",
        "colab": {
          "base_uri": "https://localhost:8080/"
        },
        "outputId": "5c30dc83-66ee-4f3f-ffe7-b8a3a27020d9"
      },
      "source": [
        "from sklearn.linear_model import LinearRegression\n",
        "\n",
        "lr = LinearRegression()\n",
        "lr.fit(train[['abs_diff_longitude']], train[['fare_amount']])"
      ],
      "execution_count": null,
      "outputs": [
        {
          "output_type": "execute_result",
          "data": {
            "text/plain": [
              "LinearRegression()"
            ]
          },
          "metadata": {},
          "execution_count": 27
        }
      ]
    },
    {
      "cell_type": "markdown",
      "metadata": {
        "id": "pC06Xp1w9A-c"
      },
      "source": [
        "#### Inspecting model object"
      ]
    },
    {
      "cell_type": "code",
      "metadata": {
        "id": "V14--yD080QR",
        "colab": {
          "base_uri": "https://localhost:8080/"
        },
        "outputId": "3e0230b3-cfbb-4125-b580-e1584d7ec7df"
      },
      "source": [
        "dir(lr)"
      ],
      "execution_count": null,
      "outputs": [
        {
          "output_type": "execute_result",
          "data": {
            "text/plain": [
              "['__abstractmethods__',\n",
              " '__class__',\n",
              " '__delattr__',\n",
              " '__dict__',\n",
              " '__dir__',\n",
              " '__doc__',\n",
              " '__eq__',\n",
              " '__format__',\n",
              " '__ge__',\n",
              " '__getattribute__',\n",
              " '__getstate__',\n",
              " '__gt__',\n",
              " '__hash__',\n",
              " '__init__',\n",
              " '__init_subclass__',\n",
              " '__le__',\n",
              " '__lt__',\n",
              " '__module__',\n",
              " '__ne__',\n",
              " '__new__',\n",
              " '__reduce__',\n",
              " '__reduce_ex__',\n",
              " '__repr__',\n",
              " '__setattr__',\n",
              " '__setstate__',\n",
              " '__sizeof__',\n",
              " '__str__',\n",
              " '__subclasshook__',\n",
              " '__weakref__',\n",
              " '_abc_impl',\n",
              " '_check_feature_names',\n",
              " '_check_n_features',\n",
              " '_decision_function',\n",
              " '_estimator_type',\n",
              " '_get_param_names',\n",
              " '_get_tags',\n",
              " '_more_tags',\n",
              " '_preprocess_data',\n",
              " '_repr_html_',\n",
              " '_repr_html_inner',\n",
              " '_repr_mimebundle_',\n",
              " '_residues',\n",
              " '_set_intercept',\n",
              " '_validate_data',\n",
              " 'coef_',\n",
              " 'copy_X',\n",
              " 'feature_names_in_',\n",
              " 'fit',\n",
              " 'fit_intercept',\n",
              " 'get_params',\n",
              " 'intercept_',\n",
              " 'n_features_in_',\n",
              " 'n_jobs',\n",
              " 'normalize',\n",
              " 'positive',\n",
              " 'predict',\n",
              " 'rank_',\n",
              " 'score',\n",
              " 'set_params',\n",
              " 'singular_']"
            ]
          },
          "metadata": {},
          "execution_count": 28
        }
      ]
    },
    {
      "cell_type": "code",
      "metadata": {
        "id": "vnGHTN__AOtp",
        "colab": {
          "base_uri": "https://localhost:8080/"
        },
        "outputId": "6db14461-8b2e-480d-d394-a3aa39766d35"
      },
      "source": [
        "# Print learnt weights\n",
        "print(f'[{round(lr.coef_[0][0], 8)}, {round(lr.intercept_[0], 8)}]')"
      ],
      "execution_count": null,
      "outputs": [
        {
          "output_type": "stream",
          "name": "stdout",
          "text": [
            "[179.08616006, 7.31070345]\n"
          ]
        }
      ]
    },
    {
      "cell_type": "markdown",
      "metadata": {
        "id": "GDfEG31gXvKZ"
      },
      "source": [
        "Using earlier example, let's predict `fare_amount` based on calculated coefficients **`intercept`** and **`w1`** and **`test.abs_diff_longitude`**."
      ]
    },
    {
      "cell_type": "code",
      "metadata": {
        "id": "IdbmbIpzXTI9"
      },
      "source": [
        "predictions_manual = w1*test.abs_diff_longitude + intercept"
      ],
      "execution_count": null,
      "outputs": []
    },
    {
      "cell_type": "markdown",
      "metadata": {
        "id": "kBCmETriTz-Y"
      },
      "source": [
        "Here is how you can predict `fare_amount` for `test` using sklearn object `lr`:"
      ]
    },
    {
      "cell_type": "code",
      "metadata": {
        "id": "3OJ83PbMGGnc"
      },
      "source": [
        "predictions_sklearn = lr.predict(test[['abs_diff_longitude']])"
      ],
      "execution_count": null,
      "outputs": []
    },
    {
      "cell_type": "code",
      "metadata": {
        "id": "yZ7zhICFX8Y6",
        "colab": {
          "base_uri": "https://localhost:8080/"
        },
        "outputId": "a4cbfade-3d33-4b21-db5d-051c81985e01"
      },
      "source": [
        "submission = pd.DataFrame(\n",
        "    {'key': test.key, 'fare_amount': np.squeeze(predictions_sklearn)},\n",
        "    columns = ['key', 'fare_amount'])\n",
        "submission.to_csv('submission_lr_2d.csv', index = False)\n",
        "\n",
        "!ls "
      ],
      "execution_count": null,
      "outputs": [
        {
          "output_type": "stream",
          "name": "stdout",
          "text": [
            "model.pickle\tsample_data\t       submission_baseline.csv\ttest.csv\n",
            "nyc_data_2.zip\tsample_submission.csv  submission_lr_2d.csv\ttrain_2M.csv\n"
          ]
        }
      ]
    },
    {
      "cell_type": "code",
      "metadata": {
        "id": "hlwRf3w0YCxM",
        "colab": {
          "base_uri": "https://localhost:8080/"
        },
        "outputId": "76cc98fc-835d-4c8b-e943-cd0bf7005a05"
      },
      "source": [
        "!kaggle competitions submit -c new-york-city-taxi-fare-prediction -f submission_lr_2d.csv -m \"Linear Regression with only abs_diff_longitude as an independent variable\""
      ],
      "execution_count": null,
      "outputs": [
        {
          "output_type": "stream",
          "name": "stdout",
          "text": [
            "100% 454k/454k [00:00<00:00, 1.14MB/s]\n",
            "Successfully submitted to New York City Taxi Fare Prediction"
          ]
        }
      ]
    },
    {
      "cell_type": "code",
      "metadata": {
        "id": "toSd2drMJzvp",
        "colab": {
          "base_uri": "https://localhost:8080/"
        },
        "outputId": "f2f308b7-57a6-469c-e486-85f4d0137717"
      },
      "source": [
        "!head submission_lr_2d.csv"
      ],
      "execution_count": null,
      "outputs": [
        {
          "output_type": "stream",
          "name": "stdout",
          "text": [
            "key,fare_amount\n",
            "2015-01-27 13:08:24.0000002,8.763100513241412\n",
            "2015-01-27 13:08:24.0000003,9.464022144954694\n",
            "2011-10-08 11:53:44.0000002,7.824680727296262\n",
            "2012-12-01 21:12:12.0000002,8.974055702575013\n",
            "2012-12-01 21:12:12.0000003,11.343544686356646\n",
            "2012-12-01 21:12:12.0000005,10.568997044091063\n",
            "2011-10-06 12:10:20.0000001,9.210628520017995\n",
            "2011-10-06 12:10:20.0000003,44.52498659500914\n",
            "2011-10-06 12:10:20.0000002,10.712086885978357\n"
          ]
        }
      ]
    },
    {
      "cell_type": "markdown",
      "metadata": {
        "id": "fLpkthynagGi"
      },
      "source": [
        "What RMSE you obtained with this model?"
      ]
    },
    {
      "cell_type": "markdown",
      "metadata": {
        "id": "4ND-fEPFgEuc"
      },
      "source": [
        "## Save/load model using pickle."
      ]
    },
    {
      "cell_type": "code",
      "metadata": {
        "id": "lamRzy5RgHY8",
        "colab": {
          "base_uri": "https://localhost:8080/"
        },
        "outputId": "7c255a21-3f07-48df-e645-c35c04c655f8"
      },
      "source": [
        "import pickle\n",
        "import os\n",
        "\n",
        "pickle.dump(lr, open('linear_regression.pickle', 'wb'))\n",
        "\n",
        "if os.path.getsize('linear_regression.pickle') > 0:  \n",
        "    print(\"file is not empty\")"
      ],
      "execution_count": null,
      "outputs": [
        {
          "output_type": "stream",
          "name": "stdout",
          "text": [
            "file is not empty\n"
          ]
        }
      ]
    },
    {
      "cell_type": "code",
      "metadata": {
        "id": "sFPxRBn3gQ7D",
        "colab": {
          "base_uri": "https://localhost:8080/"
        },
        "outputId": "1effcf9e-5168-4b61-a99d-7197745874b7"
      },
      "source": [
        "!ls"
      ],
      "execution_count": null,
      "outputs": [
        {
          "output_type": "stream",
          "name": "stdout",
          "text": [
            "linear_regression.pickle  sample_data\t\t   submission_lr_2d.csv\n",
            "model.pickle\t\t  sample_submission.csv    test.csv\n",
            "nyc_data_2.zip\t\t  submission_baseline.csv  train_2M.csv\n"
          ]
        }
      ]
    },
    {
      "cell_type": "code",
      "metadata": {
        "id": "Eq_TNYCAgRb8"
      },
      "source": [
        "del lr"
      ],
      "execution_count": null,
      "outputs": []
    },
    {
      "cell_type": "markdown",
      "metadata": {
        "id": "32ALANZBgZGH"
      },
      "source": [
        "Now, if you call `lr` you should get an error:"
      ]
    },
    {
      "cell_type": "code",
      "metadata": {
        "id": "rX6F7DUagZ8o",
        "colab": {
          "base_uri": "https://localhost:8080/",
          "height": 166
        },
        "outputId": "7a948659-73c6-4148-bcee-15220a6d17d3"
      },
      "source": [
        "lr"
      ],
      "execution_count": null,
      "outputs": [
        {
          "output_type": "error",
          "ename": "NameError",
          "evalue": "ignored",
          "traceback": [
            "\u001b[0;31m---------------------------------------------------------------------------\u001b[0m",
            "\u001b[0;31mNameError\u001b[0m                                 Traceback (most recent call last)",
            "\u001b[0;32m<ipython-input-38-653612280959>\u001b[0m in \u001b[0;36m<module>\u001b[0;34m\u001b[0m\n\u001b[0;32m----> 1\u001b[0;31m \u001b[0mlr\u001b[0m\u001b[0;34m\u001b[0m\u001b[0;34m\u001b[0m\u001b[0m\n\u001b[0m",
            "\u001b[0;31mNameError\u001b[0m: name 'lr' is not defined"
          ]
        }
      ]
    },
    {
      "cell_type": "code",
      "metadata": {
        "id": "Bulbskr2gbAD"
      },
      "source": [
        "filename = 'linear_regression.pickle'\n",
        "with open(filename, 'rb') as file:\n",
        "  lr = pickle.load(file)"
      ],
      "execution_count": null,
      "outputs": []
    },
    {
      "cell_type": "markdown",
      "metadata": {
        "id": "tRgHrImTgfIL"
      },
      "source": [
        "Check that `lr` object has been loaded successfully\n"
      ]
    },
    {
      "cell_type": "code",
      "metadata": {
        "id": "5fp_TWrzWi6l",
        "colab": {
          "base_uri": "https://localhost:8080/"
        },
        "outputId": "af68314f-1b84-4a94-e40c-74ec05d7b4b3"
      },
      "source": [
        "lr"
      ],
      "execution_count": null,
      "outputs": [
        {
          "output_type": "execute_result",
          "data": {
            "text/plain": [
              "LinearRegression()"
            ]
          },
          "metadata": {},
          "execution_count": 40
        }
      ]
    },
    {
      "cell_type": "code",
      "metadata": {
        "id": "MXrnjgrsghWz",
        "colab": {
          "base_uri": "https://localhost:8080/"
        },
        "outputId": "9920f575-ec96-4bf8-9553-2ac6bb5dea35"
      },
      "source": [
        "print(f'[{round(lr.coef_[0][0], 8)}, {round(lr.intercept_[0], 8)}]')"
      ],
      "execution_count": null,
      "outputs": [
        {
          "output_type": "stream",
          "name": "stdout",
          "text": [
            "[179.08616006, 7.31070345]\n"
          ]
        }
      ]
    },
    {
      "cell_type": "markdown",
      "metadata": {
        "id": "QXiM7T9qYWfG"
      },
      "source": [
        "### Linear regression based on more than one feature"
      ]
    },
    {
      "cell_type": "code",
      "metadata": {
        "id": "TJKT5S2pYbwK",
        "colab": {
          "base_uri": "https://localhost:8080/"
        },
        "outputId": "9e87a56d-7f80-4813-d54f-80872f2a5801"
      },
      "source": [
        "lr = LinearRegression()\n",
        "lr.fit(train[['abs_diff_longitude', 'abs_diff_latitude']], train[['fare_amount']])\n",
        "\n",
        "# Print learnt weights\n",
        "print(f'[{round(lr.coef_[0][0], 8)}, {round(lr.coef_[0][1], 8)} , {round(lr.intercept_[0], 8)}]')"
      ],
      "execution_count": null,
      "outputs": [
        {
          "output_type": "stream",
          "name": "stdout",
          "text": [
            "[146.1216904, 89.26772999 , 6.17039106]\n"
          ]
        }
      ]
    },
    {
      "cell_type": "markdown",
      "metadata": {
        "id": "8dDBCIlujFWp"
      },
      "source": [
        "Predict `fare_amount` for test set and submit predictions to kaggle"
      ]
    },
    {
      "cell_type": "code",
      "metadata": {
        "id": "mVpFOfPWUJMT",
        "colab": {
          "base_uri": "https://localhost:8080/"
        },
        "outputId": "823551cb-260f-4c50-8d68-d34e35750595"
      },
      "source": [
        "# Predict fare_amount on the test set using our model (w) trained on the training set.\n",
        "test_y_predictions = lr.predict(test[['abs_diff_longitude', 'abs_diff_latitude']])\n",
        "\n",
        "# Write the predictions to a CSV file which we can submit to the competition.\n",
        "submission = pd.DataFrame(\n",
        "    {'key': test.key, 'fare_amount': np.squeeze(test_y_predictions)},\n",
        "    columns = ['key', 'fare_amount'])\n",
        "submission.to_csv('submission_lr_3d.csv', index = False)\n",
        "\n",
        "!ls "
      ],
      "execution_count": null,
      "outputs": [
        {
          "output_type": "stream",
          "name": "stdout",
          "text": [
            "linear_regression.pickle  sample_submission.csv    test.csv\n",
            "model.pickle\t\t  submission_baseline.csv  train_2M.csv\n",
            "nyc_data_2.zip\t\t  submission_lr_2d.csv\n",
            "sample_data\t\t  submission_lr_3d.csv\n"
          ]
        }
      ]
    },
    {
      "cell_type": "code",
      "metadata": {
        "id": "EHNFNX9YUo1n",
        "colab": {
          "base_uri": "https://localhost:8080/"
        },
        "outputId": "4811fc67-5dfa-4303-e491-fa13fb7a8e5e"
      },
      "source": [
        "!kaggle competitions submit -c new-york-city-taxi-fare-prediction -f submission_lr_3d.csv -m \"Linear Regression with two predictors on 1M records\""
      ],
      "execution_count": null,
      "outputs": [
        {
          "output_type": "stream",
          "name": "stdout",
          "text": [
            "100% 454k/454k [00:00<00:00, 881kB/s]\n",
            "Successfully submitted to New York City Taxi Fare Prediction"
          ]
        }
      ]
    },
    {
      "cell_type": "markdown",
      "metadata": {
        "id": "tRoXaw0ET_GG"
      },
      "source": [
        "### Decision Tree (DT)"
      ]
    },
    {
      "cell_type": "code",
      "metadata": {
        "id": "b3fz57D3Tuqy",
        "colab": {
          "base_uri": "https://localhost:8080/"
        },
        "outputId": "f3b02cba-d343-4b32-f536-a94e710c9fb8"
      },
      "source": [
        "from sklearn.tree import DecisionTreeRegressor\n",
        "dtr= DecisionTreeRegressor(max_depth = 100)\n",
        "dtr.fit(train[['abs_diff_longitude', 'abs_diff_latitude']], train[['fare_amount']])"
      ],
      "execution_count": null,
      "outputs": [
        {
          "output_type": "execute_result",
          "data": {
            "text/plain": [
              "DecisionTreeRegressor(max_depth=100)"
            ]
          },
          "metadata": {},
          "execution_count": 45
        }
      ]
    },
    {
      "cell_type": "markdown",
      "metadata": {
        "id": "SCwxaKI4VhVM"
      },
      "source": [
        "How can we predict the goodness of this model without sending it to the server? (Hint: remember RMSE?)"
      ]
    },
    {
      "cell_type": "code",
      "metadata": {
        "id": "pXQEDEwOY6N-",
        "colab": {
          "base_uri": "https://localhost:8080/"
        },
        "outputId": "466c1f55-47a4-40f8-a13a-9591a2d643e0"
      },
      "source": [
        "np.sqrt(np.mean((dtr.predict(train[['abs_diff_longitude', 'abs_diff_latitude']]) - train['fare_amount'])**2))"
      ],
      "execution_count": null,
      "outputs": [
        {
          "output_type": "execute_result",
          "data": {
            "text/plain": [
              "2.598579835411356"
            ]
          },
          "metadata": {},
          "execution_count": 46
        }
      ]
    },
    {
      "cell_type": "markdown",
      "metadata": {
        "id": "3_NmcC6gb5-n"
      },
      "source": [
        "or using built-in function:"
      ]
    },
    {
      "cell_type": "code",
      "metadata": {
        "id": "aSTwJPc3Vgru",
        "colab": {
          "base_uri": "https://localhost:8080/"
        },
        "outputId": "b634a9e8-2142-4231-b2b0-8d5ef783a60d"
      },
      "source": [
        "from sklearn.metrics import mean_squared_error\n",
        "# squared = False returns RMSE, otherwise MSE\n",
        "mean_squared_error(train.fare_amount, dtr.predict(train[['abs_diff_longitude', 'abs_diff_latitude']]), squared = False)"
      ],
      "execution_count": null,
      "outputs": [
        {
          "output_type": "execute_result",
          "data": {
            "text/plain": [
              "2.598579835411356"
            ]
          },
          "metadata": {},
          "execution_count": 47
        }
      ]
    },
    {
      "cell_type": "markdown",
      "metadata": {
        "id": "3Utsm_1rnksz"
      },
      "source": [
        "Very good! What would be our standing in the leaderboard if this RMSE was true?"
      ]
    },
    {
      "cell_type": "markdown",
      "metadata": {
        "id": "O5FTDyNGnXVk"
      },
      "source": [
        "Let's now submit this mode's predictions to kaggle and compare RMSE scores"
      ]
    },
    {
      "cell_type": "code",
      "metadata": {
        "id": "1eqN62e_VVje"
      },
      "source": [
        "test_y_predictions = dtr.predict(test[['abs_diff_longitude', 'abs_diff_latitude']])"
      ],
      "execution_count": null,
      "outputs": []
    },
    {
      "cell_type": "code",
      "metadata": {
        "id": "W8eZnKmeV3UC",
        "colab": {
          "base_uri": "https://localhost:8080/"
        },
        "outputId": "f3b6c6e8-89db-4312-9e59-4f05890c6aba"
      },
      "source": [
        "# Write the predictions to a CSV file which we can submit to the competition.\n",
        "submission = pd.DataFrame(\n",
        "    {'key': test.key, 'fare_amount': test_y_predictions},\n",
        "    columns = ['key', 'fare_amount'])\n",
        "submission.to_csv('submission_dt.csv', index = False)\n",
        "\n",
        "!kaggle competitions submit -c new-york-city-taxi-fare-prediction -f submission_dt.csv -m \"Decision Tree Regressor using 1M records and max_depth = 100\""
      ],
      "execution_count": null,
      "outputs": [
        {
          "output_type": "stream",
          "name": "stdout",
          "text": [
            "100% 322k/322k [00:00<00:00, 546kB/s]\n",
            "Successfully submitted to New York City Taxi Fare Prediction"
          ]
        }
      ]
    },
    {
      "cell_type": "markdown",
      "metadata": {
        "id": "W61EbSaLclDT"
      },
      "source": [
        "### Train, val split for more accurate estimate of our model performance\n",
        "We will divide our initial `train` into `train_X` (80%) and `val_X`(20%). We shall create separate variables `train_y` and `val_y` that will hold fare_amount for corresponding rows for convenience."
      ]
    },
    {
      "cell_type": "code",
      "metadata": {
        "id": "sCEE6oS5cPK3"
      },
      "source": [
        "train_X = train[0:int(len(train)*0.8)]\n",
        "train_y = train.fare_amount[0:int(len(train)*0.8)]"
      ],
      "execution_count": null,
      "outputs": []
    },
    {
      "cell_type": "markdown",
      "metadata": {
        "id": "dmOuThjiokAQ"
      },
      "source": [
        "**Classroom exercise**: assign remaining 20% of the data to val_X, val_y"
      ]
    },
    {
      "cell_type": "code",
      "metadata": {
        "id": "KH6T3ry6okUp"
      },
      "source": [
        "##### YOUR CODE STARTS #####\n",
        "val_X = train[int(len(train)*0.8):]\n",
        "val_y = train.fare_amount[int(len(train)*0.8):]\n",
        "##### YOUR CODE ENDS ##### (please do not delete this line)"
      ],
      "execution_count": null,
      "outputs": []
    },
    {
      "cell_type": "code",
      "metadata": {
        "id": "-ozmdmqJfSJ0",
        "colab": {
          "base_uri": "https://localhost:8080/"
        },
        "outputId": "d6c2a828-5633-4ad4-b7fc-883558d6a25f"
      },
      "source": [
        "print(train_X.shape)\n",
        "print(train_y.shape)\n",
        "print(val_X.shape)\n",
        "print(val_y.shape)"
      ],
      "execution_count": null,
      "outputs": [
        {
          "output_type": "stream",
          "name": "stdout",
          "text": [
            "(798420, 9)\n",
            "(798420,)\n",
            "(199605, 9)\n",
            "(199605,)\n"
          ]
        }
      ]
    },
    {
      "cell_type": "code",
      "metadata": {
        "id": "MZvC3DoRg4IX",
        "colab": {
          "base_uri": "https://localhost:8080/",
          "height": 357
        },
        "outputId": "a05044cd-92a0-4c73-e7e1-c127938b92c4"
      },
      "source": [
        "train_X[0:5]"
      ],
      "execution_count": null,
      "outputs": [
        {
          "output_type": "execute_result",
          "data": {
            "text/plain": [
              "   fare_amount     pickup_datetime  pickup_longitude  pickup_latitude  \\\n",
              "0          4.5 2009-06-15 17:26:21        -73.844311        40.721319   \n",
              "1         16.9 2010-01-05 16:52:16        -74.016048        40.711303   \n",
              "2          5.7 2011-08-18 00:35:00        -73.982738        40.761270   \n",
              "3          7.7 2012-04-21 04:30:42        -73.987130        40.733143   \n",
              "4          5.3 2010-03-09 07:51:00        -73.968095        40.768008   \n",
              "\n",
              "   dropoff_longitude  dropoff_latitude  passenger_count  abs_diff_longitude  \\\n",
              "0         -73.841610         40.712278                1            0.002701   \n",
              "1         -73.979268         40.782004                1            0.036780   \n",
              "2         -73.991242         40.750562                2            0.008504   \n",
              "3         -73.991567         40.758092                1            0.004437   \n",
              "4         -73.956655         40.783762                1            0.011440   \n",
              "\n",
              "   abs_diff_latitude  \n",
              "0           0.009041  \n",
              "1           0.070701  \n",
              "2           0.010708  \n",
              "3           0.024949  \n",
              "4           0.015754  "
            ],
            "text/html": [
              "\n",
              "  <div id=\"df-77af4e86-a713-40c2-aacf-0a953dd64c03\">\n",
              "    <div class=\"colab-df-container\">\n",
              "      <div>\n",
              "<style scoped>\n",
              "    .dataframe tbody tr th:only-of-type {\n",
              "        vertical-align: middle;\n",
              "    }\n",
              "\n",
              "    .dataframe tbody tr th {\n",
              "        vertical-align: top;\n",
              "    }\n",
              "\n",
              "    .dataframe thead th {\n",
              "        text-align: right;\n",
              "    }\n",
              "</style>\n",
              "<table border=\"1\" class=\"dataframe\">\n",
              "  <thead>\n",
              "    <tr style=\"text-align: right;\">\n",
              "      <th></th>\n",
              "      <th>fare_amount</th>\n",
              "      <th>pickup_datetime</th>\n",
              "      <th>pickup_longitude</th>\n",
              "      <th>pickup_latitude</th>\n",
              "      <th>dropoff_longitude</th>\n",
              "      <th>dropoff_latitude</th>\n",
              "      <th>passenger_count</th>\n",
              "      <th>abs_diff_longitude</th>\n",
              "      <th>abs_diff_latitude</th>\n",
              "    </tr>\n",
              "  </thead>\n",
              "  <tbody>\n",
              "    <tr>\n",
              "      <th>0</th>\n",
              "      <td>4.5</td>\n",
              "      <td>2009-06-15 17:26:21</td>\n",
              "      <td>-73.844311</td>\n",
              "      <td>40.721319</td>\n",
              "      <td>-73.841610</td>\n",
              "      <td>40.712278</td>\n",
              "      <td>1</td>\n",
              "      <td>0.002701</td>\n",
              "      <td>0.009041</td>\n",
              "    </tr>\n",
              "    <tr>\n",
              "      <th>1</th>\n",
              "      <td>16.9</td>\n",
              "      <td>2010-01-05 16:52:16</td>\n",
              "      <td>-74.016048</td>\n",
              "      <td>40.711303</td>\n",
              "      <td>-73.979268</td>\n",
              "      <td>40.782004</td>\n",
              "      <td>1</td>\n",
              "      <td>0.036780</td>\n",
              "      <td>0.070701</td>\n",
              "    </tr>\n",
              "    <tr>\n",
              "      <th>2</th>\n",
              "      <td>5.7</td>\n",
              "      <td>2011-08-18 00:35:00</td>\n",
              "      <td>-73.982738</td>\n",
              "      <td>40.761270</td>\n",
              "      <td>-73.991242</td>\n",
              "      <td>40.750562</td>\n",
              "      <td>2</td>\n",
              "      <td>0.008504</td>\n",
              "      <td>0.010708</td>\n",
              "    </tr>\n",
              "    <tr>\n",
              "      <th>3</th>\n",
              "      <td>7.7</td>\n",
              "      <td>2012-04-21 04:30:42</td>\n",
              "      <td>-73.987130</td>\n",
              "      <td>40.733143</td>\n",
              "      <td>-73.991567</td>\n",
              "      <td>40.758092</td>\n",
              "      <td>1</td>\n",
              "      <td>0.004437</td>\n",
              "      <td>0.024949</td>\n",
              "    </tr>\n",
              "    <tr>\n",
              "      <th>4</th>\n",
              "      <td>5.3</td>\n",
              "      <td>2010-03-09 07:51:00</td>\n",
              "      <td>-73.968095</td>\n",
              "      <td>40.768008</td>\n",
              "      <td>-73.956655</td>\n",
              "      <td>40.783762</td>\n",
              "      <td>1</td>\n",
              "      <td>0.011440</td>\n",
              "      <td>0.015754</td>\n",
              "    </tr>\n",
              "  </tbody>\n",
              "</table>\n",
              "</div>\n",
              "      <button class=\"colab-df-convert\" onclick=\"convertToInteractive('df-77af4e86-a713-40c2-aacf-0a953dd64c03')\"\n",
              "              title=\"Convert this dataframe to an interactive table.\"\n",
              "              style=\"display:none;\">\n",
              "        \n",
              "  <svg xmlns=\"http://www.w3.org/2000/svg\" height=\"24px\"viewBox=\"0 0 24 24\"\n",
              "       width=\"24px\">\n",
              "    <path d=\"M0 0h24v24H0V0z\" fill=\"none\"/>\n",
              "    <path d=\"M18.56 5.44l.94 2.06.94-2.06 2.06-.94-2.06-.94-.94-2.06-.94 2.06-2.06.94zm-11 1L8.5 8.5l.94-2.06 2.06-.94-2.06-.94L8.5 2.5l-.94 2.06-2.06.94zm10 10l.94 2.06.94-2.06 2.06-.94-2.06-.94-.94-2.06-.94 2.06-2.06.94z\"/><path d=\"M17.41 7.96l-1.37-1.37c-.4-.4-.92-.59-1.43-.59-.52 0-1.04.2-1.43.59L10.3 9.45l-7.72 7.72c-.78.78-.78 2.05 0 2.83L4 21.41c.39.39.9.59 1.41.59.51 0 1.02-.2 1.41-.59l7.78-7.78 2.81-2.81c.8-.78.8-2.07 0-2.86zM5.41 20L4 18.59l7.72-7.72 1.47 1.35L5.41 20z\"/>\n",
              "  </svg>\n",
              "      </button>\n",
              "      \n",
              "  <style>\n",
              "    .colab-df-container {\n",
              "      display:flex;\n",
              "      flex-wrap:wrap;\n",
              "      gap: 12px;\n",
              "    }\n",
              "\n",
              "    .colab-df-convert {\n",
              "      background-color: #E8F0FE;\n",
              "      border: none;\n",
              "      border-radius: 50%;\n",
              "      cursor: pointer;\n",
              "      display: none;\n",
              "      fill: #1967D2;\n",
              "      height: 32px;\n",
              "      padding: 0 0 0 0;\n",
              "      width: 32px;\n",
              "    }\n",
              "\n",
              "    .colab-df-convert:hover {\n",
              "      background-color: #E2EBFA;\n",
              "      box-shadow: 0px 1px 2px rgba(60, 64, 67, 0.3), 0px 1px 3px 1px rgba(60, 64, 67, 0.15);\n",
              "      fill: #174EA6;\n",
              "    }\n",
              "\n",
              "    [theme=dark] .colab-df-convert {\n",
              "      background-color: #3B4455;\n",
              "      fill: #D2E3FC;\n",
              "    }\n",
              "\n",
              "    [theme=dark] .colab-df-convert:hover {\n",
              "      background-color: #434B5C;\n",
              "      box-shadow: 0px 1px 3px 1px rgba(0, 0, 0, 0.15);\n",
              "      filter: drop-shadow(0px 1px 2px rgba(0, 0, 0, 0.3));\n",
              "      fill: #FFFFFF;\n",
              "    }\n",
              "  </style>\n",
              "\n",
              "      <script>\n",
              "        const buttonEl =\n",
              "          document.querySelector('#df-77af4e86-a713-40c2-aacf-0a953dd64c03 button.colab-df-convert');\n",
              "        buttonEl.style.display =\n",
              "          google.colab.kernel.accessAllowed ? 'block' : 'none';\n",
              "\n",
              "        async function convertToInteractive(key) {\n",
              "          const element = document.querySelector('#df-77af4e86-a713-40c2-aacf-0a953dd64c03');\n",
              "          const dataTable =\n",
              "            await google.colab.kernel.invokeFunction('convertToInteractive',\n",
              "                                                     [key], {});\n",
              "          if (!dataTable) return;\n",
              "\n",
              "          const docLinkHtml = 'Like what you see? Visit the ' +\n",
              "            '<a target=\"_blank\" href=https://colab.research.google.com/notebooks/data_table.ipynb>data table notebook</a>'\n",
              "            + ' to learn more about interactive tables.';\n",
              "          element.innerHTML = '';\n",
              "          dataTable['output_type'] = 'display_data';\n",
              "          await google.colab.output.renderOutput(dataTable, element);\n",
              "          const docLink = document.createElement('div');\n",
              "          docLink.innerHTML = docLinkHtml;\n",
              "          element.appendChild(docLink);\n",
              "        }\n",
              "      </script>\n",
              "    </div>\n",
              "  </div>\n",
              "  "
            ]
          },
          "metadata": {},
          "execution_count": 53
        }
      ]
    },
    {
      "cell_type": "markdown",
      "metadata": {
        "id": "pCV5mUM_f6l7"
      },
      "source": [
        "What if your first samples were easier to predict than the later ones?"
      ]
    },
    {
      "cell_type": "code",
      "metadata": {
        "id": "MoBaWmKTfSg3"
      },
      "source": [
        "from sklearn.model_selection import train_test_split\n",
        "train_X, val_X, train_y, val_y = train_test_split(train, np.array(train['fare_amount']), \n",
        "                                                      random_state = 111, \n",
        "                                                      test_size = 0.20) # you can also explicitely say how many observations will be in the validation set"
      ],
      "execution_count": null,
      "outputs": []
    },
    {
      "cell_type": "code",
      "metadata": {
        "id": "w-easQJ0g1p-",
        "colab": {
          "base_uri": "https://localhost:8080/"
        },
        "outputId": "69e9e8bd-8e0d-44f9-998f-ed5d5340c695"
      },
      "source": [
        "print(train_X.shape)\n",
        "print(train_y.shape)\n",
        "print(val_X.shape)\n",
        "print(val_y.shape)"
      ],
      "execution_count": null,
      "outputs": [
        {
          "output_type": "stream",
          "name": "stdout",
          "text": [
            "(798420, 9)\n",
            "(798420,)\n",
            "(199605, 9)\n",
            "(199605,)\n"
          ]
        }
      ]
    },
    {
      "cell_type": "code",
      "metadata": {
        "id": "nXd6FZq5g2wd",
        "colab": {
          "base_uri": "https://localhost:8080/",
          "height": 357
        },
        "outputId": "189b0522-7768-44f7-a2ea-1c9144afc869"
      },
      "source": [
        "train_X[0:5]"
      ],
      "execution_count": null,
      "outputs": [
        {
          "output_type": "execute_result",
          "data": {
            "text/plain": [
              "        fare_amount     pickup_datetime  pickup_longitude  pickup_latitude  \\\n",
              "532805         34.3 2012-03-25 00:48:00        -73.991870        40.725952   \n",
              "568773          4.9 2009-10-05 16:52:00        -74.008297        40.737962   \n",
              "295336          4.5 2014-04-27 19:31:00        -73.986800        40.750375   \n",
              "828760          8.5 2013-01-06 00:50:00        -74.002555        40.739702   \n",
              "731917          8.5 2009-01-05 09:13:50        -73.966283        40.764822   \n",
              "\n",
              "        dropoff_longitude  dropoff_latitude  passenger_count  \\\n",
              "532805         -73.921162         40.880293                1   \n",
              "568773         -74.003597         40.748382                1   \n",
              "295336         -73.987827         40.755322                2   \n",
              "828760         -73.986750         40.764188                5   \n",
              "731917         -73.946407         40.793230                1   \n",
              "\n",
              "        abs_diff_longitude  abs_diff_latitude  \n",
              "532805            0.070708           0.154341  \n",
              "568773            0.004700           0.010420  \n",
              "295336            0.001027           0.004947  \n",
              "828760            0.015805           0.024486  \n",
              "731917            0.019876           0.028408  "
            ],
            "text/html": [
              "\n",
              "  <div id=\"df-84294341-3227-4610-a5fa-173539bc8168\">\n",
              "    <div class=\"colab-df-container\">\n",
              "      <div>\n",
              "<style scoped>\n",
              "    .dataframe tbody tr th:only-of-type {\n",
              "        vertical-align: middle;\n",
              "    }\n",
              "\n",
              "    .dataframe tbody tr th {\n",
              "        vertical-align: top;\n",
              "    }\n",
              "\n",
              "    .dataframe thead th {\n",
              "        text-align: right;\n",
              "    }\n",
              "</style>\n",
              "<table border=\"1\" class=\"dataframe\">\n",
              "  <thead>\n",
              "    <tr style=\"text-align: right;\">\n",
              "      <th></th>\n",
              "      <th>fare_amount</th>\n",
              "      <th>pickup_datetime</th>\n",
              "      <th>pickup_longitude</th>\n",
              "      <th>pickup_latitude</th>\n",
              "      <th>dropoff_longitude</th>\n",
              "      <th>dropoff_latitude</th>\n",
              "      <th>passenger_count</th>\n",
              "      <th>abs_diff_longitude</th>\n",
              "      <th>abs_diff_latitude</th>\n",
              "    </tr>\n",
              "  </thead>\n",
              "  <tbody>\n",
              "    <tr>\n",
              "      <th>532805</th>\n",
              "      <td>34.3</td>\n",
              "      <td>2012-03-25 00:48:00</td>\n",
              "      <td>-73.991870</td>\n",
              "      <td>40.725952</td>\n",
              "      <td>-73.921162</td>\n",
              "      <td>40.880293</td>\n",
              "      <td>1</td>\n",
              "      <td>0.070708</td>\n",
              "      <td>0.154341</td>\n",
              "    </tr>\n",
              "    <tr>\n",
              "      <th>568773</th>\n",
              "      <td>4.9</td>\n",
              "      <td>2009-10-05 16:52:00</td>\n",
              "      <td>-74.008297</td>\n",
              "      <td>40.737962</td>\n",
              "      <td>-74.003597</td>\n",
              "      <td>40.748382</td>\n",
              "      <td>1</td>\n",
              "      <td>0.004700</td>\n",
              "      <td>0.010420</td>\n",
              "    </tr>\n",
              "    <tr>\n",
              "      <th>295336</th>\n",
              "      <td>4.5</td>\n",
              "      <td>2014-04-27 19:31:00</td>\n",
              "      <td>-73.986800</td>\n",
              "      <td>40.750375</td>\n",
              "      <td>-73.987827</td>\n",
              "      <td>40.755322</td>\n",
              "      <td>2</td>\n",
              "      <td>0.001027</td>\n",
              "      <td>0.004947</td>\n",
              "    </tr>\n",
              "    <tr>\n",
              "      <th>828760</th>\n",
              "      <td>8.5</td>\n",
              "      <td>2013-01-06 00:50:00</td>\n",
              "      <td>-74.002555</td>\n",
              "      <td>40.739702</td>\n",
              "      <td>-73.986750</td>\n",
              "      <td>40.764188</td>\n",
              "      <td>5</td>\n",
              "      <td>0.015805</td>\n",
              "      <td>0.024486</td>\n",
              "    </tr>\n",
              "    <tr>\n",
              "      <th>731917</th>\n",
              "      <td>8.5</td>\n",
              "      <td>2009-01-05 09:13:50</td>\n",
              "      <td>-73.966283</td>\n",
              "      <td>40.764822</td>\n",
              "      <td>-73.946407</td>\n",
              "      <td>40.793230</td>\n",
              "      <td>1</td>\n",
              "      <td>0.019876</td>\n",
              "      <td>0.028408</td>\n",
              "    </tr>\n",
              "  </tbody>\n",
              "</table>\n",
              "</div>\n",
              "      <button class=\"colab-df-convert\" onclick=\"convertToInteractive('df-84294341-3227-4610-a5fa-173539bc8168')\"\n",
              "              title=\"Convert this dataframe to an interactive table.\"\n",
              "              style=\"display:none;\">\n",
              "        \n",
              "  <svg xmlns=\"http://www.w3.org/2000/svg\" height=\"24px\"viewBox=\"0 0 24 24\"\n",
              "       width=\"24px\">\n",
              "    <path d=\"M0 0h24v24H0V0z\" fill=\"none\"/>\n",
              "    <path d=\"M18.56 5.44l.94 2.06.94-2.06 2.06-.94-2.06-.94-.94-2.06-.94 2.06-2.06.94zm-11 1L8.5 8.5l.94-2.06 2.06-.94-2.06-.94L8.5 2.5l-.94 2.06-2.06.94zm10 10l.94 2.06.94-2.06 2.06-.94-2.06-.94-.94-2.06-.94 2.06-2.06.94z\"/><path d=\"M17.41 7.96l-1.37-1.37c-.4-.4-.92-.59-1.43-.59-.52 0-1.04.2-1.43.59L10.3 9.45l-7.72 7.72c-.78.78-.78 2.05 0 2.83L4 21.41c.39.39.9.59 1.41.59.51 0 1.02-.2 1.41-.59l7.78-7.78 2.81-2.81c.8-.78.8-2.07 0-2.86zM5.41 20L4 18.59l7.72-7.72 1.47 1.35L5.41 20z\"/>\n",
              "  </svg>\n",
              "      </button>\n",
              "      \n",
              "  <style>\n",
              "    .colab-df-container {\n",
              "      display:flex;\n",
              "      flex-wrap:wrap;\n",
              "      gap: 12px;\n",
              "    }\n",
              "\n",
              "    .colab-df-convert {\n",
              "      background-color: #E8F0FE;\n",
              "      border: none;\n",
              "      border-radius: 50%;\n",
              "      cursor: pointer;\n",
              "      display: none;\n",
              "      fill: #1967D2;\n",
              "      height: 32px;\n",
              "      padding: 0 0 0 0;\n",
              "      width: 32px;\n",
              "    }\n",
              "\n",
              "    .colab-df-convert:hover {\n",
              "      background-color: #E2EBFA;\n",
              "      box-shadow: 0px 1px 2px rgba(60, 64, 67, 0.3), 0px 1px 3px 1px rgba(60, 64, 67, 0.15);\n",
              "      fill: #174EA6;\n",
              "    }\n",
              "\n",
              "    [theme=dark] .colab-df-convert {\n",
              "      background-color: #3B4455;\n",
              "      fill: #D2E3FC;\n",
              "    }\n",
              "\n",
              "    [theme=dark] .colab-df-convert:hover {\n",
              "      background-color: #434B5C;\n",
              "      box-shadow: 0px 1px 3px 1px rgba(0, 0, 0, 0.15);\n",
              "      filter: drop-shadow(0px 1px 2px rgba(0, 0, 0, 0.3));\n",
              "      fill: #FFFFFF;\n",
              "    }\n",
              "  </style>\n",
              "\n",
              "      <script>\n",
              "        const buttonEl =\n",
              "          document.querySelector('#df-84294341-3227-4610-a5fa-173539bc8168 button.colab-df-convert');\n",
              "        buttonEl.style.display =\n",
              "          google.colab.kernel.accessAllowed ? 'block' : 'none';\n",
              "\n",
              "        async function convertToInteractive(key) {\n",
              "          const element = document.querySelector('#df-84294341-3227-4610-a5fa-173539bc8168');\n",
              "          const dataTable =\n",
              "            await google.colab.kernel.invokeFunction('convertToInteractive',\n",
              "                                                     [key], {});\n",
              "          if (!dataTable) return;\n",
              "\n",
              "          const docLinkHtml = 'Like what you see? Visit the ' +\n",
              "            '<a target=\"_blank\" href=https://colab.research.google.com/notebooks/data_table.ipynb>data table notebook</a>'\n",
              "            + ' to learn more about interactive tables.';\n",
              "          element.innerHTML = '';\n",
              "          dataTable['output_type'] = 'display_data';\n",
              "          await google.colab.output.renderOutput(dataTable, element);\n",
              "          const docLink = document.createElement('div');\n",
              "          docLink.innerHTML = docLinkHtml;\n",
              "          element.appendChild(docLink);\n",
              "        }\n",
              "      </script>\n",
              "    </div>\n",
              "  </div>\n",
              "  "
            ]
          },
          "metadata": {},
          "execution_count": 56
        }
      ]
    },
    {
      "cell_type": "markdown",
      "metadata": {
        "id": "iPF-eOJRq4Ll"
      },
      "source": [
        "We can train our models on training data and evaluating them on validation set to obtain more realistic estimates of RMSE. Let's see if this works with our decision tree model."
      ]
    },
    {
      "cell_type": "code",
      "metadata": {
        "id": "BRLXYm4JqM90",
        "colab": {
          "base_uri": "https://localhost:8080/"
        },
        "outputId": "4f32aad0-bdf4-4718-e569-92fc25fcdf30"
      },
      "source": [
        "dtr=DecisionTreeRegressor(max_depth = 100) \n",
        "dtr.fit(train_X[['abs_diff_longitude', 'abs_diff_latitude']], train_y)"
      ],
      "execution_count": null,
      "outputs": [
        {
          "output_type": "execute_result",
          "data": {
            "text/plain": [
              "DecisionTreeRegressor(max_depth=100)"
            ]
          },
          "metadata": {},
          "execution_count": 69
        }
      ]
    },
    {
      "cell_type": "code",
      "metadata": {
        "id": "XVBrU3RbsGNG",
        "colab": {
          "base_uri": "https://localhost:8080/"
        },
        "outputId": "66dc6e8c-c652-4b71-da1b-658fc19ea288"
      },
      "source": [
        "mean_squared_error(train_y, dtr.predict(train_X[['abs_diff_longitude', 'abs_diff_latitude']]), squared=False)"
      ],
      "execution_count": null,
      "outputs": [
        {
          "output_type": "execute_result",
          "data": {
            "text/plain": [
              "2.5138894597895542"
            ]
          },
          "metadata": {},
          "execution_count": 70
        }
      ]
    },
    {
      "cell_type": "code",
      "metadata": {
        "id": "Z6CMmIW-g-hh",
        "colab": {
          "base_uri": "https://localhost:8080/"
        },
        "outputId": "75baa3f2-0f17-4586-bfa3-f3ce95f7fcfe"
      },
      "source": [
        "mean_squared_error(val_y, dtr.predict(val_X[['abs_diff_longitude', 'abs_diff_latitude']]), squared=False)"
      ],
      "execution_count": null,
      "outputs": [
        {
          "output_type": "execute_result",
          "data": {
            "text/plain": [
              "6.649117754130024"
            ]
          },
          "metadata": {},
          "execution_count": 71
        }
      ]
    },
    {
      "cell_type": "markdown",
      "metadata": {
        "id": "ZPy_G_6MoShz"
      },
      "source": [
        "if you increase the depth of the decision tree (e.g. to 100), you will see that the gap between validation and train RMSE also grows. **What could be the reason?**"
      ]
    },
    {
      "cell_type": "markdown",
      "metadata": {
        "id": "iSVKmeImszQP"
      },
      "source": [
        "Now train a new decision tree instance on the whole dataset (train + validation sets combined) with a reasonable `max_depth`."
      ]
    },
    {
      "cell_type": "code",
      "metadata": {
        "id": "UQ-CkMZ3kAOV",
        "colab": {
          "base_uri": "https://localhost:8080/"
        },
        "outputId": "67e50ec3-76dd-43ac-e96e-dfa02688e04b"
      },
      "source": [
        "dtr=DecisionTreeRegressor(max_depth = 10) \n",
        "dtr.fit(train[['abs_diff_longitude', 'abs_diff_latitude']], train[['fare_amount']])"
      ],
      "execution_count": null,
      "outputs": [
        {
          "output_type": "execute_result",
          "data": {
            "text/plain": [
              "DecisionTreeRegressor(max_depth=10)"
            ]
          },
          "metadata": {},
          "execution_count": 66
        }
      ]
    },
    {
      "cell_type": "code",
      "metadata": {
        "id": "vF-QZAv6s5-z",
        "colab": {
          "base_uri": "https://localhost:8080/"
        },
        "outputId": "0a42ced7-29d6-496f-b213-dd4fe56f7f3a"
      },
      "source": [
        "test_y_predictions = dtr.predict(test[['abs_diff_longitude', 'abs_diff_latitude']])\n",
        "\n",
        "# Write the predictions to a CSV file which we can submit to the competition.\n",
        "submission = pd.DataFrame(\n",
        "    {'key': test.key, 'fare_amount': test_y_predictions},\n",
        "    columns = ['key', 'fare_amount'])\n",
        "submission.to_csv('submission_dt.csv', index = False)\n",
        "\n",
        "!ls"
      ],
      "execution_count": null,
      "outputs": [
        {
          "output_type": "stream",
          "name": "stdout",
          "text": [
            "linear_regression.pickle  sample_submission.csv    submission_lr_3d.csv\n",
            "model.pickle\t\t  submission_baseline.csv  test.csv\n",
            "nyc_data_2.zip\t\t  submission_dt.csv\t   train_2M.csv\n",
            "sample_data\t\t  submission_lr_2d.csv\n"
          ]
        }
      ]
    },
    {
      "cell_type": "code",
      "metadata": {
        "id": "pihqbIH3s9QK",
        "colab": {
          "base_uri": "https://localhost:8080/"
        },
        "outputId": "fa42a256-2434-4c69-fc3b-14d38376fd2b"
      },
      "source": [
        "!kaggle competitions submit -c new-york-city-taxi-fare-prediction -f submission_dt.csv -m \"Decision Tree Regressor using 1M records and max_depth = 10\""
      ],
      "execution_count": null,
      "outputs": [
        {
          "output_type": "stream",
          "name": "stdout",
          "text": [
            "100% 454k/454k [00:00<00:00, 1.11MB/s]\n",
            "Successfully submitted to New York City Taxi Fare Prediction"
          ]
        }
      ]
    },
    {
      "cell_type": "code",
      "source": [],
      "metadata": {
        "id": "JFR-OE39ZZFQ"
      },
      "execution_count": null,
      "outputs": []
    }
  ]
}